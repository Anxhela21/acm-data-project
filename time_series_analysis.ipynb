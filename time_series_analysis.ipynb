{
 "cells": [
  {
   "cell_type": "code",
   "execution_count": 1,
   "id": "21d93b94-b723-4cae-bfa0-5b31ee9e2b4b",
   "metadata": {},
   "outputs": [],
   "source": [
    "from prometheus_api_client import *\n",
    "import prometheus_api_client\n",
    "from prometheus_api_client.utils import parse_datetime, parse_timedelta\n",
    "import matplotlib.pyplot as plt\n",
    "import os\n",
    "import numpy as np\n",
    "import sys\n",
    "import datetime\n",
    "import pandas as pd\n",
    "# import seaborn as sns\n",
    "# # Set default Seaborn style\n",
    "# sns.set(style=\"darkgrid\")\n",
    "# sns.set_context(\"talk\", font_scale=1.4)\n",
    "## hides ipython warnings\n",
    "import warnings\n",
    "warnings.filterwarnings('ignore')\n",
    "plt.rcParams['figure.figsize'] = (30, 10)\n",
    "#plt.rcParams['figure.figsize'] = (20, 5)"
   ]
  },
  {
   "cell_type": "code",
   "execution_count": 4,
   "id": "46487c24-ea16-4130-9c8e-a44d9e914c45",
   "metadata": {},
   "outputs": [],
   "source": [
    "sample_df = pd.read_csv('sample_cluster_15d_15_min_int.csv',index_col='timestamp')"
   ]
  },
  {
   "cell_type": "code",
   "execution_count": 5,
   "id": "cad75fef-9f7f-457b-b3e5-9e5b1a0e89fc",
   "metadata": {},
   "outputs": [
    {
     "data": {
      "text/html": [
       "<div>\n",
       "<style scoped>\n",
       "    .dataframe tbody tr th:only-of-type {\n",
       "        vertical-align: middle;\n",
       "    }\n",
       "\n",
       "    .dataframe tbody tr th {\n",
       "        vertical-align: top;\n",
       "    }\n",
       "\n",
       "    .dataframe thead th {\n",
       "        text-align: right;\n",
       "    }\n",
       "</style>\n",
       "<table border=\"1\" class=\"dataframe\">\n",
       "  <thead>\n",
       "    <tr style=\"text-align: right;\">\n",
       "      <th></th>\n",
       "      <th>Cpu_usage</th>\n",
       "      <th>Memory_usage(bytes)</th>\n",
       "      <th>api_server_requests</th>\n",
       "      <th>api_server_requests_lt</th>\n",
       "    </tr>\n",
       "    <tr>\n",
       "      <th>timestamp</th>\n",
       "      <th></th>\n",
       "      <th></th>\n",
       "      <th></th>\n",
       "      <th></th>\n",
       "    </tr>\n",
       "  </thead>\n",
       "  <tbody>\n",
       "    <tr>\n",
       "      <th>2022-05-24 06:10:09</th>\n",
       "      <td>10.851524</td>\n",
       "      <td>7.902974e+10</td>\n",
       "      <td>29</td>\n",
       "      <td>3.367296</td>\n",
       "    </tr>\n",
       "    <tr>\n",
       "      <th>2022-05-24 06:25:09</th>\n",
       "      <td>10.313238</td>\n",
       "      <td>7.976337e+10</td>\n",
       "      <td>37</td>\n",
       "      <td>3.610918</td>\n",
       "    </tr>\n",
       "    <tr>\n",
       "      <th>2022-05-24 06:40:09</th>\n",
       "      <td>10.851333</td>\n",
       "      <td>7.848636e+10</td>\n",
       "      <td>19</td>\n",
       "      <td>2.944439</td>\n",
       "    </tr>\n",
       "    <tr>\n",
       "      <th>2022-05-24 06:55:09</th>\n",
       "      <td>10.411907</td>\n",
       "      <td>8.006373e+10</td>\n",
       "      <td>30</td>\n",
       "      <td>3.401197</td>\n",
       "    </tr>\n",
       "    <tr>\n",
       "      <th>2022-05-24 07:10:09</th>\n",
       "      <td>10.873429</td>\n",
       "      <td>7.883173e+10</td>\n",
       "      <td>21</td>\n",
       "      <td>3.044522</td>\n",
       "    </tr>\n",
       "  </tbody>\n",
       "</table>\n",
       "</div>"
      ],
      "text/plain": [
       "                     Cpu_usage  Memory_usage(bytes)  api_server_requests  \\\n",
       "timestamp                                                                  \n",
       "2022-05-24 06:10:09  10.851524         7.902974e+10                   29   \n",
       "2022-05-24 06:25:09  10.313238         7.976337e+10                   37   \n",
       "2022-05-24 06:40:09  10.851333         7.848636e+10                   19   \n",
       "2022-05-24 06:55:09  10.411907         8.006373e+10                   30   \n",
       "2022-05-24 07:10:09  10.873429         7.883173e+10                   21   \n",
       "\n",
       "                     api_server_requests_lt  \n",
       "timestamp                                    \n",
       "2022-05-24 06:10:09                3.367296  \n",
       "2022-05-24 06:25:09                3.610918  \n",
       "2022-05-24 06:40:09                2.944439  \n",
       "2022-05-24 06:55:09                3.401197  \n",
       "2022-05-24 07:10:09                3.044522  "
      ]
     },
     "execution_count": 5,
     "metadata": {},
     "output_type": "execute_result"
    }
   ],
   "source": [
    "sample_df.head()"
   ]
  },
  {
   "cell_type": "code",
   "execution_count": 6,
   "id": "eff64073-f4d2-4ecc-bac5-75939585a2b0",
   "metadata": {},
   "outputs": [],
   "source": [
    "from sklearn.preprocessing import StandardScaler"
   ]
  },
  {
   "cell_type": "code",
   "execution_count": 7,
   "id": "7b510d2b-e3a1-4352-80a6-cfd8f4ba9c1e",
   "metadata": {},
   "outputs": [],
   "source": [
    "scaler = StandardScaler()"
   ]
  },
  {
   "cell_type": "code",
   "execution_count": 10,
   "id": "89452b37-b8db-431f-ad0a-6569d95e2696",
   "metadata": {},
   "outputs": [
    {
     "data": {
      "text/html": [
       "<style>#sk-container-id-1 {color: black;background-color: white;}#sk-container-id-1 pre{padding: 0;}#sk-container-id-1 div.sk-toggleable {background-color: white;}#sk-container-id-1 label.sk-toggleable__label {cursor: pointer;display: block;width: 100%;margin-bottom: 0;padding: 0.3em;box-sizing: border-box;text-align: center;}#sk-container-id-1 label.sk-toggleable__label-arrow:before {content: \"▸\";float: left;margin-right: 0.25em;color: #696969;}#sk-container-id-1 label.sk-toggleable__label-arrow:hover:before {color: black;}#sk-container-id-1 div.sk-estimator:hover label.sk-toggleable__label-arrow:before {color: black;}#sk-container-id-1 div.sk-toggleable__content {max-height: 0;max-width: 0;overflow: hidden;text-align: left;background-color: #f0f8ff;}#sk-container-id-1 div.sk-toggleable__content pre {margin: 0.2em;color: black;border-radius: 0.25em;background-color: #f0f8ff;}#sk-container-id-1 input.sk-toggleable__control:checked~div.sk-toggleable__content {max-height: 200px;max-width: 100%;overflow: auto;}#sk-container-id-1 input.sk-toggleable__control:checked~label.sk-toggleable__label-arrow:before {content: \"▾\";}#sk-container-id-1 div.sk-estimator input.sk-toggleable__control:checked~label.sk-toggleable__label {background-color: #d4ebff;}#sk-container-id-1 div.sk-label input.sk-toggleable__control:checked~label.sk-toggleable__label {background-color: #d4ebff;}#sk-container-id-1 input.sk-hidden--visually {border: 0;clip: rect(1px 1px 1px 1px);clip: rect(1px, 1px, 1px, 1px);height: 1px;margin: -1px;overflow: hidden;padding: 0;position: absolute;width: 1px;}#sk-container-id-1 div.sk-estimator {font-family: monospace;background-color: #f0f8ff;border: 1px dotted black;border-radius: 0.25em;box-sizing: border-box;margin-bottom: 0.5em;}#sk-container-id-1 div.sk-estimator:hover {background-color: #d4ebff;}#sk-container-id-1 div.sk-parallel-item::after {content: \"\";width: 100%;border-bottom: 1px solid gray;flex-grow: 1;}#sk-container-id-1 div.sk-label:hover label.sk-toggleable__label {background-color: #d4ebff;}#sk-container-id-1 div.sk-serial::before {content: \"\";position: absolute;border-left: 1px solid gray;box-sizing: border-box;top: 0;bottom: 0;left: 50%;z-index: 0;}#sk-container-id-1 div.sk-serial {display: flex;flex-direction: column;align-items: center;background-color: white;padding-right: 0.2em;padding-left: 0.2em;position: relative;}#sk-container-id-1 div.sk-item {position: relative;z-index: 1;}#sk-container-id-1 div.sk-parallel {display: flex;align-items: stretch;justify-content: center;background-color: white;position: relative;}#sk-container-id-1 div.sk-item::before, #sk-container-id-1 div.sk-parallel-item::before {content: \"\";position: absolute;border-left: 1px solid gray;box-sizing: border-box;top: 0;bottom: 0;left: 50%;z-index: -1;}#sk-container-id-1 div.sk-parallel-item {display: flex;flex-direction: column;z-index: 1;position: relative;background-color: white;}#sk-container-id-1 div.sk-parallel-item:first-child::after {align-self: flex-end;width: 50%;}#sk-container-id-1 div.sk-parallel-item:last-child::after {align-self: flex-start;width: 50%;}#sk-container-id-1 div.sk-parallel-item:only-child::after {width: 0;}#sk-container-id-1 div.sk-dashed-wrapped {border: 1px dashed gray;margin: 0 0.4em 0.5em 0.4em;box-sizing: border-box;padding-bottom: 0.4em;background-color: white;}#sk-container-id-1 div.sk-label label {font-family: monospace;font-weight: bold;display: inline-block;line-height: 1.2em;}#sk-container-id-1 div.sk-label-container {text-align: center;}#sk-container-id-1 div.sk-container {/* jupyter's `normalize.less` sets `[hidden] { display: none; }` but bootstrap.min.css set `[hidden] { display: none !important; }` so we also need the `!important` here to be able to override the default hidden behavior on the sphinx rendered scikit-learn.org. See: https://github.com/scikit-learn/scikit-learn/issues/21755 */display: inline-block !important;position: relative;}#sk-container-id-1 div.sk-text-repr-fallback {display: none;}</style><div id=\"sk-container-id-1\" class=\"sk-top-container\"><div class=\"sk-text-repr-fallback\"><pre>StandardScaler()</pre><b>In a Jupyter environment, please rerun this cell to show the HTML representation or trust the notebook. <br />On GitHub, the HTML representation is unable to render, please try loading this page with nbviewer.org.</b></div><div class=\"sk-container\" hidden><div class=\"sk-item\"><div class=\"sk-estimator sk-toggleable\"><input class=\"sk-toggleable__control sk-hidden--visually\" id=\"sk-estimator-id-1\" type=\"checkbox\" checked><label for=\"sk-estimator-id-1\" class=\"sk-toggleable__label sk-toggleable__label-arrow\">StandardScaler</label><div class=\"sk-toggleable__content\"><pre>StandardScaler()</pre></div></div></div></div></div>"
      ],
      "text/plain": [
       "StandardScaler()"
      ]
     },
     "execution_count": 10,
     "metadata": {},
     "output_type": "execute_result"
    }
   ],
   "source": [
    "scaler.fit(sample_df['Memory_usage(bytes)'].values.reshape(-1,1))"
   ]
  },
  {
   "cell_type": "code",
   "execution_count": 12,
   "id": "a5b52bca-6ef5-4566-afaf-56af9a07ff19",
   "metadata": {},
   "outputs": [],
   "source": [
    "sample_df['Memory_usage(bytes)'] = scaler.transform(sample_df['Memory_usage(bytes)'].values.reshape(-1,1))"
   ]
  },
  {
   "cell_type": "code",
   "execution_count": 13,
   "id": "8cc8c960-922c-436d-9069-d16c22a0f84a",
   "metadata": {},
   "outputs": [
    {
     "data": {
      "text/html": [
       "<div>\n",
       "<style scoped>\n",
       "    .dataframe tbody tr th:only-of-type {\n",
       "        vertical-align: middle;\n",
       "    }\n",
       "\n",
       "    .dataframe tbody tr th {\n",
       "        vertical-align: top;\n",
       "    }\n",
       "\n",
       "    .dataframe thead th {\n",
       "        text-align: right;\n",
       "    }\n",
       "</style>\n",
       "<table border=\"1\" class=\"dataframe\">\n",
       "  <thead>\n",
       "    <tr style=\"text-align: right;\">\n",
       "      <th></th>\n",
       "      <th>Cpu_usage</th>\n",
       "      <th>Memory_usage(bytes)</th>\n",
       "      <th>api_server_requests</th>\n",
       "      <th>api_server_requests_lt</th>\n",
       "    </tr>\n",
       "    <tr>\n",
       "      <th>timestamp</th>\n",
       "      <th></th>\n",
       "      <th></th>\n",
       "      <th></th>\n",
       "      <th></th>\n",
       "    </tr>\n",
       "  </thead>\n",
       "  <tbody>\n",
       "    <tr>\n",
       "      <th>2022-05-24 06:10:09</th>\n",
       "      <td>10.851524</td>\n",
       "      <td>0.847365</td>\n",
       "      <td>29</td>\n",
       "      <td>3.367296</td>\n",
       "    </tr>\n",
       "    <tr>\n",
       "      <th>2022-05-24 06:25:09</th>\n",
       "      <td>10.313238</td>\n",
       "      <td>1.160429</td>\n",
       "      <td>37</td>\n",
       "      <td>3.610918</td>\n",
       "    </tr>\n",
       "    <tr>\n",
       "      <th>2022-05-24 06:40:09</th>\n",
       "      <td>10.851333</td>\n",
       "      <td>0.615487</td>\n",
       "      <td>19</td>\n",
       "      <td>2.944439</td>\n",
       "    </tr>\n",
       "    <tr>\n",
       "      <th>2022-05-24 06:55:09</th>\n",
       "      <td>10.411907</td>\n",
       "      <td>1.288604</td>\n",
       "      <td>30</td>\n",
       "      <td>3.401197</td>\n",
       "    </tr>\n",
       "    <tr>\n",
       "      <th>2022-05-24 07:10:09</th>\n",
       "      <td>10.873429</td>\n",
       "      <td>0.762870</td>\n",
       "      <td>21</td>\n",
       "      <td>3.044522</td>\n",
       "    </tr>\n",
       "  </tbody>\n",
       "</table>\n",
       "</div>"
      ],
      "text/plain": [
       "                     Cpu_usage  Memory_usage(bytes)  api_server_requests  \\\n",
       "timestamp                                                                  \n",
       "2022-05-24 06:10:09  10.851524             0.847365                   29   \n",
       "2022-05-24 06:25:09  10.313238             1.160429                   37   \n",
       "2022-05-24 06:40:09  10.851333             0.615487                   19   \n",
       "2022-05-24 06:55:09  10.411907             1.288604                   30   \n",
       "2022-05-24 07:10:09  10.873429             0.762870                   21   \n",
       "\n",
       "                     api_server_requests_lt  \n",
       "timestamp                                    \n",
       "2022-05-24 06:10:09                3.367296  \n",
       "2022-05-24 06:25:09                3.610918  \n",
       "2022-05-24 06:40:09                2.944439  \n",
       "2022-05-24 06:55:09                3.401197  \n",
       "2022-05-24 07:10:09                3.044522  "
      ]
     },
     "execution_count": 13,
     "metadata": {},
     "output_type": "execute_result"
    }
   ],
   "source": [
    "sample_df.head()"
   ]
  },
  {
   "cell_type": "code",
   "execution_count": 14,
   "id": "ec3b2ad9-0058-496f-a19e-1b6a311b3ecc",
   "metadata": {},
   "outputs": [],
   "source": [
    "from statsmodels.tsa.stattools import adfuller"
   ]
  },
  {
   "cell_type": "code",
   "execution_count": 15,
   "id": "a238f845-b8c4-45a5-ba5c-9c1846f578aa",
   "metadata": {},
   "outputs": [],
   "source": [
    "def adfuller_test(series, sig=0.05, name=''):\n",
    "    res = adfuller(series, autolag='AIC')\n",
    "    p_value = round(res[1],3)\n",
    "    if p_value <= sig:\n",
    "        print(f'{name} has p-value: {p_value}. It is stationary')\n",
    "    else:\n",
    "        print(f'{name} has p-value: {p_value}. It is non-stationary')"
   ]
  },
  {
   "cell_type": "code",
   "execution_count": 16,
   "id": "9a2883c0-3495-4dbb-99bc-5a8d334106cb",
   "metadata": {},
   "outputs": [
    {
     "name": "stdout",
     "output_type": "stream",
     "text": [
      "Cpu_usage has p-value: 0.66. It is non-stationary\n",
      "Memory_usage(bytes) has p-value: 0.066. It is non-stationary\n",
      "api_server_requests has p-value: 0.0. It is stationary\n",
      "api_server_requests_lt has p-value: 0.0. It is stationary\n"
     ]
    }
   ],
   "source": [
    "for name, column in sample_df.iteritems():\n",
    "    #print(name,column)\n",
    "    adfuller_test(column,name=name)"
   ]
  },
  {
   "cell_type": "code",
   "execution_count": 17,
   "id": "7704eb34-b539-4d3b-b5a8-2bbb2192f7e4",
   "metadata": {},
   "outputs": [],
   "source": [
    "sample_df_differenced = sample_df.diff().dropna()"
   ]
  },
  {
   "cell_type": "code",
   "execution_count": 83,
   "id": "ac3d1816-52ec-46ae-8587-43f9f8c661f6",
   "metadata": {},
   "outputs": [
    {
     "data": {
      "text/plain": [
       "(1484, 4)"
      ]
     },
     "execution_count": 83,
     "metadata": {},
     "output_type": "execute_result"
    }
   ],
   "source": [
    "sample_df_differenced.shape"
   ]
  },
  {
   "cell_type": "code",
   "execution_count": 106,
   "id": "968443e8-011f-4764-a53c-a3bb09020241",
   "metadata": {},
   "outputs": [],
   "source": [
    "sample_df_differenced.drop(columns=['api_server_requests'],inplace=True)"
   ]
  },
  {
   "cell_type": "code",
   "execution_count": 22,
   "id": "8ee0ca2d-683c-4da7-b403-c6e57192d6a5",
   "metadata": {},
   "outputs": [],
   "source": [
    "import statsmodels.api as sm"
   ]
  },
  {
   "cell_type": "code",
   "execution_count": 26,
   "id": "e3c69093-3e4d-47f8-a2c1-fb9a9e08634d",
   "metadata": {},
   "outputs": [
    {
     "data": {
      "text/plain": [
       "Index(['2022-05-24 06:10:09', '2022-05-24 06:25:09', '2022-05-24 06:40:09',\n",
       "       '2022-05-24 06:55:09', '2022-05-24 07:10:09', '2022-05-24 07:25:09',\n",
       "       '2022-05-24 07:40:09', '2022-05-24 07:55:09', '2022-05-24 08:10:09',\n",
       "       '2022-05-24 08:25:09',\n",
       "       ...\n",
       "       '2022-06-08 14:55:09', '2022-06-08 15:10:09', '2022-06-08 15:25:09',\n",
       "       '2022-06-08 15:40:09', '2022-06-08 15:55:09', '2022-06-08 16:10:09',\n",
       "       '2022-06-08 16:25:09', '2022-06-08 16:40:09', '2022-06-08 16:55:09',\n",
       "       '2022-06-08 17:10:09'],\n",
       "      dtype='object', name='timestamp', length=1485)"
      ]
     },
     "execution_count": 26,
     "metadata": {},
     "output_type": "execute_result"
    }
   ],
   "source": [
    "sample_df.index"
   ]
  },
  {
   "cell_type": "code",
   "execution_count": 107,
   "id": "6f32dcee-eb9f-4083-afa5-3dc309a6d57d",
   "metadata": {},
   "outputs": [],
   "source": [
    "length = len(sample_df_differenced)"
   ]
  },
  {
   "cell_type": "code",
   "execution_count": 148,
   "id": "c97e2ad8-dea3-43ec-9cdd-7b9b4dbfecb3",
   "metadata": {},
   "outputs": [
    {
     "data": {
      "text/plain": [
       "1261"
      ]
     },
     "execution_count": 148,
     "metadata": {},
     "output_type": "execute_result"
    }
   ],
   "source": [
    "split_ratio = 0.85\n",
    "int(length*split_ratio)"
   ]
  },
  {
   "cell_type": "markdown",
   "id": "8b36d91b-29f6-4b67-88b0-bd276653229d",
   "metadata": {},
   "source": [
    "Performing Co Integration Test to check if there is statistical significance between the time series data"
   ]
  },
  {
   "cell_type": "code",
   "execution_count": 143,
   "id": "18baec19-1a3e-46f9-add6-60b704682130",
   "metadata": {},
   "outputs": [],
   "source": [
    "from statsmodels.tsa.vector_ar.vecm import coint_johansen"
   ]
  },
  {
   "cell_type": "code",
   "execution_count": 144,
   "id": "ff8f6480-51b5-43d9-917d-796e3e5490cd",
   "metadata": {},
   "outputs": [
    {
     "name": "stdout",
     "output_type": "stream",
     "text": [
      "Name   ::  Test Stat > C(95%)    =>   Signif  \n",
      " ----------------------------------------\n",
      "Cpu_usage ::  1362.13   > 24.2761   =>   True\n",
      "Memory_usage(bytes) ::  807.71    > 12.3212   =>   True\n",
      "api_server_requests_lt ::  306.55    > 4.1296    =>   True\n"
     ]
    }
   ],
   "source": [
    "def cointegration_test(df, alpha=0.05): \n",
    "    \"\"\"Perform Johanson's Cointegration Test and Report Summary\"\"\"\n",
    "    out = coint_johansen(df,-1,5)\n",
    "    d = {'0.90':0, '0.95':1, '0.99':2}\n",
    "    traces = out.lr1\n",
    "    cvts = out.cvt[:, d[str(1-alpha)]]\n",
    "    def adjust(val, length= 6): return str(val).ljust(length)\n",
    "\n",
    "    # Summary\n",
    "    print('Name   ::  Test Stat > C(95%)    =>   Signif  \\n', '--'*20)\n",
    "    for col, trace, cvt in zip(df.columns, traces, cvts):\n",
    "        print(adjust(col), ':: ', adjust(round(trace,2), 9), \">\", adjust(cvt, 8), ' =>  ' , trace > cvt)\n",
    "\n",
    "cointegration_test(sample_df_differenced)"
   ]
  },
  {
   "cell_type": "code",
   "execution_count": 154,
   "id": "ed4f3c5c-2cc0-4a83-9d7f-3650caa95719",
   "metadata": {},
   "outputs": [],
   "source": [
    "df_train = sample_df_differenced[:int(length*split_ratio)]\n",
    "df_test = sample_df_differenced[int(length*split_ratio):]"
   ]
  },
  {
   "cell_type": "markdown",
   "id": "d2cfc73b-fb2e-47f0-ada9-654688f5962d",
   "metadata": {},
   "source": [
    "Trying VAR Model"
   ]
  },
  {
   "cell_type": "code",
   "execution_count": 110,
   "id": "d393047c-86f8-4ad2-9c0b-9d6740a010ef",
   "metadata": {},
   "outputs": [],
   "source": [
    "from statsmodels.tsa.api import VAR"
   ]
  },
  {
   "cell_type": "code",
   "execution_count": 155,
   "id": "8d73d1e8-ce66-4400-ae32-e3a08d01678c",
   "metadata": {},
   "outputs": [
    {
     "name": "stdout",
     "output_type": "stream",
     "text": [
      "(1261, 3) (223, 3)\n"
     ]
    }
   ],
   "source": [
    "print(df_train.shape,df_test.shape)"
   ]
  },
  {
   "cell_type": "code",
   "execution_count": 127,
   "id": "55d822c2-8306-4bfe-8734-800aecaa2f53",
   "metadata": {},
   "outputs": [
    {
     "name": "stderr",
     "output_type": "stream",
     "text": [
      "/Library/Frameworks/Python.framework/Versions/3.10/lib/python3.10/site-packages/statsmodels/tsa/base/tsa_model.py:471: ValueWarning: No frequency information was provided, so inferred frequency 15T will be used.\n",
      "  self._init_dates(dates, freq)\n"
     ]
    }
   ],
   "source": []
  },
  {
   "cell_type": "code",
   "execution_count": 158,
   "id": "6109f7fa-088b-43b1-86f1-0e79d1baa3ea",
   "metadata": {},
   "outputs": [
    {
     "name": "stdout",
     "output_type": "stream",
     "text": [
      "Lag Order = 1 AIC : -6.275183674925329 BIC : -6.226242084449657 FPE : 0.0018824453844847743 HQIC: -6.256792168634302\n",
      "\n",
      "Lag Order = 2 AIC : -6.395303087936481 BIC : -6.309600519457585 FPE : 0.001669380391961887 HQIC: -6.363096098275596\n",
      "\n",
      "Lag Order = 3 AIC : -6.514577875476119 BIC : -6.392067260915061 FPE : 0.0014816827099950456 HQIC: -6.4685366259164105\n",
      "\n",
      "Lag Order = 4 AIC : -6.552834806590932 BIC : -6.393468979116771 FPE : 0.0014260703932228818 HQIC: -6.492940480130239\n",
      "\n",
      "Lag Order = 5 AIC : -6.59726026394014 BIC : -6.400991957684288 FPE : 0.001364105837554179 HQIC: -6.52349400298415\n",
      "\n",
      "Lag Order = 6 AIC : -6.623511825499913 BIC : -6.3902936752694295 FPE : 0.0013287656046195948 HQIC: -6.535854731742768\n",
      "\n",
      "Lag Order = 7 AIC : -6.628769154955321 BIC : -6.3585536959451705 FPE : 0.001321803280066201 HQIC: -6.527202289259783\n",
      "\n",
      "Lag Order = 8 AIC : -6.668528638221862 BIC : -6.361268305726088 FPE : 0.0012702865817129615 HQIC: -6.553033020499022\n",
      "\n",
      "Lag Order = 9 AIC : -6.681243912542037 BIC : -6.336891041663887 FPE : 0.0012542449329251135 HQIC: -6.5518005216305815\n",
      "\n"
     ]
    },
    {
     "name": "stderr",
     "output_type": "stream",
     "text": [
      "/Library/Frameworks/Python.framework/Versions/3.10/lib/python3.10/site-packages/statsmodels/tsa/base/tsa_model.py:471: ValueWarning: No frequency information was provided, so inferred frequency 15T will be used.\n",
      "  self._init_dates(dates, freq)\n",
      "/Library/Frameworks/Python.framework/Versions/3.10/lib/python3.10/site-packages/statsmodels/tsa/base/tsa_model.py:471: ValueWarning: No frequency information was provided, so inferred frequency 15T will be used.\n",
      "  self._init_dates(dates, freq)\n",
      "/Library/Frameworks/Python.framework/Versions/3.10/lib/python3.10/site-packages/statsmodels/tsa/base/tsa_model.py:471: ValueWarning: No frequency information was provided, so inferred frequency 15T will be used.\n",
      "  self._init_dates(dates, freq)\n",
      "/Library/Frameworks/Python.framework/Versions/3.10/lib/python3.10/site-packages/statsmodels/tsa/base/tsa_model.py:471: ValueWarning: No frequency information was provided, so inferred frequency 15T will be used.\n",
      "  self._init_dates(dates, freq)\n",
      "/Library/Frameworks/Python.framework/Versions/3.10/lib/python3.10/site-packages/statsmodels/tsa/base/tsa_model.py:471: ValueWarning: No frequency information was provided, so inferred frequency 15T will be used.\n",
      "  self._init_dates(dates, freq)\n",
      "/Library/Frameworks/Python.framework/Versions/3.10/lib/python3.10/site-packages/statsmodels/tsa/base/tsa_model.py:471: ValueWarning: No frequency information was provided, so inferred frequency 15T will be used.\n",
      "  self._init_dates(dates, freq)\n",
      "/Library/Frameworks/Python.framework/Versions/3.10/lib/python3.10/site-packages/statsmodels/tsa/base/tsa_model.py:471: ValueWarning: No frequency information was provided, so inferred frequency 15T will be used.\n",
      "  self._init_dates(dates, freq)\n",
      "/Library/Frameworks/Python.framework/Versions/3.10/lib/python3.10/site-packages/statsmodels/tsa/base/tsa_model.py:471: ValueWarning: No frequency information was provided, so inferred frequency 15T will be used.\n",
      "  self._init_dates(dates, freq)\n",
      "/Library/Frameworks/Python.framework/Versions/3.10/lib/python3.10/site-packages/statsmodels/tsa/base/tsa_model.py:471: ValueWarning: No frequency information was provided, so inferred frequency 15T will be used.\n",
      "  self._init_dates(dates, freq)\n"
     ]
    }
   ],
   "source": [
    "for i in range(1,10):\n",
    "    model = VAR(df_train)\n",
    "    result = model.fit(i)\n",
    "    print(f'Lag Order = {i} AIC : {result.aic} BIC : {result.bic} FPE : {result.fpe} HQIC: {result.hqic}\\n')"
   ]
  },
  {
   "cell_type": "code",
   "execution_count": 159,
   "id": "5e8c5a42-f837-475b-a285-f3f9a5d4c79f",
   "metadata": {},
   "outputs": [],
   "source": [
    "x = model.select_order(maxlags=12)"
   ]
  },
  {
   "cell_type": "code",
   "execution_count": 129,
   "id": "8ed418b3-603f-4952-9d77-0ae3a3cb05d7",
   "metadata": {},
   "outputs": [
    {
     "data": {
      "text/html": [
       "<table class=\"simpletable\">\n",
       "<caption>VAR Order Selection (* highlights the minimums)</caption>\n",
       "<tr>\n",
       "   <td></td>      <th>AIC</th>         <th>BIC</th>         <th>FPE</th>        <th>HQIC</th>    \n",
       "</tr>\n",
       "<tr>\n",
       "  <th>0</th>  <td>    -5.120</td>  <td>    -5.107</td>  <td>  0.005978</td>  <td>    -5.115</td> \n",
       "</tr>\n",
       "<tr>\n",
       "  <th>1</th>  <td>    -6.265</td>  <td>    -6.215</td>  <td>  0.001903</td>  <td>    -6.246</td> \n",
       "</tr>\n",
       "<tr>\n",
       "  <th>2</th>  <td>    -6.384</td>  <td>    -6.298</td>  <td>  0.001689</td>  <td>    -6.351</td> \n",
       "</tr>\n",
       "<tr>\n",
       "  <th>3</th>  <td>    -6.503</td>  <td>    -6.380</td>  <td>  0.001499</td>  <td>    -6.457</td> \n",
       "</tr>\n",
       "<tr>\n",
       "  <th>4</th>  <td>    -6.542</td>  <td>    -6.382</td>  <td>  0.001442</td>  <td>    -6.482</td> \n",
       "</tr>\n",
       "<tr>\n",
       "  <th>5</th>  <td>    -6.587</td>  <td>    -6.390*</td> <td>  0.001378</td>  <td>    -6.513</td> \n",
       "</tr>\n",
       "<tr>\n",
       "  <th>6</th>  <td>    -6.616</td>  <td>    -6.382</td>  <td>  0.001339</td>  <td>    -6.528</td> \n",
       "</tr>\n",
       "<tr>\n",
       "  <th>7</th>  <td>    -6.623</td>  <td>    -6.351</td>  <td>  0.001330</td>  <td>    -6.521</td> \n",
       "</tr>\n",
       "<tr>\n",
       "  <th>8</th>  <td>    -6.662</td>  <td>    -6.354</td>  <td>  0.001279</td>  <td>    -6.546</td> \n",
       "</tr>\n",
       "<tr>\n",
       "  <th>9</th>  <td>    -6.676</td>  <td>    -6.331</td>  <td>  0.001261</td>  <td>    -6.547</td> \n",
       "</tr>\n",
       "<tr>\n",
       "  <th>10</th> <td>    -6.694</td>  <td>    -6.312</td>  <td>  0.001239</td>  <td>    -6.550</td> \n",
       "</tr>\n",
       "<tr>\n",
       "  <th>11</th> <td>    -6.741</td>  <td>    -6.322</td>  <td>  0.001181</td>  <td>    -6.584*</td>\n",
       "</tr>\n",
       "<tr>\n",
       "  <th>12</th> <td>    -6.749*</td> <td>    -6.293</td>  <td>  0.001173*</td> <td>    -6.577</td> \n",
       "</tr>\n",
       "</table>"
      ],
      "text/plain": [
       "<class 'statsmodels.iolib.table.SimpleTable'>"
      ]
     },
     "execution_count": 160,
     "metadata": {},
     "output_type": "execute_result"
    }
   ],
   "source": [
    "x.summary()"
   ]
  },
  {
   "cell_type": "code",
   "execution_count": 215,
   "id": "4663962e-5efc-4c0b-9b07-936a60ecc0bd",
   "metadata": {},
   "outputs": [
    {
     "data": {
      "text/plain": [
       "  Summary of Regression Results   \n",
       "==================================\n",
       "Model:                         VAR\n",
       "Method:                        OLS\n",
       "Date:           Thu, 09, Jun, 2022\n",
       "Time:                     14:23:13\n",
       "--------------------------------------------------------------------\n",
       "No. of Equations:         3.00000    BIC:                   -6.39347\n",
       "Nobs:                     1257.00    HQIC:                  -6.49294\n",
       "Log likelihood:          -1193.36    FPE:                 0.00142607\n",
       "AIC:                     -6.55283    Det(Omega_mle):      0.00138272\n",
       "--------------------------------------------------------------------\n",
       "Results for equation Cpu_usage\n",
       "============================================================================================\n",
       "                               coefficient       std. error           t-stat            prob\n",
       "--------------------------------------------------------------------------------------------\n",
       "const                            -0.007202         0.010484           -0.687           0.492\n",
       "L1.Cpu_usage                     -0.545397         0.028720          -18.990           0.000\n",
       "L1.Memory_usage(bytes)            0.137460         0.029703            4.628           0.000\n",
       "L1.api_server_requests_lt         0.009148         0.036412            0.251           0.802\n",
       "L2.Cpu_usage                     -0.297480         0.032052           -9.281           0.000\n",
       "L2.Memory_usage(bytes)            0.089247         0.038884            2.295           0.022\n",
       "L2.api_server_requests_lt        -0.047569         0.042632           -1.116           0.265\n",
       "L3.Cpu_usage                     -0.251544         0.032074           -7.843           0.000\n",
       "L3.Memory_usage(bytes)           -0.012415         0.038814           -0.320           0.749\n",
       "L3.api_server_requests_lt        -0.042193         0.042574           -0.991           0.322\n",
       "L4.Cpu_usage                      0.008788         0.028526            0.308           0.758\n",
       "L4.Memory_usage(bytes)            0.030631         0.029729            1.030           0.303\n",
       "L4.api_server_requests_lt        -0.067169         0.036347           -1.848           0.065\n",
       "============================================================================================\n",
       "\n",
       "Results for equation Memory_usage(bytes)\n",
       "============================================================================================\n",
       "                               coefficient       std. error           t-stat            prob\n",
       "--------------------------------------------------------------------------------------------\n",
       "const                            -0.001922         0.010068           -0.191           0.849\n",
       "L1.Cpu_usage                      0.060837         0.027579            2.206           0.027\n",
       "L1.Memory_usage(bytes)           -0.842921         0.028523          -29.552           0.000\n",
       "L1.api_server_requests_lt        -0.008607         0.034965           -0.246           0.806\n",
       "L2.Cpu_usage                      0.119019         0.030778            3.867           0.000\n",
       "L2.Memory_usage(bytes)           -0.314897         0.037339           -8.433           0.000\n",
       "L2.api_server_requests_lt        -0.023868         0.040939           -0.583           0.560\n",
       "L3.Cpu_usage                      0.015925         0.030800            0.517           0.605\n",
       "L3.Memory_usage(bytes)           -0.220184         0.037272           -5.907           0.000\n",
       "L3.api_server_requests_lt        -0.052812         0.040882           -1.292           0.196\n",
       "L4.Cpu_usage                      0.064266         0.027393            2.346           0.019\n",
       "L4.Memory_usage(bytes)           -0.048657         0.028548           -1.704           0.088\n",
       "L4.api_server_requests_lt        -0.049049         0.034903           -1.405           0.160\n",
       "============================================================================================\n",
       "\n",
       "Results for equation api_server_requests_lt\n",
       "============================================================================================\n",
       "                               coefficient       std. error           t-stat            prob\n",
       "--------------------------------------------------------------------------------------------\n",
       "const                            -0.000908         0.008028           -0.113           0.910\n",
       "L1.Cpu_usage                     -0.013978         0.021993           -0.636           0.525\n",
       "L1.Memory_usage(bytes)            0.027121         0.022746            1.192           0.233\n",
       "L1.api_server_requests_lt        -0.672237         0.027883          -24.109           0.000\n",
       "L2.Cpu_usage                     -0.036680         0.024544           -1.494           0.135\n",
       "L2.Memory_usage(bytes)            0.025414         0.029776            0.853           0.393\n",
       "L2.api_server_requests_lt        -0.412942         0.032647          -12.649           0.000\n",
       "L3.Cpu_usage                     -0.022937         0.024562           -0.934           0.350\n",
       "L3.Memory_usage(bytes)           -0.003565         0.029723           -0.120           0.905\n",
       "L3.api_server_requests_lt        -0.314351         0.032602           -9.642           0.000\n",
       "L4.Cpu_usage                     -0.008573         0.021845           -0.392           0.695\n",
       "L4.Memory_usage(bytes)           -0.015534         0.022766           -0.682           0.495\n",
       "L4.api_server_requests_lt        -0.206264         0.027834           -7.411           0.000\n",
       "============================================================================================\n",
       "\n",
       "Correlation matrix of residuals\n",
       "                          Cpu_usage  Memory_usage(bytes)  api_server_requests_lt\n",
       "Cpu_usage                  1.000000             0.136473                0.097699\n",
       "Memory_usage(bytes)        0.136473             1.000000                0.011746\n",
       "api_server_requests_lt     0.097699             0.011746                1.000000\n",
       "\n"
      ]
     },
     "execution_count": 215,
     "metadata": {},
     "output_type": "execute_result"
    }
   ],
   "source": [
    "model_fitted = model.fit(maxlags=4,ic='aic')\n",
    "model_fitted.summary()"
   ]
  },
  {
   "cell_type": "code",
   "execution_count": 165,
   "id": "6748e8f5-b997-486c-bfe6-3ff495d5e366",
   "metadata": {},
   "outputs": [],
   "source": [
    "from statsmodels.stats.stattools import durbin_watson"
   ]
  },
  {
   "cell_type": "markdown",
   "id": "6b542f77-0237-4013-99c0-3bded40445d8",
   "metadata": {},
   "source": [
    "Checking the serial Correlation of the residuals"
   ]
  },
  {
   "cell_type": "code",
   "execution_count": 168,
   "id": "3ad4da5a-fbae-4110-8094-41fbea76bba4",
   "metadata": {},
   "outputs": [],
   "source": [
    "out = durbin_watson(model_fitted.resid)"
   ]
  },
  {
   "cell_type": "raw",
   "id": "8b35d898-fdbf-4219-b14a-30a8279ad023",
   "metadata": {},
   "source": [
    "for col,val in zip(df_train.columns,out):\n",
    "    print(col,':',round(val,2))"
   ]
  },
  {
   "cell_type": "code",
   "execution_count": 216,
   "id": "8b1ccf73-14a9-4076-8885-5679d2c21fc8",
   "metadata": {},
   "outputs": [
    {
     "data": {
      "text/plain": [
       "4"
      ]
     },
     "execution_count": 216,
     "metadata": {},
     "output_type": "execute_result"
    }
   ],
   "source": [
    "model_fitted.k_ar"
   ]
  },
  {
   "cell_type": "code",
   "execution_count": 226,
   "id": "7dc8bfa8-2fde-4b65-bcd9-4ef13bc5d92a",
   "metadata": {},
   "outputs": [],
   "source": [
    "forecast_input = df_train.values"
   ]
  },
  {
   "cell_type": "code",
   "execution_count": 236,
   "id": "a479cbc2-a47e-4ab0-b6df-68c9e19b8af4",
   "metadata": {},
   "outputs": [
    {
     "data": {
      "text/plain": [
       "(1261, 3)"
      ]
     },
     "execution_count": 236,
     "metadata": {},
     "output_type": "execute_result"
    }
   ],
   "source": [
    "forecast_input.shape"
   ]
  },
  {
   "cell_type": "code",
   "execution_count": 227,
   "id": "90b2fcc7-d6c3-4ecd-88ec-71535e3b2537",
   "metadata": {},
   "outputs": [],
   "source": [
    "output = model_fitted.forecast(y=forecast_input,steps=len(df_test))"
   ]
  },
  {
   "cell_type": "code",
   "execution_count": 228,
   "id": "741440f3-8365-4412-a2c4-9a972df66fa5",
   "metadata": {},
   "outputs": [
    {
     "data": {
      "text/plain": [
       "(223, 3)"
      ]
     },
     "execution_count": 228,
     "metadata": {},
     "output_type": "execute_result"
    }
   ],
   "source": [
    "output.shape"
   ]
  },
  {
   "cell_type": "code",
   "execution_count": 229,
   "id": "f00fb5e3-e7d1-4089-b60f-4babffc79279",
   "metadata": {},
   "outputs": [],
   "source": [
    "df_forecast = pd.DataFrame(output,index=sample_df_differenced.index[int(length*split_ratio):],columns=sample_df_differenced.columns+'_1d')"
   ]
  },
  {
   "cell_type": "code",
   "execution_count": 230,
   "id": "bb9cfb56-710a-424c-8769-cae0b96417d3",
   "metadata": {},
   "outputs": [
    {
     "data": {
      "text/plain": [
       "(223, 3)"
      ]
     },
     "execution_count": 230,
     "metadata": {},
     "output_type": "execute_result"
    }
   ],
   "source": [
    "df_forecast.shape"
   ]
  },
  {
   "cell_type": "code",
   "execution_count": 231,
   "id": "c4a659d2-ac79-4c8a-90f4-f5a43cd2bba8",
   "metadata": {},
   "outputs": [
    {
     "data": {
      "text/plain": [
       "(223, 3)"
      ]
     },
     "execution_count": 231,
     "metadata": {},
     "output_type": "execute_result"
    }
   ],
   "source": [
    "df_test.shape"
   ]
  },
  {
   "cell_type": "markdown",
   "id": "8a02266b-f2ce-403e-b5f0-43f373f9996f",
   "metadata": {},
   "source": [
    "These are one differenced values"
   ]
  },
  {
   "cell_type": "code",
   "execution_count": 182,
   "id": "03389305-3b4b-4ae2-b282-c52699d13f0e",
   "metadata": {},
   "outputs": [
    {
     "name": "stdout",
     "output_type": "stream",
     "text": [
      "Index(['2022-06-06 09:40:09', '2022-06-06 09:55:09', '2022-06-06 10:10:09',\n",
      "       '2022-06-06 10:25:09', '2022-06-06 10:40:09', '2022-06-06 10:55:09',\n",
      "       '2022-06-06 11:10:09', '2022-06-06 11:25:09', '2022-06-06 11:40:09',\n",
      "       '2022-06-06 11:55:09',\n",
      "       ...\n",
      "       '2022-06-08 14:55:09', '2022-06-08 15:10:09', '2022-06-08 15:25:09',\n",
      "       '2022-06-08 15:40:09', '2022-06-08 15:55:09', '2022-06-08 16:10:09',\n",
      "       '2022-06-08 16:25:09', '2022-06-08 16:40:09', '2022-06-08 16:55:09',\n",
      "       '2022-06-08 17:10:09'],\n",
      "      dtype='object', name='timestamp', length=223) Index(['2022-06-06 09:40:09', '2022-06-06 09:55:09', '2022-06-06 10:10:09',\n",
      "       '2022-06-06 10:25:09', '2022-06-06 10:40:09', '2022-06-06 10:55:09',\n",
      "       '2022-06-06 11:10:09', '2022-06-06 11:25:09', '2022-06-06 11:40:09',\n",
      "       '2022-06-06 11:55:09',\n",
      "       ...\n",
      "       '2022-06-08 14:55:09', '2022-06-08 15:10:09', '2022-06-08 15:25:09',\n",
      "       '2022-06-08 15:40:09', '2022-06-08 15:55:09', '2022-06-08 16:10:09',\n",
      "       '2022-06-08 16:25:09', '2022-06-08 16:40:09', '2022-06-08 16:55:09',\n",
      "       '2022-06-08 17:10:09'],\n",
      "      dtype='object', name='timestamp', length=223) Index(['2022-06-06 09:40:09', '2022-06-06 09:55:09', '2022-06-06 10:10:09',\n",
      "       '2022-06-06 10:25:09', '2022-06-06 10:40:09', '2022-06-06 10:55:09',\n",
      "       '2022-06-06 11:10:09', '2022-06-06 11:25:09', '2022-06-06 11:40:09',\n",
      "       '2022-06-06 11:55:09',\n",
      "       ...\n",
      "       '2022-06-08 14:55:09', '2022-06-08 15:10:09', '2022-06-08 15:25:09',\n",
      "       '2022-06-08 15:40:09', '2022-06-08 15:55:09', '2022-06-08 16:10:09',\n",
      "       '2022-06-08 16:25:09', '2022-06-08 16:40:09', '2022-06-08 16:55:09',\n",
      "       '2022-06-08 17:10:09'],\n",
      "      dtype='object', name='timestamp', length=223)\n"
     ]
    }
   ],
   "source": [
    "print(sample_df_differenced.index[int(length*split_ratio):],df_test.index,df_forecast.index)"
   ]
  },
  {
   "cell_type": "code",
   "execution_count": 232,
   "id": "60ac9d6c-c969-4f8b-b057-8a2b62ae0134",
   "metadata": {},
   "outputs": [],
   "source": [
    "def invert_transformation(df_train, df_forecast, second_diff=False):\n",
    "    \"\"\"Revert back the differencing to get the forecast to original scale.\"\"\"\n",
    "    df_fc = df_forecast.copy()\n",
    "    columns = df_train.columns\n",
    "    for col in columns:        \n",
    "        # Roll back 2nd Diff\n",
    "        if second_diff:\n",
    "            df_fc[str(col)+'_1d'] = (df_train[col].iloc[-1]-df_train[col].iloc[-2]) + df_fc[str(col)+'_2d'].cumsum()\n",
    "        # Roll back 1st Diff\n",
    "        df_fc[str(col)+'_forecast'] = df_train[col].iloc[-1] + df_fc[str(col)+'_1d'].cumsum()\n",
    "    return df_fc"
   ]
  },
  {
   "cell_type": "code",
   "execution_count": 233,
   "id": "22dcb0e5-1ae8-47d5-bcbe-08cc0c49b7ad",
   "metadata": {},
   "outputs": [],
   "source": [
    "df_results = invert_transformation(sample_df_differenced,df_forecast)"
   ]
  },
  {
   "cell_type": "code",
   "execution_count": 234,
   "id": "60bf8c9a-828f-4c7e-905e-09279ca838ad",
   "metadata": {},
   "outputs": [
    {
     "data": {
      "text/html": [
       "<div>\n",
       "<style scoped>\n",
       "    .dataframe tbody tr th:only-of-type {\n",
       "        vertical-align: middle;\n",
       "    }\n",
       "\n",
       "    .dataframe tbody tr th {\n",
       "        vertical-align: top;\n",
       "    }\n",
       "\n",
       "    .dataframe thead th {\n",
       "        text-align: right;\n",
       "    }\n",
       "</style>\n",
       "<table border=\"1\" class=\"dataframe\">\n",
       "  <thead>\n",
       "    <tr style=\"text-align: right;\">\n",
       "      <th></th>\n",
       "      <th>Cpu_usage_1d</th>\n",
       "      <th>Memory_usage(bytes)_1d</th>\n",
       "      <th>api_server_requests_lt_1d</th>\n",
       "      <th>Cpu_usage_forecast</th>\n",
       "      <th>Memory_usage(bytes)_forecast</th>\n",
       "      <th>api_server_requests_lt_forecast</th>\n",
       "    </tr>\n",
       "    <tr>\n",
       "      <th>timestamp</th>\n",
       "      <th></th>\n",
       "      <th></th>\n",
       "      <th></th>\n",
       "      <th></th>\n",
       "      <th></th>\n",
       "      <th></th>\n",
       "    </tr>\n",
       "  </thead>\n",
       "  <tbody>\n",
       "    <tr>\n",
       "      <th>2022-06-06 09:40:09</th>\n",
       "      <td>-0.107929</td>\n",
       "      <td>0.467387</td>\n",
       "      <td>-0.226753</td>\n",
       "      <td>-0.140881</td>\n",
       "      <td>-0.086433</td>\n",
       "      <td>-0.420909</td>\n",
       "    </tr>\n",
       "    <tr>\n",
       "      <th>2022-06-06 09:55:09</th>\n",
       "      <td>-0.014917</td>\n",
       "      <td>-0.289651</td>\n",
       "      <td>0.003100</td>\n",
       "      <td>-0.155798</td>\n",
       "      <td>-0.376084</td>\n",
       "      <td>-0.417809</td>\n",
       "    </tr>\n",
       "    <tr>\n",
       "      <th>2022-06-06 10:10:09</th>\n",
       "      <td>0.029891</td>\n",
       "      <td>0.193432</td>\n",
       "      <td>0.008253</td>\n",
       "      <td>-0.125907</td>\n",
       "      <td>-0.182652</td>\n",
       "      <td>-0.409556</td>\n",
       "    </tr>\n",
       "    <tr>\n",
       "      <th>2022-06-06 10:25:09</th>\n",
       "      <td>-0.025057</td>\n",
       "      <td>-0.136987</td>\n",
       "      <td>0.018931</td>\n",
       "      <td>-0.150964</td>\n",
       "      <td>-0.319639</td>\n",
       "      <td>-0.390625</td>\n",
       "    </tr>\n",
       "    <tr>\n",
       "      <th>2022-06-06 10:40:09</th>\n",
       "      <td>0.031602</td>\n",
       "      <td>0.099129</td>\n",
       "      <td>0.024248</td>\n",
       "      <td>-0.119362</td>\n",
       "      <td>-0.220510</td>\n",
       "      <td>-0.366377</td>\n",
       "    </tr>\n",
       "    <tr>\n",
       "      <th>...</th>\n",
       "      <td>...</td>\n",
       "      <td>...</td>\n",
       "      <td>...</td>\n",
       "      <td>...</td>\n",
       "      <td>...</td>\n",
       "      <td>...</td>\n",
       "    </tr>\n",
       "    <tr>\n",
       "      <th>2022-06-08 16:10:09</th>\n",
       "      <td>-0.003572</td>\n",
       "      <td>-0.001161</td>\n",
       "      <td>-0.000251</td>\n",
       "      <td>-0.905309</td>\n",
       "      <td>-0.512000</td>\n",
       "      <td>-0.443521</td>\n",
       "    </tr>\n",
       "    <tr>\n",
       "      <th>2022-06-08 16:25:09</th>\n",
       "      <td>-0.003572</td>\n",
       "      <td>-0.001161</td>\n",
       "      <td>-0.000251</td>\n",
       "      <td>-0.908881</td>\n",
       "      <td>-0.513161</td>\n",
       "      <td>-0.443772</td>\n",
       "    </tr>\n",
       "    <tr>\n",
       "      <th>2022-06-08 16:40:09</th>\n",
       "      <td>-0.003572</td>\n",
       "      <td>-0.001161</td>\n",
       "      <td>-0.000251</td>\n",
       "      <td>-0.912452</td>\n",
       "      <td>-0.514322</td>\n",
       "      <td>-0.444023</td>\n",
       "    </tr>\n",
       "    <tr>\n",
       "      <th>2022-06-08 16:55:09</th>\n",
       "      <td>-0.003572</td>\n",
       "      <td>-0.001161</td>\n",
       "      <td>-0.000251</td>\n",
       "      <td>-0.916024</td>\n",
       "      <td>-0.515483</td>\n",
       "      <td>-0.444274</td>\n",
       "    </tr>\n",
       "    <tr>\n",
       "      <th>2022-06-08 17:10:09</th>\n",
       "      <td>-0.003572</td>\n",
       "      <td>-0.001161</td>\n",
       "      <td>-0.000251</td>\n",
       "      <td>-0.919596</td>\n",
       "      <td>-0.516644</td>\n",
       "      <td>-0.444525</td>\n",
       "    </tr>\n",
       "  </tbody>\n",
       "</table>\n",
       "<p>223 rows × 6 columns</p>\n",
       "</div>"
      ],
      "text/plain": [
       "                     Cpu_usage_1d  Memory_usage(bytes)_1d  \\\n",
       "timestamp                                                   \n",
       "2022-06-06 09:40:09     -0.107929                0.467387   \n",
       "2022-06-06 09:55:09     -0.014917               -0.289651   \n",
       "2022-06-06 10:10:09      0.029891                0.193432   \n",
       "2022-06-06 10:25:09     -0.025057               -0.136987   \n",
       "2022-06-06 10:40:09      0.031602                0.099129   \n",
       "...                           ...                     ...   \n",
       "2022-06-08 16:10:09     -0.003572               -0.001161   \n",
       "2022-06-08 16:25:09     -0.003572               -0.001161   \n",
       "2022-06-08 16:40:09     -0.003572               -0.001161   \n",
       "2022-06-08 16:55:09     -0.003572               -0.001161   \n",
       "2022-06-08 17:10:09     -0.003572               -0.001161   \n",
       "\n",
       "                     api_server_requests_lt_1d  Cpu_usage_forecast  \\\n",
       "timestamp                                                            \n",
       "2022-06-06 09:40:09                  -0.226753           -0.140881   \n",
       "2022-06-06 09:55:09                   0.003100           -0.155798   \n",
       "2022-06-06 10:10:09                   0.008253           -0.125907   \n",
       "2022-06-06 10:25:09                   0.018931           -0.150964   \n",
       "2022-06-06 10:40:09                   0.024248           -0.119362   \n",
       "...                                        ...                 ...   \n",
       "2022-06-08 16:10:09                  -0.000251           -0.905309   \n",
       "2022-06-08 16:25:09                  -0.000251           -0.908881   \n",
       "2022-06-08 16:40:09                  -0.000251           -0.912452   \n",
       "2022-06-08 16:55:09                  -0.000251           -0.916024   \n",
       "2022-06-08 17:10:09                  -0.000251           -0.919596   \n",
       "\n",
       "                     Memory_usage(bytes)_forecast  \\\n",
       "timestamp                                           \n",
       "2022-06-06 09:40:09                     -0.086433   \n",
       "2022-06-06 09:55:09                     -0.376084   \n",
       "2022-06-06 10:10:09                     -0.182652   \n",
       "2022-06-06 10:25:09                     -0.319639   \n",
       "2022-06-06 10:40:09                     -0.220510   \n",
       "...                                           ...   \n",
       "2022-06-08 16:10:09                     -0.512000   \n",
       "2022-06-08 16:25:09                     -0.513161   \n",
       "2022-06-08 16:40:09                     -0.514322   \n",
       "2022-06-08 16:55:09                     -0.515483   \n",
       "2022-06-08 17:10:09                     -0.516644   \n",
       "\n",
       "                     api_server_requests_lt_forecast  \n",
       "timestamp                                             \n",
       "2022-06-06 09:40:09                        -0.420909  \n",
       "2022-06-06 09:55:09                        -0.417809  \n",
       "2022-06-06 10:10:09                        -0.409556  \n",
       "2022-06-06 10:25:09                        -0.390625  \n",
       "2022-06-06 10:40:09                        -0.366377  \n",
       "...                                              ...  \n",
       "2022-06-08 16:10:09                        -0.443521  \n",
       "2022-06-08 16:25:09                        -0.443772  \n",
       "2022-06-08 16:40:09                        -0.444023  \n",
       "2022-06-08 16:55:09                        -0.444274  \n",
       "2022-06-08 17:10:09                        -0.444525  \n",
       "\n",
       "[223 rows x 6 columns]"
      ]
     },
     "execution_count": 234,
     "metadata": {},
     "output_type": "execute_result"
    }
   ],
   "source": [
    "df_results"
   ]
  },
  {
   "cell_type": "code",
   "execution_count": 246,
   "id": "808d5be9-3fb1-4503-a496-e57cae727852",
   "metadata": {},
   "outputs": [
    {
     "data": {
      "image/png": "[encoded data removed]",
      "text/plain": [
       "<Figure size 936x720 with 1 Axes>"
      ]
     },
     "metadata": {
      "needs_background": "light"
     },
     "output_type": "display_data"
    },
    {
     "data": {
      "image/png": "[encoded data removed]",
      "text/plain": [
       "<Figure size 936x720 with 1 Axes>"
      ]
     },
     "metadata": {
      "needs_background": "light"
     },
     "output_type": "display_data"
    },
    {
     "data": {
      "image/png": "[encoded data removed]",
      "text/plain": [
       "<Figure size 936x720 with 1 Axes>"
      ]
     },
     "metadata": {
      "needs_background": "light"
     },
     "output_type": "display_data"
    }
   ],
   "source": [
    "for col in ['Cpu_usage', 'Memory_usage(bytes)','api_server_requests_lt' ]:\n",
    "    plt.rcParams[\"figure.figsize\"] = [13,10]\n",
    "    plt.plot( df_train[str(col)], label='Train '+ col)\n",
    "    plt.plot(df_test[str(col)], label='Test '+ col)\n",
    "    plt.plot(df_results[str(col)+'_forecast'], label='Predicted '+str(col))\n",
    "    plt.legend(loc='best')\n",
    "    plt.show()"
   ]
  },
  {
   "cell_type": "code",
   "execution_count": 225,
   "id": "c79af36b-1ff9-43ff-b318-700240262562",
   "metadata": {},
   "outputs": [],
   "source": [
    "def mean_absolute_percentage_error(y_actual, y_pred):\n",
    "    y_actual, y_pred = np.array(y_actual), np.array(y_pred)\n",
    "    return np.mean(np.abs((y_actual - y_pred) / y_actual)) * 100"
   ]
  },
  {
   "cell_type": "code",
   "execution_count": 242,
   "id": "ebd74882-ef43-4b90-9fe9-b06896e10c4a",
   "metadata": {},
   "outputs": [],
   "source": [
    "from sklearn import metrics\n",
    "def evaluation_metrics(y_actual, y_pred):\n",
    "    print('Evaluation metric results:-')\n",
    "    print(f'MSE is : {metrics.mean_squared_error(y_actual, y_pred)}')\n",
    "    print(f'MAE is : {metrics.mean_absolute_error(y_actual, y_pred)}')\n",
    "    print(f'RMSE is : {np.sqrt(metrics.mean_squared_error(y_actual, y_pred))}')\n",
    "    print(f'MAPE is : {mean_absolute_percentage_error(y_actual, y_pred)}')\n",
    "    print(f'R2 is : {metrics.r2_score(y_actual, y_pred)}',end='\\n\\n')"
   ]
  },
  {
   "cell_type": "code",
   "execution_count": 243,
   "id": "6e05ac42-0410-465a-85e0-10f2e9636a42",
   "metadata": {},
   "outputs": [
    {
     "name": "stdout",
     "output_type": "stream",
     "text": [
      "The Metrics for the column Cpu_usage\n",
      "Evaluation metric results:-\n",
      "MSE is : 0.4117320704816474\n",
      "MAE is : 0.554502814061681\n",
      "RMSE is : 0.6416635181165027\n",
      "MAPE is : 1006.9482127879778\n",
      "R2 is : -3.887093982828411\n",
      "\n",
      "The Metrics for the column Memory_usage(bytes)\n",
      "Evaluation metric results:-\n",
      "MSE is : 0.37649202636235357\n",
      "MAE is : 0.5109018484073113\n",
      "RMSE is : 0.6135894607653831\n",
      "MAPE is : 430.98490519568804\n",
      "R2 is : -0.7070845738108473\n",
      "\n",
      "The Metrics for the column api_server_requests_lt\n",
      "Evaluation metric results:-\n",
      "MSE is : 0.34300600420225136\n",
      "MAE is : 0.4810699546318811\n",
      "RMSE is : 0.5856671445473541\n",
      "MAPE is : inf\n",
      "R2 is : -1.0095216287607975\n",
      "\n"
     ]
    }
   ],
   "source": [
    "for col in ['Cpu_usage', 'Memory_usage(bytes)','api_server_requests_lt' ]:\n",
    "    print(f\"The Metrics for the column {col}\")\n",
    "    evaluation_metrics(df_test[str(col)],df_results[str(col+'_forecast')])"
   ]
  },
  {
   "cell_type": "markdown",
   "id": "44db22ef-29d5-4503-951a-bda385b3ab18",
   "metadata": {},
   "source": [
    "Trying VARMA Model"
   ]
  },
  {
   "cell_type": "code",
   "execution_count": 149,
   "id": "ad936caf-7350-4fdd-98d2-82c5459d58b6",
   "metadata": {},
   "outputs": [],
   "source": [
    "from pmdarima import auto_arima"
   ]
  },
  {
   "cell_type": "code",
   "execution_count": 247,
   "id": "0e3ddcfa-0cb9-4c6b-b5cf-cb2d76f0b120",
   "metadata": {},
   "outputs": [
    {
     "name": "stdout",
     "output_type": "stream",
     "text": [
      "Searching order for p and q for: Cpu_usage\n",
      "Performing stepwise search to minimize aic\n",
      " ARIMA(1,0,1)(0,0,0)[0] intercept   : AIC=1129.485, Time=0.29 sec\n",
      " ARIMA(0,0,0)(0,0,0)[0] intercept   : AIC=1465.601, Time=0.13 sec\n",
      " ARIMA(1,0,0)(0,0,0)[0] intercept   : AIC=1222.752, Time=0.06 sec\n",
      " ARIMA(0,0,1)(0,0,0)[0] intercept   : AIC=1128.943, Time=0.13 sec\n",
      " ARIMA(0,0,0)(0,0,0)[0]             : AIC=1463.690, Time=0.04 sec\n",
      " ARIMA(0,0,2)(0,0,0)[0] intercept   : AIC=1129.671, Time=0.23 sec\n",
      " ARIMA(1,0,2)(0,0,0)[0] intercept   : AIC=inf, Time=0.75 sec\n",
      " ARIMA(0,0,1)(0,0,0)[0]             : AIC=1127.553, Time=0.04 sec\n",
      " ARIMA(1,0,1)(0,0,0)[0]             : AIC=1128.145, Time=0.07 sec\n",
      " ARIMA(0,0,2)(0,0,0)[0]             : AIC=1128.322, Time=0.06 sec\n",
      " ARIMA(1,0,0)(0,0,0)[0]             : AIC=1220.958, Time=0.03 sec\n",
      " ARIMA(1,0,2)(0,0,0)[0]             : AIC=inf, Time=0.42 sec\n",
      "\n",
      "Best model:  ARIMA(0,0,1)(0,0,0)[0]          \n",
      "Total fit time: 2.259 seconds\n",
      "The Optimal Order value for the column Cpu_usage is (0, 0, 1)\n",
      "Searching order for p and q for: Memory_usage(bytes)\n",
      "Performing stepwise search to minimize aic\n",
      " ARIMA(1,0,1)(0,0,0)[0] intercept   : AIC=1018.022, Time=0.19 sec\n",
      " ARIMA(0,0,0)(0,0,0)[0] intercept   : AIC=1927.856, Time=0.12 sec\n",
      " ARIMA(1,0,0)(0,0,0)[0] intercept   : AIC=1059.134, Time=0.10 sec\n",
      " ARIMA(0,0,1)(0,0,0)[0] intercept   : AIC=1215.615, Time=0.29 sec\n",
      " ARIMA(0,0,0)(0,0,0)[0]             : AIC=1925.864, Time=0.04 sec\n",
      " ARIMA(2,0,1)(0,0,0)[0] intercept   : AIC=1041.032, Time=0.80 sec\n",
      " ARIMA(1,0,2)(0,0,0)[0] intercept   : AIC=1006.731, Time=0.22 sec\n",
      " ARIMA(0,0,2)(0,0,0)[0] intercept   : AIC=1081.283, Time=0.19 sec\n",
      " ARIMA(2,0,2)(0,0,0)[0] intercept   : AIC=1008.704, Time=0.53 sec\n",
      " ARIMA(1,0,3)(0,0,0)[0] intercept   : AIC=1008.665, Time=0.37 sec\n",
      " ARIMA(0,0,3)(0,0,0)[0] intercept   : AIC=1052.894, Time=0.33 sec\n",
      " ARIMA(2,0,3)(0,0,0)[0] intercept   : AIC=985.194, Time=0.76 sec\n",
      " ARIMA(3,0,3)(0,0,0)[0] intercept   : AIC=971.417, Time=1.21 sec\n",
      " ARIMA(3,0,2)(0,0,0)[0] intercept   : AIC=987.056, Time=0.90 sec\n",
      " ARIMA(4,0,3)(0,0,0)[0] intercept   : AIC=978.294, Time=1.50 sec\n",
      " ARIMA(3,0,4)(0,0,0)[0] intercept   : AIC=972.355, Time=1.43 sec\n",
      " ARIMA(2,0,4)(0,0,0)[0] intercept   : AIC=956.046, Time=1.50 sec\n",
      " ARIMA(1,0,4)(0,0,0)[0] intercept   : AIC=995.812, Time=0.51 sec\n",
      " ARIMA(2,0,5)(0,0,0)[0] intercept   : AIC=965.082, Time=1.82 sec\n",
      " ARIMA(1,0,5)(0,0,0)[0] intercept   : AIC=996.045, Time=0.77 sec\n",
      " ARIMA(3,0,5)(0,0,0)[0] intercept   : AIC=971.013, Time=1.86 sec\n",
      " ARIMA(2,0,4)(0,0,0)[0]             : AIC=954.100, Time=0.69 sec\n",
      " ARIMA(1,0,4)(0,0,0)[0]             : AIC=993.876, Time=0.19 sec\n",
      " ARIMA(2,0,3)(0,0,0)[0]             : AIC=983.278, Time=0.35 sec\n",
      " ARIMA(3,0,4)(0,0,0)[0]             : AIC=970.424, Time=0.65 sec\n",
      " ARIMA(2,0,5)(0,0,0)[0]             : AIC=954.375, Time=0.89 sec\n",
      " ARIMA(1,0,3)(0,0,0)[0]             : AIC=1006.737, Time=0.13 sec\n",
      " ARIMA(1,0,5)(0,0,0)[0]             : AIC=994.114, Time=0.33 sec\n",
      " ARIMA(3,0,3)(0,0,0)[0]             : AIC=968.516, Time=0.57 sec\n",
      " ARIMA(3,0,5)(0,0,0)[0]             : AIC=969.102, Time=0.99 sec\n",
      "\n",
      "Best model:  ARIMA(2,0,4)(0,0,0)[0]          \n",
      "Total fit time: 20.225 seconds\n",
      "The Optimal Order value for the column Memory_usage(bytes) is (2, 0, 4)\n",
      "Searching order for p and q for: api_server_requests_lt\n",
      "Performing stepwise search to minimize aic\n",
      " ARIMA(1,0,1)(0,0,0)[0] intercept   : AIC=297.513, Time=0.27 sec\n",
      " ARIMA(0,0,0)(0,0,0)[0] intercept   : AIC=905.897, Time=0.09 sec\n",
      " ARIMA(1,0,0)(0,0,0)[0] intercept   : AIC=579.378, Time=0.10 sec\n",
      " ARIMA(0,0,1)(0,0,0)[0] intercept   : AIC=315.248, Time=0.17 sec\n",
      " ARIMA(0,0,0)(0,0,0)[0]             : AIC=903.898, Time=0.04 sec\n",
      " ARIMA(2,0,1)(0,0,0)[0] intercept   : AIC=280.669, Time=1.11 sec\n",
      " ARIMA(2,0,0)(0,0,0)[0] intercept   : AIC=509.851, Time=0.11 sec\n",
      " ARIMA(3,0,1)(0,0,0)[0] intercept   : AIC=282.584, Time=1.04 sec\n",
      " ARIMA(2,0,2)(0,0,0)[0] intercept   : AIC=286.962, Time=0.92 sec\n",
      " ARIMA(1,0,2)(0,0,0)[0] intercept   : AIC=inf, Time=0.81 sec\n",
      " ARIMA(3,0,0)(0,0,0)[0] intercept   : AIC=467.043, Time=0.16 sec\n",
      " ARIMA(3,0,2)(0,0,0)[0] intercept   : AIC=283.745, Time=1.03 sec\n",
      " ARIMA(2,0,1)(0,0,0)[0]             : AIC=278.993, Time=0.17 sec\n",
      " ARIMA(1,0,1)(0,0,0)[0]             : AIC=295.532, Time=0.10 sec\n",
      " ARIMA(2,0,0)(0,0,0)[0]             : AIC=507.856, Time=0.04 sec\n",
      " ARIMA(3,0,1)(0,0,0)[0]             : AIC=280.788, Time=0.26 sec\n",
      " ARIMA(2,0,2)(0,0,0)[0]             : AIC=280.722, Time=0.36 sec\n",
      " ARIMA(1,0,0)(0,0,0)[0]             : AIC=577.381, Time=0.03 sec\n",
      " ARIMA(1,0,2)(0,0,0)[0]             : AIC=inf, Time=0.29 sec\n",
      " ARIMA(3,0,0)(0,0,0)[0]             : AIC=465.052, Time=0.06 sec\n",
      " ARIMA(3,0,2)(0,0,0)[0]             : AIC=282.095, Time=0.41 sec\n",
      "\n",
      "Best model:  ARIMA(2,0,1)(0,0,0)[0]          \n",
      "Total fit time: 7.592 seconds\n",
      "The Optimal Order value for the column api_server_requests_lt is (2, 0, 1)\n"
     ]
    }
   ],
   "source": [
    "parameters = []\n",
    "for col, column in df_train.iteritems():\n",
    "    print(f\"Searching order for p and q for: {col}\")\n",
    "    stepwise_model = auto_arima(df_train[str(col)],start_p=1,start_q=1,max_p=7,max_q=7,trace=True,max_iter=1000)\n",
    "    optimal_order = stepwise_model.get_params().get('order')\n",
    "    print(f\"The Optimal Order value for the column {col} is {optimal_order}\")\n",
    "    parameters.append(optimal_order)"
   ]
  },
  {
   "cell_type": "code",
   "execution_count": 248,
   "id": "5dc32985-d5ee-4c1c-9fde-4b19982236e2",
   "metadata": {},
   "outputs": [
    {
     "data": {
      "text/plain": [
       "[(0, 0, 1), (2, 0, 4), (2, 0, 1)]"
      ]
     },
     "execution_count": 248,
     "metadata": {},
     "output_type": "execute_result"
    }
   ],
   "source": [
    "parameters"
   ]
  },
  {
   "cell_type": "code",
   "execution_count": null,
   "id": "ffa0b25b-1205-4bda-a03d-c20f0d099bfb",
   "metadata": {},
   "outputs": [],
   "source": []
  }
 ],
 "metadata": {
  "kernelspec": {
   "display_name": "Python 3 (ipykernel)",
   "language": "python",
   "name": "python3"
  },
  "language_info": {
   "codemirror_mode": {
    "name": "ipython",
    "version": 3
   },
   "file_extension": ".py",
   "mimetype": "text/x-python",
   "name": "python",
   "nbconvert_exporter": "python",
   "pygments_lexer": "ipython3",
   "version": "3.10.4"
  }
 },
 "nbformat": 4,
 "nbformat_minor": 5
}
