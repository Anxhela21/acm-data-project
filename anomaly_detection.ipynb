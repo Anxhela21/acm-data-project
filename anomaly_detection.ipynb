{
 "cells": [
  {
   "cell_type": "code",
   "execution_count": 1,
   "id": "539d8085-b93c-4bb3-8814-1d09df4d31bc",
   "metadata": {},
   "outputs": [
    {
     "name": "stderr",
     "output_type": "stream",
     "text": [
      "/Library/Frameworks/Python.framework/Versions/3.10/lib/python3.10/site-packages/tslearn/bases/bases.py:15: UserWarning: h5py not installed, hdf5 features will not be supported.\n",
      "Install h5py to use hdf5 features: http://docs.h5py.org/\n",
      "  warn(h5py_msg)\n"
     ]
    }
   ],
   "source": [
    "import numpy as np\n",
    "import matplotlib.pyplot as plt\n",
    "from tslearn.clustering import TimeSeriesKMeans\n",
    "from tslearn.datasets import CachedDatasets\n",
    "from tslearn.preprocessing import TimeSeriesScalerMeanVariance, TimeSeriesResampler"
   ]
  },
  {
   "cell_type": "code",
   "execution_count": 2,
   "id": "fe73b3b8-6ad4-42ce-a306-9ee9855f98d0",
   "metadata": {},
   "outputs": [],
   "source": [
    "import pandas as pd\n",
    "from fastdtw import fastdtw"
   ]
  },
  {
   "cell_type": "code",
   "execution_count": 21,
   "id": "d4724331-1756-4f48-9ffd-9b42529e7824",
   "metadata": {},
   "outputs": [],
   "source": [
    "df1 = pd.read_csv('/Users/sponnur/PycharmProjects/pythonProject1/cpu_usage_2022_03_25_35_15m.csv')\n",
    "#df2 = pd.read_csv('/Users/sponnur/PycharmProjects/pythonProject1/mem_usage_2022_04_27_2_15m.csv')\n",
    "#df3 = pd.read_csv('/Users/sponnur/PycharmProjects/pythonProject1/api_server_count_2022_04_27_2_15m.csv')"
   ]
  },
  {
   "cell_type": "code",
   "execution_count": 22,
   "id": "62b73907-e556-4a01-bc15-1a109bda1f7f",
   "metadata": {},
   "outputs": [],
   "source": [
    "df1.timestamp = pd.to_datetime(df1.timestamp, infer_datetime_format=True)  "
   ]
  },
  {
   "cell_type": "code",
   "execution_count": 23,
   "id": "4a4ee6e0-663d-41bf-98d6-e0a605a47707",
   "metadata": {},
   "outputs": [],
   "source": [
    "cluster_id_list = df1['cluster_id'].to_list()"
   ]
  },
  {
   "cell_type": "code",
   "execution_count": 24,
   "id": "70bde495-84c3-4be8-b78b-2c767f3a9762",
   "metadata": {},
   "outputs": [],
   "source": [
    "df1.set_index('timestamp',inplace=True)"
   ]
  },
  {
   "cell_type": "code",
   "execution_count": 25,
   "id": "44de2d51-fa37-4423-831a-cb1171debb92",
   "metadata": {},
   "outputs": [],
   "source": [
    "sample_cluster_df = df1[df1.cluster_id.isin(list(set(cluster_id_list))[:1000])]"
   ]
  },
  {
   "cell_type": "code",
   "execution_count": 26,
   "id": "1dd9e029-6262-4414-becd-9400278a41c1",
   "metadata": {},
   "outputs": [
    {
     "name": "stderr",
     "output_type": "stream",
     "text": [
      "/var/folders/bd/srftq4bj7r90mhbkt_4lfx880000gn/T/ipykernel_23748/2049950140.py:1: SettingWithCopyWarning: \n",
      "A value is trying to be set on a copy of a slice from a DataFrame.\n",
      "Try using .loc[row_indexer,col_indexer] = value instead\n",
      "\n",
      "See the caveats in the documentation: https://pandas.pydata.org/pandas-docs/stable/user_guide/indexing.html#returning-a-view-versus-a-copy\n",
      "  sample_cluster_df['date'] = sample_cluster_df.index.date\n"
     ]
    }
   ],
   "source": [
    "sample_cluster_df['date'] = sample_cluster_df.index.date"
   ]
  },
  {
   "cell_type": "code",
   "execution_count": null,
   "id": "db0645f0-a4dc-4442-977e-78fc85ffe0e5",
   "metadata": {},
   "outputs": [],
   "source": [
    "len(set(sample_cluster_df['cluster_id'].to_list()))"
   ]
  },
  {
   "cell_type": "code",
   "execution_count": 29,
   "id": "559c0fae-c0ad-48c8-bc6b-fbc50dd7dea9",
   "metadata": {},
   "outputs": [],
   "source": [
    "single_day_df = sample_cluster_df.loc[(sample_cluster_df.index.floor('D') == '2022-03-26')]"
   ]
  },
  {
   "cell_type": "code",
   "execution_count": null,
   "id": "4b222f67-7f5e-4aa0-839d-22e2c2562bc5",
   "metadata": {},
   "outputs": [],
   "source": [
    "two_day_df = df2.loc[(df2.index.floor('D') == '2022-03-26') | (df2.index.floor('D') == '2022-03-27')]"
   ]
  },
  {
   "cell_type": "code",
   "execution_count": 30,
   "id": "18bda597-5e48-4812-9e6d-163103798ed4",
   "metadata": {},
   "outputs": [],
   "source": [
    "df_single_cluster = single_day_df.loc[single_day_df['cluster_id'] == '01d1e513-9210-4099-967f-6dc13a7b4cc4']"
   ]
  },
  {
   "cell_type": "markdown",
   "id": "09d95546-e834-4824-8e4a-09b574b9163e",
   "metadata": {},
   "source": [
    "# Total Avg of Cpu\n",
    "# Min of the cluster cpu usage\n",
    "# Max of the cluster cpu usage\n",
    "# Top 5 Min AVG cpu usage\n",
    "# Top 5 Max AVG cpu usage"
   ]
  },
  {
   "cell_type": "code",
   "execution_count": 27,
   "id": "04267fc7-2b6e-4512-b188-f14ec041a8d3",
   "metadata": {},
   "outputs": [],
   "source": [
    "def generate_features(current_list):\n",
    "    #print(current_list)\n",
    "    current_list.sort()\n",
    "    metric_max = max(current_list)\n",
    "    metric_min = min(current_list)\n",
    "    metric_avg = sum(current_list)/len(current_list)\n",
    "    top_5_max_avg = sum(current_list[:5])/5\n",
    "    top_5_min_avg = sum(current_list[-5:])/5\n",
    "    min_max_diff = metric_max - metric_min\n",
    "    min_max_5_diff = top_5_max_avg - top_5_min_avg\n",
    "    #print(metric_max, metric_min, metric_avg, top_5_max_avg, top_5_min_avg, min_max_diff, min_max_5_diff)\n",
    "    return [ metric_max, metric_min, metric_avg, top_5_max_avg, top_5_min_avg, min_max_diff, min_max_5_diff]\n",
    "    "
   ]
  },
  {
   "cell_type": "code",
   "execution_count": 31,
   "id": "f48be111-898e-4b21-b466-a4f8185f304e",
   "metadata": {},
   "outputs": [
    {
     "data": {
      "text/html": [
       "<div>\n",
       "<style scoped>\n",
       "    .dataframe tbody tr th:only-of-type {\n",
       "        vertical-align: middle;\n",
       "    }\n",
       "\n",
       "    .dataframe tbody tr th {\n",
       "        vertical-align: top;\n",
       "    }\n",
       "\n",
       "    .dataframe thead th {\n",
       "        text-align: right;\n",
       "    }\n",
       "</style>\n",
       "<table border=\"1\" class=\"dataframe\">\n",
       "  <thead>\n",
       "    <tr style=\"text-align: right;\">\n",
       "      <th></th>\n",
       "      <th>cpu_usage</th>\n",
       "      <th>cluster_id</th>\n",
       "      <th>date</th>\n",
       "    </tr>\n",
       "    <tr>\n",
       "      <th>timestamp</th>\n",
       "      <th></th>\n",
       "      <th></th>\n",
       "      <th></th>\n",
       "    </tr>\n",
       "  </thead>\n",
       "  <tbody>\n",
       "    <tr>\n",
       "      <th>2022-03-25 19:30:00</th>\n",
       "      <td>3.878381</td>\n",
       "      <td>032412b9-b016-4989-9974-e18cff9c802f</td>\n",
       "      <td>2022-03-25</td>\n",
       "    </tr>\n",
       "    <tr>\n",
       "      <th>2022-03-25 19:45:00</th>\n",
       "      <td>4.774857</td>\n",
       "      <td>032412b9-b016-4989-9974-e18cff9c802f</td>\n",
       "      <td>2022-03-25</td>\n",
       "    </tr>\n",
       "    <tr>\n",
       "      <th>2022-03-25 20:00:00</th>\n",
       "      <td>3.936476</td>\n",
       "      <td>032412b9-b016-4989-9974-e18cff9c802f</td>\n",
       "      <td>2022-03-25</td>\n",
       "    </tr>\n",
       "    <tr>\n",
       "      <th>2022-03-25 20:15:00</th>\n",
       "      <td>4.205429</td>\n",
       "      <td>032412b9-b016-4989-9974-e18cff9c802f</td>\n",
       "      <td>2022-03-25</td>\n",
       "    </tr>\n",
       "    <tr>\n",
       "      <th>2022-03-25 20:30:00</th>\n",
       "      <td>3.828762</td>\n",
       "      <td>032412b9-b016-4989-9974-e18cff9c802f</td>\n",
       "      <td>2022-03-25</td>\n",
       "    </tr>\n",
       "  </tbody>\n",
       "</table>\n",
       "</div>"
      ],
      "text/plain": [
       "                     cpu_usage                            cluster_id  \\\n",
       "timestamp                                                              \n",
       "2022-03-25 19:30:00   3.878381  032412b9-b016-4989-9974-e18cff9c802f   \n",
       "2022-03-25 19:45:00   4.774857  032412b9-b016-4989-9974-e18cff9c802f   \n",
       "2022-03-25 20:00:00   3.936476  032412b9-b016-4989-9974-e18cff9c802f   \n",
       "2022-03-25 20:15:00   4.205429  032412b9-b016-4989-9974-e18cff9c802f   \n",
       "2022-03-25 20:30:00   3.828762  032412b9-b016-4989-9974-e18cff9c802f   \n",
       "\n",
       "                           date  \n",
       "timestamp                        \n",
       "2022-03-25 19:30:00  2022-03-25  \n",
       "2022-03-25 19:45:00  2022-03-25  \n",
       "2022-03-25 20:00:00  2022-03-25  \n",
       "2022-03-25 20:15:00  2022-03-25  \n",
       "2022-03-25 20:30:00  2022-03-25  "
      ]
     },
     "execution_count": 31,
     "metadata": {},
     "output_type": "execute_result"
    }
   ],
   "source": [
    "sample_cluster_df.head()"
   ]
  },
  {
   "cell_type": "code",
   "execution_count": null,
   "id": "d77218d8-519a-40e4-934d-b4dad6626f93",
   "metadata": {},
   "outputs": [],
   "source": [
    "#single day\n",
    "new_list = []\n",
    "for cluster_id, current_df1 in single_day.groupby('cluster_id'):\n",
    "    for date, current_df2 in current_df1.groupby('date'):\n",
    "        current_list = current_df2['cpu_usage'].to_list()\n",
    "        features_generated = [cluster_id]\n",
    "        features_generated.extend(generate_features(current_list))\n",
    "        new_list.append(features_generated)\n",
    "    print(cluster_id, count)\n",
    "new_df = pd.DataFrame(new_list,columns=['cluster_id','metric_max', 'metric_min', 'metric_avg', 'top_5_max_avg', 'top_5_min_avg', 'min_max_diff', 'min_max_5_diff'])\n",
    "print(count)"
   ]
  },
  {
   "cell_type": "code",
   "execution_count": 32,
   "id": "c8423996-15c1-46e4-9f1d-ee32d2dbaeef",
   "metadata": {},
   "outputs": [],
   "source": [
    "#all_days\n",
    "new_list = []\n",
    "resampled_df = sample_cluster_df.sample(100)\n",
    "for cluster_id, current_df1 in sample_cluster_df.groupby('cluster_id'):\n",
    "        #print(cluster_id,current_df1.head())\n",
    "        current_list = current_df1['cpu_usage'].to_list()\n",
    "        features_generated = [cluster_id]\n",
    "        features_generated.extend(generate_features(current_list))\n",
    "        new_list.append(features_generated)\n",
    "new_df2 = pd.DataFrame(new_list,columns=['cluster_id','all_metric_max', 'all_metric_min', 'all_metric_avg', 'all_top_5_max_avg', 'all_top_5_min_avg', 'all_min_max_diff', 'all_min_max_5_diff'])"
   ]
  },
  {
   "cell_type": "code",
   "execution_count": 33,
   "id": "9703a20e-67b5-4ccd-ae9e-d0f6efa07ff6",
   "metadata": {},
   "outputs": [
    {
     "data": {
      "text/html": [
       "<div>\n",
       "<style scoped>\n",
       "    .dataframe tbody tr th:only-of-type {\n",
       "        vertical-align: middle;\n",
       "    }\n",
       "\n",
       "    .dataframe tbody tr th {\n",
       "        vertical-align: top;\n",
       "    }\n",
       "\n",
       "    .dataframe thead th {\n",
       "        text-align: right;\n",
       "    }\n",
       "</style>\n",
       "<table border=\"1\" class=\"dataframe\">\n",
       "  <thead>\n",
       "    <tr style=\"text-align: right;\">\n",
       "      <th></th>\n",
       "      <th>cluster_id</th>\n",
       "      <th>all_metric_max</th>\n",
       "      <th>all_metric_min</th>\n",
       "      <th>all_metric_avg</th>\n",
       "      <th>all_top_5_max_avg</th>\n",
       "      <th>all_top_5_min_avg</th>\n",
       "      <th>all_min_max_diff</th>\n",
       "      <th>all_min_max_5_diff</th>\n",
       "    </tr>\n",
       "  </thead>\n",
       "  <tbody>\n",
       "    <tr>\n",
       "      <th>0</th>\n",
       "      <td>0118e3df-e1d7-4c8f-8c66-f6be120291c9</td>\n",
       "      <td>12.247143</td>\n",
       "      <td>3.349668</td>\n",
       "      <td>6.245500</td>\n",
       "      <td>4.283667</td>\n",
       "      <td>8.287596</td>\n",
       "      <td>8.897475</td>\n",
       "      <td>-4.003929</td>\n",
       "    </tr>\n",
       "    <tr>\n",
       "      <th>1</th>\n",
       "      <td>011c1753-547f-4de1-8906-2b1efd97ab78</td>\n",
       "      <td>5.112952</td>\n",
       "      <td>4.717714</td>\n",
       "      <td>4.915333</td>\n",
       "      <td>1.966133</td>\n",
       "      <td>1.966133</td>\n",
       "      <td>0.395238</td>\n",
       "      <td>0.000000</td>\n",
       "    </tr>\n",
       "    <tr>\n",
       "      <th>2</th>\n",
       "      <td>015aac3a-7c20-4295-8d70-21367edb85d4</td>\n",
       "      <td>7.921768</td>\n",
       "      <td>2.274571</td>\n",
       "      <td>5.489657</td>\n",
       "      <td>5.489657</td>\n",
       "      <td>5.489657</td>\n",
       "      <td>5.647196</td>\n",
       "      <td>0.000000</td>\n",
       "    </tr>\n",
       "    <tr>\n",
       "      <th>3</th>\n",
       "      <td>01628177-989c-4ee9-903d-8472976dc9ad</td>\n",
       "      <td>16.432976</td>\n",
       "      <td>4.575810</td>\n",
       "      <td>11.684649</td>\n",
       "      <td>9.347719</td>\n",
       "      <td>9.347719</td>\n",
       "      <td>11.857166</td>\n",
       "      <td>0.000000</td>\n",
       "    </tr>\n",
       "    <tr>\n",
       "      <th>4</th>\n",
       "      <td>0213ac40-8740-41dd-a688-bb9c6f3550f6</td>\n",
       "      <td>14.847368</td>\n",
       "      <td>3.223429</td>\n",
       "      <td>6.256243</td>\n",
       "      <td>4.229504</td>\n",
       "      <td>7.926085</td>\n",
       "      <td>11.623939</td>\n",
       "      <td>-3.696581</td>\n",
       "    </tr>\n",
       "  </tbody>\n",
       "</table>\n",
       "</div>"
      ],
      "text/plain": [
       "                             cluster_id  all_metric_max  all_metric_min  \\\n",
       "0  0118e3df-e1d7-4c8f-8c66-f6be120291c9       12.247143        3.349668   \n",
       "1  011c1753-547f-4de1-8906-2b1efd97ab78        5.112952        4.717714   \n",
       "2  015aac3a-7c20-4295-8d70-21367edb85d4        7.921768        2.274571   \n",
       "3  01628177-989c-4ee9-903d-8472976dc9ad       16.432976        4.575810   \n",
       "4  0213ac40-8740-41dd-a688-bb9c6f3550f6       14.847368        3.223429   \n",
       "\n",
       "   all_metric_avg  all_top_5_max_avg  all_top_5_min_avg  all_min_max_diff  \\\n",
       "0        6.245500           4.283667           8.287596          8.897475   \n",
       "1        4.915333           1.966133           1.966133          0.395238   \n",
       "2        5.489657           5.489657           5.489657          5.647196   \n",
       "3       11.684649           9.347719           9.347719         11.857166   \n",
       "4        6.256243           4.229504           7.926085         11.623939   \n",
       "\n",
       "   all_min_max_5_diff  \n",
       "0           -4.003929  \n",
       "1            0.000000  \n",
       "2            0.000000  \n",
       "3            0.000000  \n",
       "4           -3.696581  "
      ]
     },
     "execution_count": 33,
     "metadata": {},
     "output_type": "execute_result"
    }
   ],
   "source": [
    "new_df2.head()"
   ]
  },
  {
   "cell_type": "code",
   "execution_count": 10,
   "id": "7a284a28-71e3-4c0c-9d8d-49943b92bd67",
   "metadata": {},
   "outputs": [],
   "source": [
    "from scipy.stats import zscore"
   ]
  },
  {
   "cell_type": "code",
   "execution_count": 11,
   "id": "93441570-6f06-41cf-92fa-ec554e546e7c",
   "metadata": {},
   "outputs": [],
   "source": [
    "from sklearn.cluster import DBSCAN"
   ]
  },
  {
   "cell_type": "code",
   "execution_count": null,
   "id": "5649b798-e329-40af-9e7d-cb1c99a55cb2",
   "metadata": {},
   "outputs": [],
   "source": [
    "db = DBSCAN(eps=35,min_samples=10).fit(new_df2[['all_metric_max', 'all_metric_min', 'all_metric_avg', 'all_top_5_max_avg', 'all_top_5_min_avg', 'all_min_max_diff', 'all_min_max_5_diff']])"
   ]
  },
  {
   "cell_type": "code",
   "execution_count": 6,
   "id": "b5bfe75c-c17e-4faf-89cb-d9ec8ff626bc",
   "metadata": {},
   "outputs": [],
   "source": [
    "from collections import Counter\n",
    "import pickle"
   ]
  },
  {
   "cell_type": "code",
   "execution_count": null,
   "id": "37b02086-b163-468c-87e1-045260b68471",
   "metadata": {},
   "outputs": [],
   "source": [
    "labels = db.labels_"
   ]
  },
  {
   "cell_type": "code",
   "execution_count": 5,
   "id": "249465f9-e74d-49bc-9a69-b75c10d033ed",
   "metadata": {},
   "outputs": [
    {
     "ename": "NameError",
     "evalue": "name 'labels' is not defined",
     "output_type": "error",
     "traceback": [
      "\u001b[0;31m---------------------------------------------------------------------------\u001b[0m",
      "\u001b[0;31mNameError\u001b[0m                                 Traceback (most recent call last)",
      "Input \u001b[0;32mIn [5]\u001b[0m, in \u001b[0;36m<cell line: 1>\u001b[0;34m()\u001b[0m\n\u001b[0;32m----> 1\u001b[0m Counter(\u001b[43mlabels\u001b[49m)\n",
      "\u001b[0;31mNameError\u001b[0m: name 'labels' is not defined"
     ]
    }
   ],
   "source": [
    "Counter(labels)"
   ]
  },
  {
   "cell_type": "code",
   "execution_count": null,
   "id": "9c9be2a5-df3f-4a44-85c3-33ad5c89220d",
   "metadata": {},
   "outputs": [],
   "source": [
    "with open('current_labels.pkl','wb+') as f:\n",
    "    pickle.dump(labels,f)"
   ]
  },
  {
   "cell_type": "code",
   "execution_count": 7,
   "id": "39ab555d-b67c-48a0-a676-27ddcb68c729",
   "metadata": {},
   "outputs": [],
   "source": [
    "with open('current_labels.pkl','rb') as f:\n",
    "    new_list2 = pickle.load(f)"
   ]
  },
  {
   "cell_type": "code",
   "execution_count": 8,
   "id": "f75f2774-0765-4b7f-8007-c2e6071802a7",
   "metadata": {},
   "outputs": [
    {
     "data": {
      "text/plain": [
       "Counter({0: 9924, -1: 76})"
      ]
     },
     "execution_count": 8,
     "metadata": {},
     "output_type": "execute_result"
    }
   ],
   "source": [
    "Counter(new_list2)"
   ]
  },
  {
   "cell_type": "code",
   "execution_count": null,
   "id": "0a128967-1337-48a6-9207-2c0524d76ab2",
   "metadata": {},
   "outputs": [],
   "source": []
  }
 ],
 "metadata": {
  "kernelspec": {
   "display_name": "Python 3 (ipykernel)",
   "language": "python",
   "name": "python3"
  },
  "language_info": {
   "codemirror_mode": {
    "name": "ipython",
    "version": 3
   },
   "file_extension": ".py",
   "mimetype": "text/x-python",
   "name": "python",
   "nbconvert_exporter": "python",
   "pygments_lexer": "ipython3",
   "version": "3.10.4"
  }
 },
 "nbformat": 4,
 "nbformat_minor": 5
}
