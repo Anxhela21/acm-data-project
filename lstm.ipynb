{
 "cells": [
  {
   "cell_type": "code",
   "execution_count": 1,
   "id": "6459798e-33a5-4362-bda6-1a4e0766f35b",
   "metadata": {},
   "outputs": [],
   "source": [
    "from prometheus_api_client import *\n",
    "import prometheus_api_client\n",
    "from prometheus_api_client.utils import parse_datetime, parse_timedelta\n",
    "import matplotlib.pyplot as plt\n",
    "import os\n",
    "import numpy as np\n",
    "import sys\n",
    "import datetime\n",
    "import pandas as pd\n",
    "# import seaborn as sns\n",
    "# # Set default Seaborn style\n",
    "# sns.set(style=\"darkgrid\")\n",
    "# sns.set_context(\"talk\", font_scale=1.4)\n",
    "## hides ipython warnings\n",
    "import warnings\n",
    "warnings.filterwarnings('ignore')\n",
    "plt.rcParams['figure.figsize'] = (30, 10)\n",
    "#plt.rcParams['figure.figsize'] = (20, 5)"
   ]
  },
  {
   "cell_type": "code",
   "execution_count": 2,
   "id": "48acf4e2-56d8-419d-b676-b95e4f0d3513",
   "metadata": {},
   "outputs": [],
   "source": [
    "sample_df = pd.read_csv('sample_cluster_15d_15_min_int.csv',index_col='timestamp')"
   ]
  },
  {
   "cell_type": "code",
   "execution_count": null,
   "id": "98d058e9-d8b7-4ccb-9d6f-457e33382bc2",
   "metadata": {},
   "outputs": [],
   "source": []
  },
  {
   "cell_type": "code",
   "execution_count": null,
   "id": "cc9206c4-9c23-417d-960a-ed6c3432df18",
   "metadata": {},
   "outputs": [],
   "source": []
  }
 ],
 "metadata": {
  "kernelspec": {
   "display_name": "Python 3 (ipykernel)",
   "language": "python",
   "name": "python3"
  },
  "language_info": {
   "codemirror_mode": {
    "name": "ipython",
    "version": 3
   },
   "file_extension": ".py",
   "mimetype": "text/x-python",
   "name": "python",
   "nbconvert_exporter": "python",
   "pygments_lexer": "ipython3",
   "version": "3.10.4"
  }
 },
 "nbformat": 4,
 "nbformat_minor": 5
}
