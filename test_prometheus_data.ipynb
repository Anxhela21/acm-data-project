{
 "cells": [
  {
   "cell_type": "code",
   "execution_count": 4,
   "id": "b1c31879-c50c-4bef-860a-691c9c96345d",
   "metadata": {},
   "outputs": [],
   "source": [
    "from prometheus_api_client import Metric, MetricsList, PrometheusConnect\n",
    "import matplotlib.pyplot as plt\n",
    "import os\n",
    "import numpy as np"
   ]
  },
  {
   "cell_type": "code",
   "execution_count": 5,
   "id": "49ebf93c-267e-4b19-86bd-b7243b96af24",
   "metadata": {},
   "outputs": [],
   "source": [
    "url=\" https://prometheus-k8s-openshift-monitoring.apps.playback-next.demo.red-chesterfield.com\"\n",
    "token=\"sha256~9pv9LTdsWGT5G8wnV5nLVOXzav4qkVSO9irW6bBizvs\""
   ]
  },
  {
   "cell_type": "code",
   "execution_count": 6,
   "id": "82f4d271-5994-4fc8-9ca3-866dcf0aa540",
   "metadata": {},
   "outputs": [],
   "source": [
    "pc = PrometheusConnect(url=url, headers={\"Authorization\": \"bearer {}\".format(token)},disable_ssl=True)"
   ]
  },
  {
   "cell_type": "code",
   "execution_count": 7,
   "id": "df6ad73b-4071-45f8-b330-d2d0049af2d9",
   "metadata": {},
   "outputs": [
    {
     "data": {
      "text/plain": [
       "<prometheus_api_client.prometheus_connect.PrometheusConnect at 0x11840c130>"
      ]
     },
     "execution_count": 7,
     "metadata": {},
     "output_type": "execute_result"
    }
   ],
   "source": [
    "pc"
   ]
  },
  {
   "cell_type": "code",
   "execution_count": 8,
   "id": "d273601c-121b-4c12-84b8-56a935776135",
   "metadata": {},
   "outputs": [
    {
     "name": "stdout",
     "output_type": "stream",
     "text": [
      "2592\n"
     ]
    },
    {
     "name": "stderr",
     "output_type": "stream",
     "text": [
      "/Library/Frameworks/Python.framework/Versions/3.10/lib/python3.10/site-packages/urllib3/connectionpool.py:1043: InsecureRequestWarning: Unverified HTTPS request is being made to host 'prometheus-k8s-openshift-monitoring.apps.playback-next.demo.red-chesterfield.com'. Adding certificate verification is strongly advised. See: https://urllib3.readthedocs.io/en/1.26.x/advanced-usage.html#ssl-warnings\n",
      "  warnings.warn(\n"
     ]
    }
   ],
   "source": [
    "all_metrics = pc.all_metrics()\n",
    "print(len(all_metrics))"
   ]
  },
  {
   "cell_type": "code",
   "execution_count": null,
   "id": "29ac6fde-68a1-48f0-a72c-c5d33b17d63f",
   "metadata": {},
   "outputs": [],
   "source": []
  },
  {
   "cell_type": "code",
   "execution_count": null,
   "id": "77c9c12b-baba-40eb-9d71-c87ee49e8f38",
   "metadata": {},
   "outputs": [],
   "source": []
  }
 ],
 "metadata": {
  "kernelspec": {
   "display_name": "Python 3 (ipykernel)",
   "language": "python",
   "name": "python3"
  },
  "language_info": {
   "codemirror_mode": {
    "name": "ipython",
    "version": 3
   },
   "file_extension": ".py",
   "mimetype": "text/x-python",
   "name": "python",
   "nbconvert_exporter": "python",
   "pygments_lexer": "ipython3",
   "version": "3.10.4"
  }
 },
 "nbformat": 4,
 "nbformat_minor": 5
}
