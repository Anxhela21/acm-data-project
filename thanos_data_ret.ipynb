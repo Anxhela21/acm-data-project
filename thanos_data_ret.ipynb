{
 "cells": [
  {
   "cell_type": "code",
   "execution_count": null,
   "id": "1a71a73c-3b95-4118-9aa1-5a332ae12bb0",
   "metadata": {},
   "outputs": [],
   "source": [
    "from prometheus_api_client import *\n",
    "import prometheus_api_client\n",
    "from prometheus_api_client.utils import parse_datetime, parse_timedelta\n",
    "import matplotlib.pyplot as plt\n",
    "import os\n",
    "import numpy as np\n",
    "import sys\n",
    "import datetime\n",
    "import pandas as pd\n",
    "# import seaborn as sns\n",
    "# # Set default Seaborn style\n",
    "# sns.set(style=\"darkgrid\")\n",
    "# sns.set_context(\"talk\", font_scale=1.4)\n",
    "## hides ipython warnings\n",
    "import warnings\n",
    "warnings.filterwarnings('ignore')\n",
    "plt.rcParams['figure.figsize'] = (30, 10)\n",
    "#plt.rcParams['figure.figsize'] = (20, 5)"
   ]
  },
  {
   "cell_type": "code",
   "execution_count": null,
   "id": "20e0c86c-362f-4935-8ff8-bc75edf691d7",
   "metadata": {},
   "outputs": [],
   "source": [
    "url = \"https://prometheus-k8s-openshift-monitoring.apps.playback-next.demo.red-chesterfield.com//\"\n",
    "url2 = \"https://telemeter-lts.datahub.redhat.com/\"\n",
    "token = \"o38v3-zTRnvZnEawDvh7UktgYwGK4u8-7X8a4CqeciY\"\n",
    "#connects to prometheus\n",
    "pc = PrometheusConnect(url=url2, headers={\"Authorization\": \"Bearer {}\".format(token)}, disable_ssl=True);"
   ]
  },
  {
   "cell_type": "code",
   "execution_count": null,
   "id": "d826ac9a-dd75-4fdd-98ae-ff1dd2b703b0",
   "metadata": {},
   "outputs": [],
   "source": [
    "start_time=(datetime.datetime.now() - datetime.timedelta(days=1))\n",
    "end_time=datetime.datetime.now()\n",
    "step='30s'"
   ]
  },
  {
   "cell_type": "code",
   "execution_count": null,
   "id": "86aba791-684d-4baa-909a-6547981f54ce",
   "metadata": {},
   "outputs": [],
   "source": [
    "cluster_cpu = pc.custom_query_range(\n",
    "    query='cluster:cpu_usage_cores:sum', \n",
    "    start_time=start_time,\n",
    "    end_time=end_time,\n",
    "    step=step\n",
    ")\n",
    "print(type(cluster_cpu))"
   ]
  },
  {
   "cell_type": "code",
   "execution_count": null,
   "id": "e234aecd-f8c5-4e95-80ac-cbc4325b09d5",
   "metadata": {},
   "outputs": [],
   "source": [
    "print(cluster_cpu[1]['metric']['cluster_name'],'\\n',cluster_cpu[2]['metric'],len(cluster_cpu))"
   ]
  },
  {
   "cell_type": "code",
   "execution_count": null,
   "id": "3f25e7af-dd69-475b-ae46-5de2d4639948",
   "metadata": {},
   "outputs": [],
   "source": [
    "total_records = 0\n",
    "for element in cluster_cpu:\n",
    "    total_records += len(element['values'])\n",
    "print(total_records)"
   ]
  },
  {
   "cell_type": "code",
   "execution_count": null,
   "id": "e5aff6d8-f3e2-445c-b15b-9e351ede21af",
   "metadata": {},
   "outputs": [],
   "source": [
    "len(cluster_cpu)"
   ]
  },
  {
   "cell_type": "code",
   "execution_count": null,
   "id": "203a5652-35b9-4870-bcad-06afa135525a",
   "metadata": {},
   "outputs": [],
   "source": [
    "server_count = set()\n",
    "for element in cluster_cpu:\n",
    "    server_count.add(element['metric']['_id'])"
   ]
  },
  {
   "cell_type": "code",
   "execution_count": null,
   "id": "6d810adf-566b-4926-9237-f1268c449d96",
   "metadata": {},
   "outputs": [],
   "source": [
    "test_narray = np.array((cluster_cpu[0]['values']))\n",
    "test_narray.shape\n",
    "test_cluster_cpu_df = pd.DataFrame(test_narray,columns=['timestamp', 'Cpu_usage','_id'])\n",
    "test_cluster_cpu_df.timestamp= pd.to_datetime(test_cluster_cpu_df.timestamp, unit=\"s\")\n",
    "test_cluster_cpu_df[\"Cpu_usage\"]=test_cluster_cpu_df[\"Cpu_usage\"].astype(float)"
   ]
  },
  {
   "cell_type": "code",
   "execution_count": null,
   "id": "9d3ea171-626d-4600-93b9-c6331b611eb7",
   "metadata": {},
   "outputs": [],
   "source": [
    "len(server_count)"
   ]
  }
 ],
 "metadata": {
  "kernelspec": {
   "display_name": "Python 3 (ipykernel)",
   "language": "python",
   "name": "python3"
  },
  "language_info": {
   "codemirror_mode": {
    "name": "ipython",
    "version": 3
   },
   "file_extension": ".py",
   "mimetype": "text/x-python",
   "name": "python",
   "nbconvert_exporter": "python",
   "pygments_lexer": "ipython3",
   "version": "3.10.4"
  }
 },
 "nbformat": 4,
 "nbformat_minor": 5
}
