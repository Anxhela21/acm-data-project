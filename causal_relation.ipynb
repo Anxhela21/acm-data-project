{
 "cells": [
  {
   "cell_type": "markdown",
   "id": "6364e088-05fb-405f-8ee1-600ccfaf8177",
   "metadata": {},
   "source": [
    "cluster:apiserver_current_inflight_requests:sum:max_over_time:2m\n",
    "{\"alerts\":count by (alertname) (alerts{alertname=~\"etcd.+\"}),\n",
    "\"network_latency\":instance:etcd_network_peer_round_trip_time_seconds:histogram_quantile,\n",
    "\"disk\":{__name__=\"instance:etcd_disk_wal_fsync_duration_seconds:histogram_quantile\",quantile=\"0.99\"}}"
   ]
  },
  {
   "cell_type": "code",
   "execution_count": 1,
   "id": "cde8c99e-d760-46d9-beeb-cc70c507b37e",
   "metadata": {},
   "outputs": [],
   "source": [
    "import numpy as np\n",
    "import matplotlib.pyplot as plt\n",
    "import pandas as pd\n",
    "import datetime\n",
    "from prometheus_api_client import PrometheusConnect"
   ]
  },
  {
   "cell_type": "code",
   "execution_count": 26,
   "id": "fcf04a9c-fcf1-4992-84f9-1ce10f0cba3f",
   "metadata": {},
   "outputs": [],
   "source": [
    "managed_cluster_df = pd.read_csv('./datasets/managed_clusters.csv')\n",
    "hub_cluster_df = pd.read_csv('./datasets/hub_cluster.csv')"
   ]
  },
  {
   "cell_type": "code",
   "execution_count": 2,
   "id": "6829ef0d-f7ad-4f36-acb8-f5675807baed",
   "metadata": {},
   "outputs": [],
   "source": [
    "disk_ts =  pd.read_csv('/Users/sponnur/PycharmProjects/pythonProject1/disk_2022_05_22_1_15m.csv')"
   ]
  },
  {
   "cell_type": "code",
   "execution_count": 105,
   "id": "22804470-3dbd-475f-aaaf-7ec794d5ccad",
   "metadata": {},
   "outputs": [],
   "source": [
    "api_ts =  pd.read_csv('/Users/sponnur/PycharmProjects/pythonProject1/api_server_count_2022_05_22_1_15m.csv')"
   ]
  },
  {
   "cell_type": "code",
   "execution_count": 150,
   "id": "c216f560-11f6-4c74-a3bf-75851c7ef97a",
   "metadata": {},
   "outputs": [],
   "source": [
    "alerts_ts =  pd.read_csv('/Users/sponnur/PycharmProjects/pythonProject1/alerts_2022_05_22_1_15m.csv')"
   ]
  },
  {
   "cell_type": "code",
   "execution_count": 3,
   "id": "c6dc0d9d-15d4-463a-94ea-3c7d0df227e5",
   "metadata": {},
   "outputs": [
    {
     "data": {
      "text/html": [
       "<div>\n",
       "<style scoped>\n",
       "    .dataframe tbody tr th:only-of-type {\n",
       "        vertical-align: middle;\n",
       "    }\n",
       "\n",
       "    .dataframe tbody tr th {\n",
       "        vertical-align: top;\n",
       "    }\n",
       "\n",
       "    .dataframe thead th {\n",
       "        text-align: right;\n",
       "    }\n",
       "</style>\n",
       "<table border=\"1\" class=\"dataframe\">\n",
       "  <thead>\n",
       "    <tr style=\"text-align: right;\">\n",
       "      <th></th>\n",
       "      <th>timestamp</th>\n",
       "      <th>disk</th>\n",
       "      <th>cluster_id</th>\n",
       "    </tr>\n",
       "  </thead>\n",
       "  <tbody>\n",
       "    <tr>\n",
       "      <th>0</th>\n",
       "      <td>2022-05-22 17:45:00</td>\n",
       "      <td>0.003583</td>\n",
       "      <td>6f797563-a5b6-4af9-bda1-268af05cd179</td>\n",
       "    </tr>\n",
       "    <tr>\n",
       "      <th>1</th>\n",
       "      <td>2022-05-22 18:00:00</td>\n",
       "      <td>0.003463</td>\n",
       "      <td>6f797563-a5b6-4af9-bda1-268af05cd179</td>\n",
       "    </tr>\n",
       "    <tr>\n",
       "      <th>2</th>\n",
       "      <td>2022-05-22 18:15:00</td>\n",
       "      <td>0.003465</td>\n",
       "      <td>6f797563-a5b6-4af9-bda1-268af05cd179</td>\n",
       "    </tr>\n",
       "    <tr>\n",
       "      <th>3</th>\n",
       "      <td>2022-05-22 18:30:00</td>\n",
       "      <td>0.003527</td>\n",
       "      <td>6f797563-a5b6-4af9-bda1-268af05cd179</td>\n",
       "    </tr>\n",
       "    <tr>\n",
       "      <th>4</th>\n",
       "      <td>2022-05-22 18:45:00</td>\n",
       "      <td>0.003732</td>\n",
       "      <td>6f797563-a5b6-4af9-bda1-268af05cd179</td>\n",
       "    </tr>\n",
       "  </tbody>\n",
       "</table>\n",
       "</div>"
      ],
      "text/plain": [
       "             timestamp      disk                            cluster_id\n",
       "0  2022-05-22 17:45:00  0.003583  6f797563-a5b6-4af9-bda1-268af05cd179\n",
       "1  2022-05-22 18:00:00  0.003463  6f797563-a5b6-4af9-bda1-268af05cd179\n",
       "2  2022-05-22 18:15:00  0.003465  6f797563-a5b6-4af9-bda1-268af05cd179\n",
       "3  2022-05-22 18:30:00  0.003527  6f797563-a5b6-4af9-bda1-268af05cd179\n",
       "4  2022-05-22 18:45:00  0.003732  6f797563-a5b6-4af9-bda1-268af05cd179"
      ]
     },
     "execution_count": 3,
     "metadata": {},
     "output_type": "execute_result"
    }
   ],
   "source": [
    "disk_ts.head()"
   ]
  },
  {
   "cell_type": "code",
   "execution_count": 4,
   "id": "a36d652d-8670-4c82-9eae-8a2fe6e744af",
   "metadata": {},
   "outputs": [],
   "source": [
    "network_ts =  pd.read_csv('/Users/sponnur/PycharmProjects/pythonProject1/network_latency_2022_05_22_1_15m.csv') "
   ]
  },
  {
   "cell_type": "code",
   "execution_count": 30,
   "id": "85d6ca97-941e-4518-95ae-e8903eae12f2",
   "metadata": {},
   "outputs": [],
   "source": [
    "managed_cluster_df.set_index('_id',inplace=True)"
   ]
  },
  {
   "cell_type": "code",
   "execution_count": 31,
   "id": "fb44451f-5556-4ad8-bb53-a594159adcc6",
   "metadata": {},
   "outputs": [],
   "source": [
    "network_ts_managed = network_ts.join(managed_cluster_df,on='cluster_id',how='inner')"
   ]
  },
  {
   "cell_type": "code",
   "execution_count": 106,
   "id": "b338a3b3-a730-47a0-9d8b-6a3a00cde07c",
   "metadata": {},
   "outputs": [],
   "source": [
    "api_ts_managed = api_ts.join(managed_cluster_df,on='cluster_id',how='inner')"
   ]
  },
  {
   "cell_type": "code",
   "execution_count": 90,
   "id": "298c1877-747e-47d2-ab86-003771078537",
   "metadata": {},
   "outputs": [],
   "source": [
    "disk_ts_managed = disk_ts.join(managed_cluster_df,on='cluster_id',how='inner')"
   ]
  },
  {
   "cell_type": "code",
   "execution_count": 91,
   "id": "14626baa-416a-429b-a9f7-a28fe5094bb7",
   "metadata": {},
   "outputs": [
    {
     "data": {
      "text/html": [
       "<div>\n",
       "<style scoped>\n",
       "    .dataframe tbody tr th:only-of-type {\n",
       "        vertical-align: middle;\n",
       "    }\n",
       "\n",
       "    .dataframe tbody tr th {\n",
       "        vertical-align: top;\n",
       "    }\n",
       "\n",
       "    .dataframe thead th {\n",
       "        text-align: right;\n",
       "    }\n",
       "</style>\n",
       "<table border=\"1\" class=\"dataframe\">\n",
       "  <thead>\n",
       "    <tr style=\"text-align: right;\">\n",
       "      <th></th>\n",
       "      <th>timestamp</th>\n",
       "      <th>disk</th>\n",
       "      <th>cluster_id</th>\n",
       "      <th>is_managed</th>\n",
       "    </tr>\n",
       "  </thead>\n",
       "  <tbody>\n",
       "    <tr>\n",
       "      <th>3744</th>\n",
       "      <td>2022-05-22 17:45:00</td>\n",
       "      <td>0.003418</td>\n",
       "      <td>0007753d-3cdc-4c4f-bdb5-c57b3715b55f</td>\n",
       "      <td>1</td>\n",
       "    </tr>\n",
       "    <tr>\n",
       "      <th>3745</th>\n",
       "      <td>2022-05-22 18:00:00</td>\n",
       "      <td>0.003514</td>\n",
       "      <td>0007753d-3cdc-4c4f-bdb5-c57b3715b55f</td>\n",
       "      <td>1</td>\n",
       "    </tr>\n",
       "    <tr>\n",
       "      <th>3746</th>\n",
       "      <td>2022-05-22 18:15:00</td>\n",
       "      <td>0.003770</td>\n",
       "      <td>0007753d-3cdc-4c4f-bdb5-c57b3715b55f</td>\n",
       "      <td>1</td>\n",
       "    </tr>\n",
       "    <tr>\n",
       "      <th>3747</th>\n",
       "      <td>2022-05-22 18:30:00</td>\n",
       "      <td>0.003288</td>\n",
       "      <td>0007753d-3cdc-4c4f-bdb5-c57b3715b55f</td>\n",
       "      <td>1</td>\n",
       "    </tr>\n",
       "    <tr>\n",
       "      <th>3748</th>\n",
       "      <td>2022-05-22 18:45:00</td>\n",
       "      <td>0.003910</td>\n",
       "      <td>0007753d-3cdc-4c4f-bdb5-c57b3715b55f</td>\n",
       "      <td>1</td>\n",
       "    </tr>\n",
       "  </tbody>\n",
       "</table>\n",
       "</div>"
      ],
      "text/plain": [
       "                timestamp      disk                            cluster_id  \\\n",
       "3744  2022-05-22 17:45:00  0.003418  0007753d-3cdc-4c4f-bdb5-c57b3715b55f   \n",
       "3745  2022-05-22 18:00:00  0.003514  0007753d-3cdc-4c4f-bdb5-c57b3715b55f   \n",
       "3746  2022-05-22 18:15:00  0.003770  0007753d-3cdc-4c4f-bdb5-c57b3715b55f   \n",
       "3747  2022-05-22 18:30:00  0.003288  0007753d-3cdc-4c4f-bdb5-c57b3715b55f   \n",
       "3748  2022-05-22 18:45:00  0.003910  0007753d-3cdc-4c4f-bdb5-c57b3715b55f   \n",
       "\n",
       "      is_managed  \n",
       "3744           1  \n",
       "3745           1  \n",
       "3746           1  \n",
       "3747           1  \n",
       "3748           1  "
      ]
     },
     "execution_count": 91,
     "metadata": {},
     "output_type": "execute_result"
    }
   ],
   "source": [
    "disk_ts_managed.head()"
   ]
  },
  {
   "cell_type": "code",
   "execution_count": 5,
   "id": "658a0d9f-0dce-4722-a88d-e8eccfae0ab2",
   "metadata": {},
   "outputs": [
    {
     "data": {
      "text/html": [
       "<div>\n",
       "<style scoped>\n",
       "    .dataframe tbody tr th:only-of-type {\n",
       "        vertical-align: middle;\n",
       "    }\n",
       "\n",
       "    .dataframe tbody tr th {\n",
       "        vertical-align: top;\n",
       "    }\n",
       "\n",
       "    .dataframe thead th {\n",
       "        text-align: right;\n",
       "    }\n",
       "</style>\n",
       "<table border=\"1\" class=\"dataframe\">\n",
       "  <thead>\n",
       "    <tr style=\"text-align: right;\">\n",
       "      <th></th>\n",
       "      <th>timestamp</th>\n",
       "      <th>network_latency</th>\n",
       "      <th>cluster_id</th>\n",
       "    </tr>\n",
       "  </thead>\n",
       "  <tbody>\n",
       "    <tr>\n",
       "      <th>0</th>\n",
       "      <td>2022-05-22 17:45:00</td>\n",
       "      <td>0.025344</td>\n",
       "      <td>6f797563-a5b6-4af9-bda1-268af05cd179</td>\n",
       "    </tr>\n",
       "    <tr>\n",
       "      <th>1</th>\n",
       "      <td>2022-05-22 18:00:00</td>\n",
       "      <td>0.025344</td>\n",
       "      <td>6f797563-a5b6-4af9-bda1-268af05cd179</td>\n",
       "    </tr>\n",
       "    <tr>\n",
       "      <th>2</th>\n",
       "      <td>2022-05-22 18:15:00</td>\n",
       "      <td>0.025344</td>\n",
       "      <td>6f797563-a5b6-4af9-bda1-268af05cd179</td>\n",
       "    </tr>\n",
       "    <tr>\n",
       "      <th>3</th>\n",
       "      <td>2022-05-22 18:30:00</td>\n",
       "      <td>0.025344</td>\n",
       "      <td>6f797563-a5b6-4af9-bda1-268af05cd179</td>\n",
       "    </tr>\n",
       "    <tr>\n",
       "      <th>4</th>\n",
       "      <td>2022-05-22 18:45:00</td>\n",
       "      <td>0.025344</td>\n",
       "      <td>6f797563-a5b6-4af9-bda1-268af05cd179</td>\n",
       "    </tr>\n",
       "  </tbody>\n",
       "</table>\n",
       "</div>"
      ],
      "text/plain": [
       "             timestamp  network_latency                            cluster_id\n",
       "0  2022-05-22 17:45:00         0.025344  6f797563-a5b6-4af9-bda1-268af05cd179\n",
       "1  2022-05-22 18:00:00         0.025344  6f797563-a5b6-4af9-bda1-268af05cd179\n",
       "2  2022-05-22 18:15:00         0.025344  6f797563-a5b6-4af9-bda1-268af05cd179\n",
       "3  2022-05-22 18:30:00         0.025344  6f797563-a5b6-4af9-bda1-268af05cd179\n",
       "4  2022-05-22 18:45:00         0.025344  6f797563-a5b6-4af9-bda1-268af05cd179"
      ]
     },
     "execution_count": 5,
     "metadata": {},
     "output_type": "execute_result"
    }
   ],
   "source": [
    "network_ts.head()"
   ]
  },
  {
   "cell_type": "code",
   "execution_count": 81,
   "id": "b7289339-42ae-4f56-8aaa-680f21594188",
   "metadata": {},
   "outputs": [],
   "source": [
    "indexes = pd.date_range('2022-05-23 00:00:00','2022-05-23 23:45:00',freq='15T')\n",
    "indexes_df = pd.DataFrame(indexes,columns=['timestamp'])"
   ]
  },
  {
   "cell_type": "code",
   "execution_count": 32,
   "id": "be4cc80b-0021-492a-81f4-0503b39427a6",
   "metadata": {},
   "outputs": [],
   "source": [
    "network_ts_managed.timestamp = pd.to_datetime(network_ts_managed.timestamp, infer_datetime_format=True)  "
   ]
  },
  {
   "cell_type": "code",
   "execution_count": 94,
   "id": "e4adcb37-9294-4bbe-bea4-c6afd582f132",
   "metadata": {},
   "outputs": [],
   "source": [
    "disk_ts_managed.timestamp = pd.to_datetime(disk_ts_managed.timestamp, infer_datetime_format=True)  "
   ]
  },
  {
   "cell_type": "code",
   "execution_count": 107,
   "id": "93d98b8d-5f5b-400a-9041-d23dcf554495",
   "metadata": {},
   "outputs": [],
   "source": [
    "api_ts_managed.timestamp = pd.to_datetime(api_ts_managed.timestamp, infer_datetime_format=True)  "
   ]
  },
  {
   "cell_type": "code",
   "execution_count": 83,
   "id": "6a39817f-ecf9-4b05-a5a9-8b88ed7a0421",
   "metadata": {},
   "outputs": [
    {
     "data": {
      "text/plain": [
       "(96, 1)"
      ]
     },
     "execution_count": 83,
     "metadata": {},
     "output_type": "execute_result"
    }
   ],
   "source": [
    "indexes_df.shape"
   ]
  },
  {
   "cell_type": "code",
   "execution_count": 23,
   "id": "7be3a4a6-fe71-49ea-a97e-057de60cd75a",
   "metadata": {},
   "outputs": [],
   "source": [
    "empty_clusters = []"
   ]
  },
  {
   "cell_type": "code",
   "execution_count": 136,
   "id": "d19cfc39-e822-439a-840d-8ec71f7fff23",
   "metadata": {},
   "outputs": [
    {
     "data": {
      "text/plain": [
       "(173522, 2)"
      ]
     },
     "execution_count": 136,
     "metadata": {},
     "output_type": "execute_result"
    }
   ],
   "source": [
    "network_ts_managed[['timestamp','network_latency']].shape"
   ]
  },
  {
   "cell_type": "code",
   "execution_count": 79,
   "id": "e1d6d4c1-5106-4eb7-b219-c5c115915fc9",
   "metadata": {},
   "outputs": [
    {
     "data": {
      "text/plain": [
       "(datetime.date(2022, 5, 22), datetime.date(2022, 5, 23))"
      ]
     },
     "execution_count": 79,
     "metadata": {},
     "output_type": "execute_result"
    }
   ],
   "source": [
    "network_ts_managed['timestamp'].dt.date.min(),network_ts_managed['timestamp'].dt.date.max()"
   ]
  },
  {
   "cell_type": "code",
   "execution_count": 55,
   "id": "01e86257-4855-4dba-8e05-38b925270189",
   "metadata": {},
   "outputs": [
    {
     "data": {
      "text/plain": [
       "613"
      ]
     },
     "execution_count": 55,
     "metadata": {},
     "output_type": "execute_result"
    }
   ],
   "source": [
    "len(network_ts_managed['cluster_id'].unique())"
   ]
  },
  {
   "cell_type": "code",
   "execution_count": 58,
   "id": "7184d41f-28e5-40f4-b846-45e6ff853d13",
   "metadata": {},
   "outputs": [],
   "source": [
    "sample = network_ts_managed[network_ts_managed['cluster_id'] == '0007753d-3cdc-4c4f-bdb5-c57b3715b55f']"
   ]
  },
  {
   "cell_type": "code",
   "execution_count": 87,
   "id": "8bb5f412-4a51-4fd4-883e-24291501d2b0",
   "metadata": {},
   "outputs": [],
   "source": [
    "network_ts_managed_clean = pd.DataFrame(columns=['timestamp','network_latency','cluster_id'])"
   ]
  },
  {
   "cell_type": "code",
   "execution_count": 92,
   "id": "d179a2c0-ddd5-4bb3-a158-286d7dca183b",
   "metadata": {},
   "outputs": [],
   "source": [
    "disk_ts_managed_clean = pd.DataFrame(columns=['timestamp','disk','cluster_id'])"
   ]
  },
  {
   "cell_type": "code",
   "execution_count": 108,
   "id": "bace5628-f7dc-469e-b9ea-07cfed32f77f",
   "metadata": {},
   "outputs": [],
   "source": [
    "api_ts_managed_clean = pd.DataFrame(columns=['timestamp','api_server_count','cluster_id'])"
   ]
  },
  {
   "cell_type": "code",
   "execution_count": 56,
   "id": "99313ecd-a84a-4dff-8ae0-3bffb707a819",
   "metadata": {},
   "outputs": [],
   "source": [
    "from impyute.imputation.ts import locf"
   ]
  },
  {
   "cell_type": "code",
   "execution_count": 88,
   "id": "3eccd6b5-2bd7-438d-8bd1-95c19f609cd0",
   "metadata": {},
   "outputs": [
    {
     "name": "stdout",
     "output_type": "stream",
     "text": [
      "This cluster has no valid entries: 462b2e0b-824c-46b1-b48c-3f664a5ab0b7 Error: Entire Column is NaN\n",
      "This cluster has no valid entries: 86a6d168-2b19-4cfc-8a9e-c8e7bce8578d Error: Entire Column is NaN\n",
      "This cluster has no valid entries: a7793e4a-0a09-4648-9631-533ce36cfd16 Error: Entire Column is NaN\n",
      "This cluster has no valid entries: b752b30c-c521-41af-a1e8-9323346862ed Error: Entire Column is NaN\n",
      "This cluster has no valid entries: bb2417e2-f4ea-4951-bbe0-75a33b692fc4 Error: Entire Column is NaN\n",
      "This cluster has no valid entries: e76b9e5e-9480-4a2f-8484-52c463599417 Error: Entire Column is NaN\n",
      "This cluster has no valid entries: eed2fdd7-ef2f-48bf-9695-f022dcd2651a Error: Entire Column is NaN\n"
     ]
    }
   ],
   "source": [
    "#change the dataframe to handle the missing data of that \n",
    "for cluster_id, cluster_df in network_ts_managed.groupby('cluster_id'):\n",
    "    local_copy = cluster_df.copy(deep=True)\n",
    "    local_copy = local_copy.drop_duplicates(['timestamp'],keep='first')\n",
    "    #print(local_copy.head())\n",
    "    local_copy.set_index('timestamp',inplace=True)\n",
    "    joined_df = indexes_df.join(local_copy,on='timestamp',how='left')[['timestamp','network_latency']]\n",
    "    #print(joined_df.head())\n",
    "    new_np = joined_df['network_latency'].to_numpy().reshape(1,96)\n",
    "    try:\n",
    "        c_result = locf(new_np,axis=0).reshape(96,1)\n",
    "        joined_df['network_latency'] = c_result\n",
    "        joined_df['cluster_id'] = cluster_id\n",
    "        network_ts_managed_clean = pd.concat([network_ts_managed_clean,joined_df],ignore_index=True)\n",
    "    except Exception as e:\n",
    "        print(f'This cluster has no valid entries: {cluster_id}',e)\n",
    "        empty_clusters.append(cluster_id)"
   ]
  },
  {
   "cell_type": "code",
   "execution_count": 95,
   "id": "bb305b9c-466c-4eb5-996a-39ed52b8d194",
   "metadata": {},
   "outputs": [
    {
     "name": "stdout",
     "output_type": "stream",
     "text": [
      "This cluster has no valid entries: a7793e4a-0a09-4648-9631-533ce36cfd16 Error: Entire Column is NaN\n"
     ]
    }
   ],
   "source": [
    "#change the dataframe to handle the missing data of that \n",
    "for cluster_id, cluster_df in disk_ts_managed.groupby('cluster_id'):\n",
    "    local_copy = cluster_df.copy(deep=True)\n",
    "    local_copy = local_copy.drop_duplicates(['timestamp'],keep='first')\n",
    "    #print(local_copy.head())\n",
    "    local_copy.set_index('timestamp',inplace=True)\n",
    "    joined_df = indexes_df.join(local_copy,on='timestamp',how='left')[['timestamp','disk']]\n",
    "    #print(joined_df.head())\n",
    "    new_np = joined_df['disk'].to_numpy().reshape(1,96)\n",
    "    try:\n",
    "        c_result = locf(new_np,axis=0).reshape(96,1)\n",
    "        joined_df['disk'] = c_result\n",
    "        joined_df['cluster_id'] = cluster_id\n",
    "        disk_ts_managed_clean = pd.concat([disk_ts_managed_clean,joined_df],ignore_index=True)\n",
    "    except Exception as e:\n",
    "        print(f'This cluster has no valid entries: {cluster_id}',e)\n",
    "        empty_clusters.append(cluster_id)"
   ]
  },
  {
   "cell_type": "code",
   "execution_count": 110,
   "id": "a123505c-8ce7-4105-9ac3-3d4a216e701b",
   "metadata": {},
   "outputs": [
    {
     "name": "stdout",
     "output_type": "stream",
     "text": [
      "This cluster has no valid entries: a7793e4a-0a09-4648-9631-533ce36cfd16 Error: Entire Column is NaN\n"
     ]
    }
   ],
   "source": [
    "#change the dataframe to handle the missing data of that \n",
    "for cluster_id, cluster_df in api_ts_managed.groupby('cluster_id'):\n",
    "    local_copy = cluster_df.copy(deep=True)\n",
    "    local_copy = local_copy.drop_duplicates(['timestamp'],keep='first')\n",
    "    #print(local_copy.head())\n",
    "    local_copy.set_index('timestamp',inplace=True)\n",
    "    joined_df = indexes_df.join(local_copy,on='timestamp',how='left')[['timestamp','api_server_count']]\n",
    "    #print(joined_df.head())\n",
    "    new_np = joined_df['api_server_count'].to_numpy().reshape(1,96)\n",
    "    try:\n",
    "        c_result = locf(new_np,axis=0).reshape(96,1)\n",
    "        joined_df['api_server_count'] = c_result\n",
    "        joined_df['cluster_id'] = cluster_id\n",
    "        api_ts_managed_clean = pd.concat([api_ts_managed_clean,joined_df],ignore_index=True)\n",
    "    except Exception as e:\n",
    "        print(f'This cluster has no valid entries: {cluster_id}',e)\n",
    "        empty_clusters.append(cluster_id)"
   ]
  },
  {
   "cell_type": "code",
   "execution_count": null,
   "id": "679d9b44-92f1-438c-a704-21f55a5d2103",
   "metadata": {},
   "outputs": [],
   "source": []
  },
  {
   "cell_type": "code",
   "execution_count": 96,
   "id": "91ccce8f-9c36-4c3e-b49e-44969140c71d",
   "metadata": {},
   "outputs": [
    {
     "data": {
      "text/plain": [
       "(65568, 3)"
      ]
     },
     "execution_count": 96,
     "metadata": {},
     "output_type": "execute_result"
    }
   ],
   "source": [
    "disk_ts_managed_clean.shape"
   ]
  },
  {
   "cell_type": "code",
   "execution_count": 89,
   "id": "f6bf5998-8386-4774-9a0c-e9a5552ec2f5",
   "metadata": {},
   "outputs": [
    {
     "data": {
      "text/plain": [
       "(58176, 3)"
      ]
     },
     "execution_count": 89,
     "metadata": {},
     "output_type": "execute_result"
    }
   ],
   "source": [
    "network_ts_managed_clean.shape"
   ]
  },
  {
   "cell_type": "code",
   "execution_count": 115,
   "id": "b7cf4015-5673-4d7e-abc4-67330ca35f2b",
   "metadata": {},
   "outputs": [],
   "source": [
    "single_cluster_disk = disk_ts_managed_clean[disk_ts_managed_clean['cluster_id'] == '0007753d-3cdc-4c4f-bdb5-c57b3715b55f']['disk']"
   ]
  },
  {
   "cell_type": "code",
   "execution_count": 117,
   "id": "cdf93af8-11f4-4031-a797-567583a85837",
   "metadata": {},
   "outputs": [],
   "source": [
    "single_cluster_network =  network_ts_managed_clean[network_ts_managed_clean['cluster_id'] == '0007753d-3cdc-4c4f-bdb5-c57b3715b55f']['network_latency']"
   ]
  },
  {
   "cell_type": "code",
   "execution_count": 119,
   "id": "3caa41a0-d9c8-4443-80fb-76610234b6cc",
   "metadata": {},
   "outputs": [],
   "source": [
    "single_cluster_api =  api_ts_managed_clean[api_ts_managed_clean['cluster_id'] == '0007753d-3cdc-4c4f-bdb5-c57b3715b55f']['api_server_count']"
   ]
  },
  {
   "cell_type": "code",
   "execution_count": 137,
   "id": "8a7da354-9eab-4adc-b5df-9a8089b70fea",
   "metadata": {},
   "outputs": [
    {
     "data": {
      "text/plain": [
       "((96,), (96,), (96,))"
      ]
     },
     "execution_count": 137,
     "metadata": {},
     "output_type": "execute_result"
    }
   ],
   "source": [
    "single_cluster_disk.shape, single_cluster_network.shape, single_cluster_api.shape"
   ]
  },
  {
   "cell_type": "code",
   "execution_count": 141,
   "id": "f96dc5f3-86be-4d08-8e3b-7a98a2f83a3f",
   "metadata": {},
   "outputs": [],
   "source": [
    "new_df = pd.concat([single_cluster_disk,single_cluster_network,single_cluster_api],axis=1,ignore_index=True)"
   ]
  },
  {
   "cell_type": "code",
   "execution_count": 144,
   "id": "1afe8343-a254-466f-ad55-8f7a77abb4a8",
   "metadata": {},
   "outputs": [],
   "source": [
    "new_df.rename(columns={0: \"disk\", 1: \"network_latency\",2:\"api\"},inplace=True)"
   ]
  },
  {
   "cell_type": "code",
   "execution_count": 121,
   "id": "ac050a4b-70ff-4f1c-b21a-8307c3c96c41",
   "metadata": {},
   "outputs": [],
   "source": [
    "from statsmodels.tsa.stattools import grangercausalitytests"
   ]
  },
  {
   "cell_type": "code",
   "execution_count": 146,
   "id": "e8fbdea3-e5c3-4c76-a636-6331a4076b88",
   "metadata": {},
   "outputs": [
    {
     "name": "stdout",
     "output_type": "stream",
     "text": [
      "\n",
      "Granger Causality\n",
      "number of lags (no zero) 1\n",
      "ssr based F test:         F=0.0798  , p=0.7781  , df_denom=92, df_num=1\n",
      "ssr based chi2 test:   chi2=0.0824  , p=0.7740  , df=1\n",
      "likelihood ratio test: chi2=0.0824  , p=0.7741  , df=1\n",
      "parameter F test:         F=0.0798  , p=0.7781  , df_denom=92, df_num=1\n",
      "\n",
      "Granger Causality\n",
      "number of lags (no zero) 2\n",
      "ssr based F test:         F=11.7877 , p=0.0000  , df_denom=89, df_num=2\n",
      "ssr based chi2 test:   chi2=24.8998 , p=0.0000  , df=2\n",
      "likelihood ratio test: chi2=22.0887 , p=0.0000  , df=2\n",
      "parameter F test:         F=11.7877 , p=0.0000  , df_denom=89, df_num=2\n",
      "\n",
      "Granger Causality\n",
      "number of lags (no zero) 3\n",
      "ssr based F test:         F=14.5047 , p=0.0000  , df_denom=86, df_num=3\n",
      "ssr based chi2 test:   chi2=47.0560 , p=0.0000  , df=3\n",
      "likelihood ratio test: chi2=38.0782 , p=0.0000  , df=3\n",
      "parameter F test:         F=14.5047 , p=0.0000  , df_denom=86, df_num=3\n",
      "\n",
      "Granger Causality\n",
      "number of lags (no zero) 4\n",
      "ssr based F test:         F=10.7102 , p=0.0000  , df_denom=83, df_num=4\n",
      "ssr based chi2 test:   chi2=47.4864 , p=0.0000  , df=4\n",
      "likelihood ratio test: chi2=38.2884 , p=0.0000  , df=4\n",
      "parameter F test:         F=10.7102 , p=0.0000  , df_denom=83, df_num=4\n",
      "\n",
      "Granger Causality\n",
      "number of lags (no zero) 5\n",
      "ssr based F test:         F=12.6523 , p=0.0000  , df_denom=80, df_num=5\n",
      "ssr based chi2 test:   chi2=71.9598 , p=0.0000  , df=5\n",
      "likelihood ratio test: chi2=53.0206 , p=0.0000  , df=5\n",
      "parameter F test:         F=12.6523 , p=0.0000  , df_denom=80, df_num=5\n"
     ]
    },
    {
     "data": {
      "text/plain": [
       "{1: ({'ssr_ftest': (0.07984283548819299, 0.7781452515962546, 92.0, 1),\n",
       "   'ssr_chi2test': (0.08244640621063407, 0.7740090898896825, 1),\n",
       "   'lrtest': (0.08241065105448797, 0.7740567671010992, 1),\n",
       "   'params_ftest': (0.07984283548819837, 0.7781452515962546, 92.0, 1.0)},\n",
       "  [<statsmodels.regression.linear_model.RegressionResultsWrapper at 0x134e0d2d0>,\n",
       "   <statsmodels.regression.linear_model.RegressionResultsWrapper at 0x134e0cee0>,\n",
       "   array([[0., 1., 0.]])]),\n",
       " 2: ({'ssr_ftest': (11.787680833135113, 2.8749227638398002e-05, 89.0, 2),\n",
       "   'ssr_chi2test': (24.899820186847204, 3.91807501089983e-06, 2),\n",
       "   'lrtest': (22.08873185726543, 1.5976911188675267e-05, 2),\n",
       "   'params_ftest': (11.787680833125936, 2.8749227638606585e-05, 89.0, 2.0)},\n",
       "  [<statsmodels.regression.linear_model.RegressionResultsWrapper at 0x134e0d0f0>,\n",
       "   <statsmodels.regression.linear_model.RegressionResultsWrapper at 0x134e0c700>,\n",
       "   array([[0., 0., 1., 0., 0.],\n",
       "          [0., 0., 0., 1., 0.]])]),\n",
       " 3: ({'ssr_ftest': (14.504718208572708, 9.98493170520605e-08, 86.0, 3),\n",
       "   'ssr_chi2test': (47.05600442083472, 3.381564547900707e-10, 3),\n",
       "   'lrtest': (38.078187936918766, 2.7207671431314377e-08, 3),\n",
       "   'params_ftest': (14.504718208580577, 9.984931705129485e-08, 86.0, 3.0)},\n",
       "  [<statsmodels.regression.linear_model.RegressionResultsWrapper at 0x134e0cd60>,\n",
       "   <statsmodels.regression.linear_model.RegressionResultsWrapper at 0x134e0e0e0>,\n",
       "   array([[0., 0., 0., 1., 0., 0., 0.],\n",
       "          [0., 0., 0., 0., 1., 0., 0.],\n",
       "          [0., 0., 0., 0., 0., 1., 0.]])]),\n",
       " 4: ({'ssr_ftest': (10.71023833090279, 4.774342819471265e-07, 83.0, 4),\n",
       "   'ssr_chi2test': (47.486357900870196, 1.2076021987145244e-09, 4),\n",
       "   'lrtest': (38.288396847664444, 9.770802947113902e-08, 4),\n",
       "   'params_ftest': (10.710238330905307, 4.774342819456118e-07, 83.0, 4.0)},\n",
       "  [<statsmodels.regression.linear_model.RegressionResultsWrapper at 0x134e0df30>,\n",
       "   <statsmodels.regression.linear_model.RegressionResultsWrapper at 0x134e0e5f0>,\n",
       "   array([[0., 0., 0., 0., 1., 0., 0., 0., 0.],\n",
       "          [0., 0., 0., 0., 0., 1., 0., 0., 0.],\n",
       "          [0., 0., 0., 0., 0., 0., 1., 0., 0.],\n",
       "          [0., 0., 0., 0., 0., 0., 0., 1., 0.]])]),\n",
       " 5: ({'ssr_ftest': (12.652277856811182, 4.627582738075825e-09, 80.0, 5),\n",
       "   'ssr_chi2test': (71.9598303106136, 4.0045350884422804e-14, 5),\n",
       "   'lrtest': (53.02062439368683, 3.330714878620686e-10, 5),\n",
       "   'params_ftest': (12.652277856823337, 4.6275827380008125e-09, 80.0, 5.0)},\n",
       "  [<statsmodels.regression.linear_model.RegressionResultsWrapper at 0x134e0e4a0>,\n",
       "   <statsmodels.regression.linear_model.RegressionResultsWrapper at 0x134e0e890>,\n",
       "   array([[0., 0., 0., 0., 0., 1., 0., 0., 0., 0., 0.],\n",
       "          [0., 0., 0., 0., 0., 0., 1., 0., 0., 0., 0.],\n",
       "          [0., 0., 0., 0., 0., 0., 0., 1., 0., 0., 0.],\n",
       "          [0., 0., 0., 0., 0., 0., 0., 0., 1., 0., 0.],\n",
       "          [0., 0., 0., 0., 0., 0., 0., 0., 0., 1., 0.]])])}"
      ]
     },
     "execution_count": 146,
     "metadata": {},
     "output_type": "execute_result"
    }
   ],
   "source": [
    "grangercausalitytests(new_df[['disk','api']],maxlag=5)"
   ]
  },
  {
   "cell_type": "code",
   "execution_count": 149,
   "id": "9b9958c0-4f3d-4684-a522-5a58eaa4bda8",
   "metadata": {},
   "outputs": [
    {
     "name": "stdout",
     "output_type": "stream",
     "text": [
      "\n",
      "Granger Causality\n",
      "number of lags (no zero) 1\n",
      "ssr based F test:         F=1.5898  , p=0.2105  , df_denom=92, df_num=1\n",
      "ssr based chi2 test:   chi2=1.6416  , p=0.2001  , df=1\n",
      "likelihood ratio test: chi2=1.6276  , p=0.2020  , df=1\n",
      "parameter F test:         F=1.5898  , p=0.2105  , df_denom=92, df_num=1\n",
      "\n",
      "Granger Causality\n",
      "number of lags (no zero) 2\n",
      "ssr based F test:         F=1.3599  , p=0.2620  , df_denom=89, df_num=2\n",
      "ssr based chi2 test:   chi2=2.8726  , p=0.2378  , df=2\n",
      "likelihood ratio test: chi2=2.8295  , p=0.2430  , df=2\n",
      "parameter F test:         F=1.3599  , p=0.2620  , df_denom=89, df_num=2\n",
      "\n",
      "Granger Causality\n",
      "number of lags (no zero) 3\n",
      "ssr based F test:         F=2.7559  , p=0.0473  , df_denom=86, df_num=3\n",
      "ssr based chi2 test:   chi2=8.9406  , p=0.0301  , df=3\n",
      "likelihood ratio test: chi2=8.5365  , p=0.0361  , df=3\n",
      "parameter F test:         F=2.7559  , p=0.0473  , df_denom=86, df_num=3\n",
      "\n",
      "Granger Causality\n",
      "number of lags (no zero) 4\n",
      "ssr based F test:         F=2.4204  , p=0.0548  , df_denom=83, df_num=4\n",
      "ssr based chi2 test:   chi2=10.7316 , p=0.0298  , df=4\n",
      "likelihood ratio test: chi2=10.1505 , p=0.0380  , df=4\n",
      "parameter F test:         F=2.4204  , p=0.0548  , df_denom=83, df_num=4\n",
      "\n",
      "Granger Causality\n",
      "number of lags (no zero) 5\n",
      "ssr based F test:         F=2.0424  , p=0.0815  , df_denom=80, df_num=5\n",
      "ssr based chi2 test:   chi2=11.6164 , p=0.0404  , df=5\n",
      "likelihood ratio test: chi2=10.9326 , p=0.0527  , df=5\n",
      "parameter F test:         F=2.0424  , p=0.0815  , df_denom=80, df_num=5\n"
     ]
    },
    {
     "data": {
      "text/plain": [
       "{1: ({'ssr_ftest': (1.5897515133782547, 0.21054980936921186, 92.0, 1),\n",
       "   'ssr_chi2test': (1.6415912366405891, 0.2001072838848297, 1),\n",
       "   'lrtest': (1.6275692658271055, 0.2020395831365407, 1),\n",
       "   'params_ftest': (1.5897515133782867, 0.2105498093692067, 92.0, 1.0)},\n",
       "  [<statsmodels.regression.linear_model.RegressionResultsWrapper at 0x134590910>,\n",
       "   <statsmodels.regression.linear_model.RegressionResultsWrapper at 0x1345937f0>,\n",
       "   array([[0., 1., 0.]])]),\n",
       " 2: ({'ssr_ftest': (1.359885289923164, 0.2619712225033423, 89.0, 2),\n",
       "   'ssr_chi2test': (2.8725666798376945, 0.2378099770623029, 2),\n",
       "   'lrtest': (2.829549172776524, 0.24298037836080005, 2),\n",
       "   'params_ftest': (1.3598852899232516, 0.261971222503322, 89.0, 2.0)},\n",
       "  [<statsmodels.regression.linear_model.RegressionResultsWrapper at 0x134e0de70>,\n",
       "   <statsmodels.regression.linear_model.RegressionResultsWrapper at 0x134e0eb60>,\n",
       "   array([[0., 0., 1., 0., 0.],\n",
       "          [0., 0., 0., 1., 0.]])]),\n",
       " 3: ({'ssr_ftest': (2.7558847237562527, 0.047282263946780125, 86.0, 3),\n",
       "   'ssr_chi2test': (8.940602766604588, 0.03009111833870463, 3),\n",
       "   'lrtest': (8.536546696716982, 0.036131637749668294, 3),\n",
       "   'params_ftest': (2.7558847237554107, 0.04728226394682943, 86.0, 3.0)},\n",
       "  [<statsmodels.regression.linear_model.RegressionResultsWrapper at 0x134575630>,\n",
       "   <statsmodels.regression.linear_model.RegressionResultsWrapper at 0x134576ce0>,\n",
       "   array([[0., 0., 0., 1., 0., 0., 0.],\n",
       "          [0., 0., 0., 0., 1., 0., 0.],\n",
       "          [0., 0., 0., 0., 0., 1., 0.]])]),\n",
       " 4: ({'ssr_ftest': (2.420440443918411, 0.05478077044997002, 83.0, 4),\n",
       "   'ssr_chi2test': (10.731591365806931, 0.029752073569332675, 4),\n",
       "   'lrtest': (10.15046127539074, 0.03796803398714836, 4),\n",
       "   'params_ftest': (2.4204404439181433, 0.0547807704499921, 83.0, 4.0)},\n",
       "  [<statsmodels.regression.linear_model.RegressionResultsWrapper at 0x134e03b50>,\n",
       "   <statsmodels.regression.linear_model.RegressionResultsWrapper at 0x134e0d420>,\n",
       "   array([[0., 0., 0., 0., 1., 0., 0., 0., 0.],\n",
       "          [0., 0., 0., 0., 0., 1., 0., 0., 0.],\n",
       "          [0., 0., 0., 0., 0., 0., 1., 0., 0.],\n",
       "          [0., 0., 0., 0., 0., 0., 0., 1., 0.]])]),\n",
       " 5: ({'ssr_ftest': (2.0424480201534148, 0.08146404457543928, 80.0, 5),\n",
       "   'ssr_chi2test': (11.616423114622545, 0.04043895202737615, 5),\n",
       "   'lrtest': (10.932601930558349, 0.05273278577320006, 5),\n",
       "   'params_ftest': (2.0424480201523876, 0.08146404457558118, 80.0, 5.0)},\n",
       "  [<statsmodels.regression.linear_model.RegressionResultsWrapper at 0x134575150>,\n",
       "   <statsmodels.regression.linear_model.RegressionResultsWrapper at 0x134577640>,\n",
       "   array([[0., 0., 0., 0., 0., 1., 0., 0., 0., 0., 0.],\n",
       "          [0., 0., 0., 0., 0., 0., 1., 0., 0., 0., 0.],\n",
       "          [0., 0., 0., 0., 0., 0., 0., 1., 0., 0., 0.],\n",
       "          [0., 0., 0., 0., 0., 0., 0., 0., 1., 0., 0.],\n",
       "          [0., 0., 0., 0., 0., 0., 0., 0., 0., 1., 0.]])])}"
      ]
     },
     "execution_count": 149,
     "metadata": {},
     "output_type": "execute_result"
    }
   ],
   "source": [
    "grangercausalitytests(new_df[['network_latency','api']],maxlag=5)"
   ]
  },
  {
   "cell_type": "code",
   "execution_count": 132,
   "id": "e6e57cef-0277-4701-b07f-999745173425",
   "metadata": {},
   "outputs": [
    {
     "data": {
      "text/plain": [
       "[15.0,\n",
       " 19.0,\n",
       " 15.0,\n",
       " 15.0,\n",
       " 14.0,\n",
       " 11.0,\n",
       " 12.0,\n",
       " 12.0,\n",
       " 14.0,\n",
       " 17.0,\n",
       " 15.0,\n",
       " 26.0,\n",
       " 10.0,\n",
       " 15.0,\n",
       " 19.0,\n",
       " 24.0,\n",
       " 17.0,\n",
       " 19.0,\n",
       " 17.0,\n",
       " 17.0,\n",
       " 26.0,\n",
       " 14.0,\n",
       " 44.0,\n",
       " 19.0,\n",
       " 51.0,\n",
       " 15.0,\n",
       " 21.0,\n",
       " 14.0,\n",
       " 9.0,\n",
       " 18.0,\n",
       " 14.0,\n",
       " 15.0,\n",
       " 10.0,\n",
       " 17.0,\n",
       " 20.0,\n",
       " 19.0,\n",
       " 18.0,\n",
       " 12.0,\n",
       " 13.0,\n",
       " 12.0,\n",
       " 9.0,\n",
       " 12.0,\n",
       " 15.0,\n",
       " 16.0,\n",
       " 13.0,\n",
       " 17.0,\n",
       " 13.0,\n",
       " 32.0,\n",
       " 13.0,\n",
       " 17.0,\n",
       " 13.0,\n",
       " 16.0,\n",
       " 20.0,\n",
       " 11.0,\n",
       " 14.0,\n",
       " 18.0,\n",
       " 28.0,\n",
       " 14.0,\n",
       " 13.0,\n",
       " 16.0,\n",
       " 12.0,\n",
       " 16.0,\n",
       " 14.0,\n",
       " 16.0,\n",
       " 29.0,\n",
       " 25.0,\n",
       " 12.0,\n",
       " 12.0,\n",
       " 14.0,\n",
       " 13.0,\n",
       " 15.0,\n",
       " 18.0,\n",
       " 18.0,\n",
       " 18.0,\n",
       " 18.0,\n",
       " 18.0,\n",
       " 18.0,\n",
       " 18.0,\n",
       " 18.0,\n",
       " 18.0,\n",
       " 18.0,\n",
       " 18.0,\n",
       " 18.0,\n",
       " 18.0,\n",
       " 18.0,\n",
       " 18.0,\n",
       " 18.0,\n",
       " 18.0,\n",
       " 18.0,\n",
       " 18.0,\n",
       " 18.0,\n",
       " 18.0,\n",
       " 18.0,\n",
       " 18.0,\n",
       " 18.0,\n",
       " 18.0]"
      ]
     },
     "execution_count": 132,
     "metadata": {},
     "output_type": "execute_result"
    }
   ],
   "source": [
    "list(single_cluster_api)"
   ]
  },
  {
   "cell_type": "code",
   "execution_count": 154,
   "id": "a921b1e8-e16c-4b97-b2bf-9a94942deb73",
   "metadata": {},
   "outputs": [
    {
     "data": {
      "text/html": [
       "<div>\n",
       "<style scoped>\n",
       "    .dataframe tbody tr th:only-of-type {\n",
       "        vertical-align: middle;\n",
       "    }\n",
       "\n",
       "    .dataframe tbody tr th {\n",
       "        vertical-align: top;\n",
       "    }\n",
       "\n",
       "    .dataframe thead th {\n",
       "        text-align: right;\n",
       "    }\n",
       "</style>\n",
       "<table border=\"1\" class=\"dataframe\">\n",
       "  <thead>\n",
       "    <tr style=\"text-align: right;\">\n",
       "      <th></th>\n",
       "      <th>timestamp</th>\n",
       "      <th>alerts</th>\n",
       "      <th>cluster_id</th>\n",
       "    </tr>\n",
       "  </thead>\n",
       "  <tbody>\n",
       "    <tr>\n",
       "      <th>0</th>\n",
       "      <td>2022-05-22 17:45:00</td>\n",
       "      <td>55</td>\n",
       "      <td>NaN</td>\n",
       "    </tr>\n",
       "    <tr>\n",
       "      <th>1</th>\n",
       "      <td>2022-05-22 18:00:00</td>\n",
       "      <td>54</td>\n",
       "      <td>NaN</td>\n",
       "    </tr>\n",
       "    <tr>\n",
       "      <th>2</th>\n",
       "      <td>2022-05-22 18:15:00</td>\n",
       "      <td>53</td>\n",
       "      <td>NaN</td>\n",
       "    </tr>\n",
       "    <tr>\n",
       "      <th>3</th>\n",
       "      <td>2022-05-22 18:30:00</td>\n",
       "      <td>53</td>\n",
       "      <td>NaN</td>\n",
       "    </tr>\n",
       "    <tr>\n",
       "      <th>4</th>\n",
       "      <td>2022-05-22 18:45:00</td>\n",
       "      <td>51</td>\n",
       "      <td>NaN</td>\n",
       "    </tr>\n",
       "  </tbody>\n",
       "</table>\n",
       "</div>"
      ],
      "text/plain": [
       "             timestamp  alerts  cluster_id\n",
       "0  2022-05-22 17:45:00      55         NaN\n",
       "1  2022-05-22 18:00:00      54         NaN\n",
       "2  2022-05-22 18:15:00      53         NaN\n",
       "3  2022-05-22 18:30:00      53         NaN\n",
       "4  2022-05-22 18:45:00      51         NaN"
      ]
     },
     "execution_count": 154,
     "metadata": {},
     "output_type": "execute_result"
    }
   ],
   "source": [
    "alerts_ts.head()"
   ]
  },
  {
   "cell_type": "code",
   "execution_count": 156,
   "id": "16747660-e9c0-4068-9ed2-197185d0f33e",
   "metadata": {},
   "outputs": [],
   "source": [
    "from causalimpact import CausalImpact"
   ]
  },
  {
   "cell_type": "code",
   "execution_count": 166,
   "id": "c7fe23d8-2061-4b31-bbd5-b509d1e89beb",
   "metadata": {},
   "outputs": [],
   "source": [
    "new_df = pd.concat([new_df,indexes_df],axis=1,ignore_index=False)"
   ]
  },
  {
   "cell_type": "code",
   "execution_count": 175,
   "id": "ce1f2ddd-9a50-4dca-8a0a-eae546b99202",
   "metadata": {},
   "outputs": [],
   "source": [
    "pre = indexes_df[indexes_df['timestamp'] < '2022-05-23 16:00:00']"
   ]
  },
  {
   "cell_type": "code",
   "execution_count": 197,
   "id": "a03d4fa7-f4ec-4b32-bf5c-a81c46374dfd",
   "metadata": {},
   "outputs": [
    {
     "data": {
      "text/html": [
       "<div>\n",
       "<style scoped>\n",
       "    .dataframe tbody tr th:only-of-type {\n",
       "        vertical-align: middle;\n",
       "    }\n",
       "\n",
       "    .dataframe tbody tr th {\n",
       "        vertical-align: top;\n",
       "    }\n",
       "\n",
       "    .dataframe thead th {\n",
       "        text-align: right;\n",
       "    }\n",
       "</style>\n",
       "<table border=\"1\" class=\"dataframe\">\n",
       "  <thead>\n",
       "    <tr style=\"text-align: right;\">\n",
       "      <th></th>\n",
       "      <th>timestamp</th>\n",
       "    </tr>\n",
       "  </thead>\n",
       "  <tbody>\n",
       "    <tr>\n",
       "      <th>0</th>\n",
       "      <td>2022-05-23 00:00:00</td>\n",
       "    </tr>\n",
       "    <tr>\n",
       "      <th>1</th>\n",
       "      <td>2022-05-23 00:15:00</td>\n",
       "    </tr>\n",
       "    <tr>\n",
       "      <th>2</th>\n",
       "      <td>2022-05-23 00:30:00</td>\n",
       "    </tr>\n",
       "    <tr>\n",
       "      <th>3</th>\n",
       "      <td>2022-05-23 00:45:00</td>\n",
       "    </tr>\n",
       "    <tr>\n",
       "      <th>4</th>\n",
       "      <td>2022-05-23 01:00:00</td>\n",
       "    </tr>\n",
       "    <tr>\n",
       "      <th>...</th>\n",
       "      <td>...</td>\n",
       "    </tr>\n",
       "    <tr>\n",
       "      <th>59</th>\n",
       "      <td>2022-05-23 14:45:00</td>\n",
       "    </tr>\n",
       "    <tr>\n",
       "      <th>60</th>\n",
       "      <td>2022-05-23 15:00:00</td>\n",
       "    </tr>\n",
       "    <tr>\n",
       "      <th>61</th>\n",
       "      <td>2022-05-23 15:15:00</td>\n",
       "    </tr>\n",
       "    <tr>\n",
       "      <th>62</th>\n",
       "      <td>2022-05-23 15:30:00</td>\n",
       "    </tr>\n",
       "    <tr>\n",
       "      <th>63</th>\n",
       "      <td>2022-05-23 15:45:00</td>\n",
       "    </tr>\n",
       "  </tbody>\n",
       "</table>\n",
       "<p>64 rows × 1 columns</p>\n",
       "</div>"
      ],
      "text/plain": [
       "             timestamp\n",
       "0  2022-05-23 00:00:00\n",
       "1  2022-05-23 00:15:00\n",
       "2  2022-05-23 00:30:00\n",
       "3  2022-05-23 00:45:00\n",
       "4  2022-05-23 01:00:00\n",
       "..                 ...\n",
       "59 2022-05-23 14:45:00\n",
       "60 2022-05-23 15:00:00\n",
       "61 2022-05-23 15:15:00\n",
       "62 2022-05-23 15:30:00\n",
       "63 2022-05-23 15:45:00\n",
       "\n",
       "[64 rows x 1 columns]"
      ]
     },
     "execution_count": 197,
     "metadata": {},
     "output_type": "execute_result"
    }
   ],
   "source": [
    "pre"
   ]
  },
  {
   "cell_type": "code",
   "execution_count": 177,
   "id": "6ccbf47d-c3eb-4318-a677-a0a99b4a1c00",
   "metadata": {},
   "outputs": [],
   "source": [
    "post = indexes_df[indexes_df['timestamp'] >= '2022-05-23 16:00:00']"
   ]
  },
  {
   "cell_type": "code",
   "execution_count": 186,
   "id": "361550bb-6397-4f5e-af62-48adf055e139",
   "metadata": {},
   "outputs": [],
   "source": [
    "new_df.set_index('timestamp',inplace=True)"
   ]
  },
  {
   "cell_type": "code",
   "execution_count": 187,
   "id": "22c044d8-e6d1-469c-bfa9-612aaf7c3c70",
   "metadata": {},
   "outputs": [
    {
     "data": {
      "text/plain": [
       "Index(['disk', 'network_latency', 'api'], dtype='object')"
      ]
     },
     "execution_count": 187,
     "metadata": {},
     "output_type": "execute_result"
    }
   ],
   "source": [
    "new_df.columns"
   ]
  },
  {
   "cell_type": "code",
   "execution_count": 235,
   "id": "309a5d1e-c1aa-4652-83e3-8e525a14938c",
   "metadata": {},
   "outputs": [],
   "source": [
    "new_df_2 = new_df.drop(columns=['network_latency'])"
   ]
  },
  {
   "cell_type": "code",
   "execution_count": 247,
   "id": "4d6a0813-f31c-4fd2-8483-1487a89e2cf3",
   "metadata": {},
   "outputs": [],
   "source": [
    "new_df_4 = new_df.drop(columns=['disk'])"
   ]
  },
  {
   "cell_type": "code",
   "execution_count": 236,
   "id": "3142cbc7-d9ac-4b92-a4b1-1606b58b2656",
   "metadata": {},
   "outputs": [],
   "source": [
    "new_df_2.rename(columns={'disk':'y','api':'x'},inplace=True)"
   ]
  },
  {
   "cell_type": "code",
   "execution_count": 248,
   "id": "3e631eb3-3221-47f5-b390-2c4979db2e5f",
   "metadata": {},
   "outputs": [],
   "source": [
    "new_df_4.rename(columns={'network_latency':'y','api':'x'},inplace=True)"
   ]
  },
  {
   "cell_type": "code",
   "execution_count": 237,
   "id": "4708551c-e635-4333-9994-cdd7dbbc219e",
   "metadata": {},
   "outputs": [],
   "source": [
    "new_df_2.reset_index(inplace=True)"
   ]
  },
  {
   "cell_type": "code",
   "execution_count": 249,
   "id": "6b8ac778-dcbd-4234-8603-c323ec01ad80",
   "metadata": {},
   "outputs": [],
   "source": [
    "new_df_4.reset_index(inplace=True)"
   ]
  },
  {
   "cell_type": "code",
   "execution_count": 238,
   "id": "2867fb9d-4849-4b59-aa8a-34330b02388f",
   "metadata": {},
   "outputs": [],
   "source": [
    "new_df_3 = new_df_2.drop(columns=['timestamp'])"
   ]
  },
  {
   "cell_type": "code",
   "execution_count": 250,
   "id": "aad1ed2e-8664-4d5b-b908-6bb07445a892",
   "metadata": {},
   "outputs": [],
   "source": [
    "new_df_5 = new_df_4.drop(columns=['timestamp'])"
   ]
  },
  {
   "cell_type": "code",
   "execution_count": 239,
   "id": "61b5bf9a-2cf7-4b9c-8a71-278519d50106",
   "metadata": {},
   "outputs": [],
   "source": [
    "new_df_3['y'] = new_df_3['y'].astype('float')\n",
    "new_df_3['x'] = new_df_3['x'].astype('float')"
   ]
  },
  {
   "cell_type": "code",
   "execution_count": 251,
   "id": "d94468d3-abaf-4da3-a783-7139b096d4f7",
   "metadata": {},
   "outputs": [],
   "source": [
    "new_df_5['y'] = new_df_5['y'].astype('float')\n",
    "new_df_5['x'] = new_df_5['x'].astype('float')"
   ]
  },
  {
   "cell_type": "code",
   "execution_count": 240,
   "id": "15edd027-48df-4ea3-9ba8-2b6d69227a8d",
   "metadata": {},
   "outputs": [
    {
     "data": {
      "text/html": [
       "<div>\n",
       "<style scoped>\n",
       "    .dataframe tbody tr th:only-of-type {\n",
       "        vertical-align: middle;\n",
       "    }\n",
       "\n",
       "    .dataframe tbody tr th {\n",
       "        vertical-align: top;\n",
       "    }\n",
       "\n",
       "    .dataframe thead th {\n",
       "        text-align: right;\n",
       "    }\n",
       "</style>\n",
       "<table border=\"1\" class=\"dataframe\">\n",
       "  <thead>\n",
       "    <tr style=\"text-align: right;\">\n",
       "      <th></th>\n",
       "      <th>y</th>\n",
       "      <th>x</th>\n",
       "    </tr>\n",
       "  </thead>\n",
       "  <tbody>\n",
       "    <tr>\n",
       "      <th>0</th>\n",
       "      <td>0.004865</td>\n",
       "      <td>15.0</td>\n",
       "    </tr>\n",
       "    <tr>\n",
       "      <th>1</th>\n",
       "      <td>0.003531</td>\n",
       "      <td>19.0</td>\n",
       "    </tr>\n",
       "    <tr>\n",
       "      <th>2</th>\n",
       "      <td>0.003884</td>\n",
       "      <td>15.0</td>\n",
       "    </tr>\n",
       "    <tr>\n",
       "      <th>3</th>\n",
       "      <td>0.003370</td>\n",
       "      <td>15.0</td>\n",
       "    </tr>\n",
       "    <tr>\n",
       "      <th>4</th>\n",
       "      <td>0.003485</td>\n",
       "      <td>14.0</td>\n",
       "    </tr>\n",
       "  </tbody>\n",
       "</table>\n",
       "</div>"
      ],
      "text/plain": [
       "          y     x\n",
       "0  0.004865  15.0\n",
       "1  0.003531  19.0\n",
       "2  0.003884  15.0\n",
       "3  0.003370  15.0\n",
       "4  0.003485  14.0"
      ]
     },
     "execution_count": 240,
     "metadata": {},
     "output_type": "execute_result"
    }
   ],
   "source": [
    "new_df_3.head()"
   ]
  },
  {
   "cell_type": "code",
   "execution_count": 252,
   "id": "f5ef3e87-7c46-4a04-98ba-e40e027b9d74",
   "metadata": {},
   "outputs": [
    {
     "data": {
      "text/html": [
       "<div>\n",
       "<style scoped>\n",
       "    .dataframe tbody tr th:only-of-type {\n",
       "        vertical-align: middle;\n",
       "    }\n",
       "\n",
       "    .dataframe tbody tr th {\n",
       "        vertical-align: top;\n",
       "    }\n",
       "\n",
       "    .dataframe thead th {\n",
       "        text-align: right;\n",
       "    }\n",
       "</style>\n",
       "<table border=\"1\" class=\"dataframe\">\n",
       "  <thead>\n",
       "    <tr style=\"text-align: right;\">\n",
       "      <th></th>\n",
       "      <th>y</th>\n",
       "      <th>x</th>\n",
       "    </tr>\n",
       "  </thead>\n",
       "  <tbody>\n",
       "    <tr>\n",
       "      <th>0</th>\n",
       "      <td>0.023296</td>\n",
       "      <td>15.0</td>\n",
       "    </tr>\n",
       "    <tr>\n",
       "      <th>1</th>\n",
       "      <td>0.020992</td>\n",
       "      <td>19.0</td>\n",
       "    </tr>\n",
       "    <tr>\n",
       "      <th>2</th>\n",
       "      <td>0.012672</td>\n",
       "      <td>15.0</td>\n",
       "    </tr>\n",
       "    <tr>\n",
       "      <th>3</th>\n",
       "      <td>0.020992</td>\n",
       "      <td>15.0</td>\n",
       "    </tr>\n",
       "    <tr>\n",
       "      <th>4</th>\n",
       "      <td>0.012672</td>\n",
       "      <td>14.0</td>\n",
       "    </tr>\n",
       "  </tbody>\n",
       "</table>\n",
       "</div>"
      ],
      "text/plain": [
       "          y     x\n",
       "0  0.023296  15.0\n",
       "1  0.020992  19.0\n",
       "2  0.012672  15.0\n",
       "3  0.020992  15.0\n",
       "4  0.012672  14.0"
      ]
     },
     "execution_count": 252,
     "metadata": {},
     "output_type": "execute_result"
    }
   ],
   "source": [
    "new_df_5.head()"
   ]
  },
  {
   "cell_type": "code",
   "execution_count": 242,
   "id": "9283e32a-7e72-4bbc-a531-cff55be539bd",
   "metadata": {},
   "outputs": [
    {
     "name": "stderr",
     "output_type": "stream",
     "text": [
      "/Library/Frameworks/Python.framework/Versions/3.10/lib/python3.10/site-packages/statsmodels/base/optimizer.py:17: FutureWarning: Keyword arguments have been passed to the optimizer that have no effect. The list of allowed keyword arguments for method lbfgs is: m, pgtol, factr, maxfun, epsilon, approx_grad, bounds, loglike_and_score. The list of unsupported keyword arguments passed include: standardize, nseasons. After release 0.14, this will raise.\n",
      "  warnings.warn(\n"
     ]
    }
   ],
   "source": [
    "ci = CausalImpact(new_df_3, [0,74], [75,95])"
   ]
  },
  {
   "cell_type": "code",
   "execution_count": 253,
   "id": "4fd5a819-98c0-4c34-b53e-9eee042d4530",
   "metadata": {},
   "outputs": [
    {
     "name": "stderr",
     "output_type": "stream",
     "text": [
      "/Library/Frameworks/Python.framework/Versions/3.10/lib/python3.10/site-packages/statsmodels/base/optimizer.py:17: FutureWarning: Keyword arguments have been passed to the optimizer that have no effect. The list of allowed keyword arguments for method lbfgs is: m, pgtol, factr, maxfun, epsilon, approx_grad, bounds, loglike_and_score. The list of unsupported keyword arguments passed include: standardize, nseasons. After release 0.14, this will raise.\n",
      "  warnings.warn(\n"
     ]
    }
   ],
   "source": [
    "ci2 = CausalImpact(new_df_5, [0,74], [75,95])"
   ]
  },
  {
   "cell_type": "code",
   "execution_count": 243,
   "id": "9c5974e6-4985-4f1b-8fb0-e75c820b19f8",
   "metadata": {},
   "outputs": [
    {
     "name": "stdout",
     "output_type": "stream",
     "text": [
      "Posterior Inference {Causal Impact}\n",
      "                          Average            Cumulative\n",
      "Actual                    0.0                0.08\n",
      "Prediction (s.d.)         0.0 (0.0)          0.08 (0.01)\n",
      "95% CI                    [0.0, 0.0]         [0.07, 0.1]\n",
      "\n",
      "Absolute effect (s.d.)    -0.0 (0.0)         -0.0 (0.01)\n",
      "95% CI                    [-0.0, 0.0]        [-0.02, 0.01]\n",
      "\n",
      "Relative effect (s.d.)    -3.23% (8.73%)     -3.23% (8.73%)\n",
      "95% CI                    [-18.85%, 15.36%]  [-18.85%, 15.36%]\n",
      "\n",
      "Posterior tail-area probability p: 0.35\n",
      "Posterior prob. of a causal effect: 64.54%\n",
      "\n",
      "For more details run the command: print(impact.summary('report'))\n",
      "Analysis report {CausalImpact}\n",
      "\n",
      "\n",
      "During the post-intervention period, the response variable had\n",
      "an average value of approx. 0.0. In the absence of an\n",
      "intervention, we would have expected an average response of 0.0.\n",
      "The 95% interval of this counterfactual prediction is [0.0, 0.0].\n",
      "Subtracting this prediction from the observed response yields\n",
      "an estimate of the causal effect the intervention had on the\n",
      "response variable. This effect is -0.0 with a 95% interval of\n",
      "[-0.0, 0.0]. For a discussion of the significance of this effect,\n",
      "see below.\n",
      "\n",
      "\n",
      "Summing up the individual data points during the post-intervention\n",
      "period (which can only sometimes be meaningfully interpreted), the\n",
      "response variable had an overall value of 0.08.\n",
      "Had the intervention not taken place, we would have expected\n",
      "a sum of 0.08. The 95% interval of this prediction is [0.07, 0.1].\n",
      "\n",
      "\n",
      "The above results are given in terms of absolute numbers. In relative\n",
      "terms, the response variable showed a decrease of -3.23%. The 95%\n",
      "interval of this percentage is [-18.85%, 15.36%].\n",
      "This means that, although it may look as though the intervention has\n",
      "exerted a negative effect on the response variable when considering\n",
      "the intervention period as a whole, this effect is not statistically\n",
      "significant and so cannot be meaningfully interpreted.\n",
      "\n",
      "\n",
      "The apparent effect could be the result of random fluctuations that\n",
      "are unrelated to the intervention. This is often the case when the\n",
      "intervention period is very long and includes much of the time when\n",
      "the effect has already worn off. It can also be the case when the\n",
      "intervention period is too short to distinguish the signal from the\n",
      "noise. Finally, failing to find a significant effect can happen when\n",
      "there are not enough control variables or when these variables do not\n",
      "correlate well with the response variable during the learning period.\n",
      "\n",
      "\n",
      "The probability of obtaining this effect by chance is p = 35.46%.\n",
      "This means the effect may be spurious and would generally not be\n",
      "considered statistically significant.\n"
     ]
    },
    {
     "data": {
      "image/png": "[encoded data removed]",
      "text/plain": [
       "<Figure size 1080x864 with 3 Axes>"
      ]
     },
     "metadata": {
      "needs_background": "light"
     },
     "output_type": "display_data"
    }
   ],
   "source": [
    "print(ci.summary())\n",
    "print(ci.summary(output='report'))\n",
    "ci.plot()"
   ]
  },
  {
   "cell_type": "code",
   "execution_count": 254,
   "id": "64b63548-bca4-4f8b-8f01-1919788790f2",
   "metadata": {},
   "outputs": [
    {
     "name": "stdout",
     "output_type": "stream",
     "text": [
      "Posterior Inference {Causal Impact}\n",
      "                          Average            Cumulative\n",
      "Actual                    0.01               0.27\n",
      "Prediction (s.d.)         0.01 (0.0)         0.31 (0.02)\n",
      "95% CI                    [0.01, 0.02]       [0.27, 0.36]\n",
      "\n",
      "Absolute effect (s.d.)    -0.0 (0.0)         -0.05 (0.02)\n",
      "95% CI                    [-0.0, -0.0]       [-0.1, -0.0]\n",
      "\n",
      "Relative effect (s.d.)    -14.97% (7.98%)    -14.97% (7.98%)\n",
      "95% CI                    [-31.53%, -0.24%]  [-31.53%, -0.24%]\n",
      "\n",
      "Posterior tail-area probability p: 0.02\n",
      "Posterior prob. of a causal effect: 97.7%\n",
      "\n",
      "For more details run the command: print(impact.summary('report'))\n",
      "Analysis report {CausalImpact}\n",
      "\n",
      "\n",
      "During the post-intervention period, the response variable had\n",
      "an average value of approx. 0.01. By contrast, in the absence of an\n",
      "intervention, we would have expected an average response of 0.01.\n",
      "The 95% interval of this counterfactual prediction is [0.01, 0.02].\n",
      "Subtracting this prediction from the observed response yields\n",
      "an estimate of the causal effect the intervention had on the\n",
      "response variable. This effect is -0.0 with a 95% interval of\n",
      "[-0.0, -0.0]. For a discussion of the significance of this effect,\n",
      "see below.\n",
      "\n",
      "\n",
      "Summing up the individual data points during the post-intervention\n",
      "period (which can only sometimes be meaningfully interpreted), the\n",
      "response variable had an overall value of 0.27.\n",
      "By contrast, had the intervention not taken place, we would have expected\n",
      "a sum of 0.31. The 95% interval of this prediction is [0.27, 0.36].\n",
      "\n",
      "\n",
      "The above results are given in terms of absolute numbers. In relative\n",
      "terms, the response variable showed a decrease of -14.97%. The 95%\n",
      "interval of this percentage is [-31.53%, -0.24%].\n",
      "\n",
      "\n",
      "This means that the negative effect observed during the intervention\n",
      "period is statistically significant.\n",
      "If the experimenter had expected a positive effect, it is recommended\n",
      "to double-check whether anomalies in the control variables may have\n",
      "caused an overly optimistic expectation of what should have happened\n",
      "in the response variable in the absence of the intervention.\n",
      "\n",
      "\n",
      "The probability of obtaining this effect by chance is very small\n",
      "(Bayesian one-sided tail-area probability p = 0.02).\n",
      "This means the causal effect can be considered statistically\n",
      "significant.\n"
     ]
    },
    {
     "data": {
      "image/png": "[encoded data removed]",
      "text/plain": [
       "<Figure size 1080x864 with 3 Axes>"
      ]
     },
     "metadata": {
      "needs_background": "light"
     },
     "output_type": "display_data"
    }
   ],
   "source": [
    "print(ci2.summary())\n",
    "print(ci2.summary(output='report'))\n",
    "ci2.plot()"
   ]
  },
  {
   "cell_type": "code",
   "execution_count": 157,
   "id": "25e81b26-7f8a-40a8-8d5f-d45d84be3ed6",
   "metadata": {},
   "outputs": [
    {
     "name": "stderr",
     "output_type": "stream",
     "text": [
      "/Library/Frameworks/Python.framework/Versions/3.10/lib/python3.10/site-packages/statsmodels/base/optimizer.py:17: FutureWarning: Keyword arguments have been passed to the optimizer that have no effect. The list of allowed keyword arguments for method lbfgs is: m, pgtol, factr, maxfun, epsilon, approx_grad, bounds, loglike_and_score. The list of unsupported keyword arguments passed include: standardize, nseasons. After release 0.14, this will raise.\n",
      "  warnings.warn(\n"
     ]
    },
    {
     "name": "stdout",
     "output_type": "stream",
     "text": [
      "Posterior Inference {Causal Impact}\n",
      "                          Average            Cumulative\n",
      "Actual                    125.23             3756.86\n",
      "Prediction (s.d.)         120.39 (0.27)      3611.81 (8.04)\n",
      "95% CI                    [119.88, 120.93]   [3596.28, 3627.8]\n",
      "\n",
      "Absolute effect (s.d.)    4.84 (0.27)        145.06 (8.04)\n",
      "95% CI                    [4.3, 5.35]        [129.06, 160.58]\n",
      "\n",
      "Relative effect (s.d.)    4.02% (0.22%)      4.02% (0.22%)\n",
      "95% CI                    [3.57%, 4.45%]     [3.57%, 4.45%]\n",
      "\n",
      "Posterior tail-area probability p: 0.0\n",
      "Posterior prob. of a causal effect: 100.0%\n",
      "\n",
      "For more details run the command: print(impact.summary('report'))\n",
      "Analysis report {CausalImpact}\n",
      "\n",
      "\n",
      "During the post-intervention period, the response variable had\n",
      "an average value of approx. 125.23. By contrast, in the absence of an\n",
      "intervention, we would have expected an average response of 120.39.\n",
      "The 95% interval of this counterfactual prediction is [119.88, 120.93].\n",
      "Subtracting this prediction from the observed response yields\n",
      "an estimate of the causal effect the intervention had on the\n",
      "response variable. This effect is 4.84 with a 95% interval of\n",
      "[4.3, 5.35]. For a discussion of the significance of this effect,\n",
      "see below.\n",
      "\n",
      "\n",
      "Summing up the individual data points during the post-intervention\n",
      "period (which can only sometimes be meaningfully interpreted), the\n",
      "response variable had an overall value of 3756.86.\n",
      "By contrast, had the intervention not taken place, we would have expected\n",
      "a sum of 3611.81. The 95% interval of this prediction is [3596.28, 3627.8].\n",
      "\n",
      "\n",
      "The above results are given in terms of absolute numbers. In relative\n",
      "terms, the response variable showed an increase of +4.02%. The 95%\n",
      "interval of this percentage is [3.57%, 4.45%].\n",
      "\n",
      "\n",
      "This means that the positive effect observed during the intervention\n",
      "period is statistically significant and unlikely to be due to random\n",
      "fluctuations. It should be noted, however, that the question of whether\n",
      "this increase also bears substantive significance can only be answered\n",
      "by comparing the absolute effect (4.84) to the original goal\n",
      "of the underlying intervention.\n",
      "\n",
      "\n",
      "The probability of obtaining this effect by chance is very small\n",
      "(Bayesian one-sided tail-area probability p = 0.0).\n",
      "This means the causal effect can be considered statistically\n",
      "significant.\n"
     ]
    },
    {
     "data": {
      "image/png": "[encoded data removed]",
      "text/plain": [
       "<Figure size 1080x864 with 3 Axes>"
      ]
     },
     "metadata": {
      "needs_background": "light"
     },
     "output_type": "display_data"
    }
   ],
   "source": [
    "import numpy as np\n",
    "import pandas as pd\n",
    "from statsmodels.tsa.arima_process import ArmaProcess\n",
    "from causalimpact import CausalImpact\n",
    "\n",
    "\n",
    "np.random.seed(12345)\n",
    "ar = np.r_[1, 0.9]\n",
    "ma = np.array([1])\n",
    "arma_process = ArmaProcess(ar, ma)\n",
    "X = 100 + arma_process.generate_sample(nsample=100)\n",
    "y = 1.2 * X + np.random.normal(size=100)\n",
    "y[70:] += 5\n",
    "\n",
    "data = pd.DataFrame({'y': y, 'X': X}, columns=['y', 'X'])\n",
    "pre_period = [0, 69]\n",
    "post_period = [70, 99]\n",
    "\n",
    "ci = CausalImpact(data, pre_period, post_period)\n",
    "print(ci.summary())\n",
    "print(ci.summary(output='report'))\n",
    "ci.plot()"
   ]
  },
  {
   "cell_type": "code",
   "execution_count": null,
   "id": "13c76488-9432-40bc-914f-ba012819ce97",
   "metadata": {},
   "outputs": [],
   "source": []
  },
  {
   "cell_type": "code",
   "execution_count": null,
   "id": "b8474332-bbd9-4ad8-aae6-f3899bec3776",
   "metadata": {},
   "outputs": [],
   "source": []
  }
 ],
 "metadata": {
  "kernelspec": {
   "display_name": "Python 3 (ipykernel)",
   "language": "python",
   "name": "python3"
  },
  "language_info": {
   "codemirror_mode": {
    "name": "ipython",
    "version": 3
   },
   "file_extension": ".py",
   "mimetype": "text/x-python",
   "name": "python",
   "nbconvert_exporter": "python",
   "pygments_lexer": "ipython3",
   "version": "3.10.4"
  }
 },
 "nbformat": 4,
 "nbformat_minor": 5
}
