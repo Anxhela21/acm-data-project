{
 "cells": [
  {
   "cell_type": "code",
   "execution_count": 1,
   "id": "3f38e493-107c-47e6-b53c-c3f91a21d9f9",
   "metadata": {},
   "outputs": [],
   "source": [
    "import numpy as np\n",
    "import matplotlib.pyplot as plt\n",
    "import pandas as pd"
   ]
  },
  {
   "cell_type": "markdown",
   "id": "027fea9f-27fd-45a9-9754-48631d9ec978",
   "metadata": {},
   "source": [
    "This is the Managed Cluster, Hub Cluster Info Gathered from thanos, a total of 35 days worth of data."
   ]
  },
  {
   "cell_type": "code",
   "execution_count": 19,
   "id": "77706c35-bf8c-4e7d-b315-6ef4beb83822",
   "metadata": {},
   "outputs": [],
   "source": [
    "#cpu_ts = pd.read_csv('/Users/sponnur/PycharmProjects/pythonProject1/cpu_usage_2022_03_25_35_15m.csv')\n",
    "managed_cluster_df = pd.read_csv('/Users/sponnur/PycharmProjects/pythonProject1/managed_cluster_2022_03_26_35_15m.csv')"
   ]
  },
  {
   "cell_type": "code",
   "execution_count": 5,
   "id": "5c4f9541-67d9-4064-84d4-f6df8c5da968",
   "metadata": {},
   "outputs": [
    {
     "data": {
      "text/html": [
       "<div>\n",
       "<style scoped>\n",
       "    .dataframe tbody tr th:only-of-type {\n",
       "        vertical-align: middle;\n",
       "    }\n",
       "\n",
       "    .dataframe tbody tr th {\n",
       "        vertical-align: top;\n",
       "    }\n",
       "\n",
       "    .dataframe thead th {\n",
       "        text-align: right;\n",
       "    }\n",
       "</style>\n",
       "<table border=\"1\" class=\"dataframe\">\n",
       "  <thead>\n",
       "    <tr style=\"text-align: right;\">\n",
       "      <th></th>\n",
       "      <th>_id</th>\n",
       "      <th>hub_cluster_id</th>\n",
       "      <th>managed_cluster_id</th>\n",
       "      <th>vendor</th>\n",
       "    </tr>\n",
       "  </thead>\n",
       "  <tbody>\n",
       "    <tr>\n",
       "      <th>0</th>\n",
       "      <td>001ce673-3b85-489f-a443-88df28830a56</td>\n",
       "      <td>001ce673-3b85-489f-a443-88df28830a56</td>\n",
       "      <td>001ce673-3b85-489f-a443-88df28830a56</td>\n",
       "      <td>OpenShift</td>\n",
       "    </tr>\n",
       "    <tr>\n",
       "      <th>1</th>\n",
       "      <td>01a754f2-8cdb-4f28-b2e1-8fe592d5c1e1</td>\n",
       "      <td>01a754f2-8cdb-4f28-b2e1-8fe592d5c1e1</td>\n",
       "      <td>vanilla-k8s-cluster</td>\n",
       "      <td>Other</td>\n",
       "    </tr>\n",
       "    <tr>\n",
       "      <th>2</th>\n",
       "      <td>01a754f2-8cdb-4f28-b2e1-8fe592d5c1e1</td>\n",
       "      <td>01a754f2-8cdb-4f28-b2e1-8fe592d5c1e1</td>\n",
       "      <td>01a754f2-8cdb-4f28-b2e1-8fe592d5c1e1</td>\n",
       "      <td>OpenShift</td>\n",
       "    </tr>\n",
       "    <tr>\n",
       "      <th>3</th>\n",
       "      <td>01a754f2-8cdb-4f28-b2e1-8fe592d5c1e1</td>\n",
       "      <td>01a754f2-8cdb-4f28-b2e1-8fe592d5c1e1</td>\n",
       "      <td>d1e5c4e2-590a-4c86-bf24-3c525c824616</td>\n",
       "      <td>OpenShift</td>\n",
       "    </tr>\n",
       "    <tr>\n",
       "      <th>4</th>\n",
       "      <td>01ca0384-73e4-4948-a8d2-8f2e3629542b</td>\n",
       "      <td>01ca0384-73e4-4948-a8d2-8f2e3629542b</td>\n",
       "      <td>01ca0384-73e4-4948-a8d2-8f2e3629542b</td>\n",
       "      <td>OpenShift</td>\n",
       "    </tr>\n",
       "  </tbody>\n",
       "</table>\n",
       "</div>"
      ],
      "text/plain": [
       "                                    _id                        hub_cluster_id  \\\n",
       "0  001ce673-3b85-489f-a443-88df28830a56  001ce673-3b85-489f-a443-88df28830a56   \n",
       "1  01a754f2-8cdb-4f28-b2e1-8fe592d5c1e1  01a754f2-8cdb-4f28-b2e1-8fe592d5c1e1   \n",
       "2  01a754f2-8cdb-4f28-b2e1-8fe592d5c1e1  01a754f2-8cdb-4f28-b2e1-8fe592d5c1e1   \n",
       "3  01a754f2-8cdb-4f28-b2e1-8fe592d5c1e1  01a754f2-8cdb-4f28-b2e1-8fe592d5c1e1   \n",
       "4  01ca0384-73e4-4948-a8d2-8f2e3629542b  01ca0384-73e4-4948-a8d2-8f2e3629542b   \n",
       "\n",
       "                     managed_cluster_id     vendor  \n",
       "0  001ce673-3b85-489f-a443-88df28830a56  OpenShift  \n",
       "1                   vanilla-k8s-cluster      Other  \n",
       "2  01a754f2-8cdb-4f28-b2e1-8fe592d5c1e1  OpenShift  \n",
       "3  d1e5c4e2-590a-4c86-bf24-3c525c824616  OpenShift  \n",
       "4  01ca0384-73e4-4948-a8d2-8f2e3629542b  OpenShift  "
      ]
     },
     "execution_count": 5,
     "metadata": {},
     "output_type": "execute_result"
    }
   ],
   "source": [
    "managed_cluster_df.head()"
   ]
  },
  {
   "cell_type": "code",
   "execution_count": 20,
   "id": "b6ab7980-12e6-42cf-add6-74d2e581c876",
   "metadata": {},
   "outputs": [],
   "source": [
    "managed_cluster_df = managed_cluster_df.drop_duplicates(['_id','managed_cluster_id','hub_cluster_id'],keep= 'last')"
   ]
  },
  {
   "cell_type": "code",
   "execution_count": 21,
   "id": "8157e48b-d9cd-4887-869b-f0d0d402ed69",
   "metadata": {},
   "outputs": [
    {
     "data": {
      "text/plain": [
       "(7176, 4)"
      ]
     },
     "execution_count": 21,
     "metadata": {},
     "output_type": "execute_result"
    }
   ],
   "source": [
    "managed_cluster_df.shape"
   ]
  },
  {
   "cell_type": "markdown",
   "id": "1b7b7962-02ff-4659-933e-beb35631967f",
   "metadata": {},
   "source": [
    "All the _id's in the cluster are Hub Clusters"
   ]
  },
  {
   "cell_type": "code",
   "execution_count": 42,
   "id": "86fd2c24-e252-4b64-9c8a-a42e816280ad",
   "metadata": {},
   "outputs": [
    {
     "data": {
      "text/plain": [
       "(0, 5)"
      ]
     },
     "execution_count": 42,
     "metadata": {},
     "output_type": "execute_result"
    }
   ],
   "source": [
    "managed_cluster_df.loc[managed_cluster_df['_id']!=managed_cluster_df['hub_cluster_id']].shape"
   ]
  },
  {
   "cell_type": "code",
   "execution_count": 27,
   "id": "bf0e9663-6a07-445f-b607-3e56eea3c859",
   "metadata": {},
   "outputs": [],
   "source": [
    "managed_cluster_df['managed_count'] = managed_cluster_df.groupby('hub_cluster_id')['hub_cluster_id'].transform('count')"
   ]
  },
  {
   "cell_type": "markdown",
   "id": "d9b68191-21cd-4e41-a528-a134712f2025",
   "metadata": {},
   "source": [
    "Description of number of managed clusters under the hub cluster's"
   ]
  },
  {
   "cell_type": "code",
   "execution_count": 29,
   "id": "2899399c-407f-4900-bc44-24b17c7bf0f0",
   "metadata": {},
   "outputs": [
    {
     "data": {
      "text/plain": [
       "count    7176.000000\n",
       "mean        8.256410\n",
       "std        16.613895\n",
       "min         1.000000\n",
       "25%         2.000000\n",
       "50%         3.000000\n",
       "75%         5.000000\n",
       "max        98.000000\n",
       "Name: managed_count, dtype: float64"
      ]
     },
     "execution_count": 29,
     "metadata": {},
     "output_type": "execute_result"
    }
   ],
   "source": [
    "managed_cluster_df['managed_count'].describe()"
   ]
  },
  {
   "cell_type": "code",
   "execution_count": 25,
   "id": "c787e6d0-a745-4587-b149-5290d40bdc39",
   "metadata": {},
   "outputs": [
    {
     "data": {
      "text/html": [
       "<div>\n",
       "<style scoped>\n",
       "    .dataframe tbody tr th:only-of-type {\n",
       "        vertical-align: middle;\n",
       "    }\n",
       "\n",
       "    .dataframe tbody tr th {\n",
       "        vertical-align: top;\n",
       "    }\n",
       "\n",
       "    .dataframe thead th {\n",
       "        text-align: right;\n",
       "    }\n",
       "</style>\n",
       "<table border=\"1\" class=\"dataframe\">\n",
       "  <thead>\n",
       "    <tr style=\"text-align: right;\">\n",
       "      <th></th>\n",
       "      <th>_id</th>\n",
       "      <th>hub_cluster_id</th>\n",
       "      <th>managed_cluster_id</th>\n",
       "      <th>vendor</th>\n",
       "      <th>managed_count</th>\n",
       "    </tr>\n",
       "  </thead>\n",
       "  <tbody>\n",
       "    <tr>\n",
       "      <th>31543</th>\n",
       "      <td>001ce673-3b85-489f-a443-88df28830a56</td>\n",
       "      <td>001ce673-3b85-489f-a443-88df28830a56</td>\n",
       "      <td>001ce673-3b85-489f-a443-88df28830a56</td>\n",
       "      <td>OpenShift</td>\n",
       "      <td>1</td>\n",
       "    </tr>\n",
       "  </tbody>\n",
       "</table>\n",
       "</div>"
      ],
      "text/plain": [
       "                                        _id  \\\n",
       "31543  001ce673-3b85-489f-a443-88df28830a56   \n",
       "\n",
       "                             hub_cluster_id  \\\n",
       "31543  001ce673-3b85-489f-a443-88df28830a56   \n",
       "\n",
       "                         managed_cluster_id     vendor  managed_count  \n",
       "31543  001ce673-3b85-489f-a443-88df28830a56  OpenShift              1  "
      ]
     },
     "execution_count": 25,
     "metadata": {},
     "output_type": "execute_result"
    }
   ],
   "source": [
    "managed_cluster_df.loc[managed_cluster_df['_id'] == '001ce673-3b85-489f-a443-88df28830a56']"
   ]
  },
  {
   "cell_type": "markdown",
   "id": "93183f40-2850-4bab-b78b-757f69d44741",
   "metadata": {},
   "source": [
    "All the Managed_cluster_id's in the hub cluster are unique in the dataset (the hub cluster with maximum number of managed cluster)"
   ]
  },
  {
   "cell_type": "code",
   "execution_count": 31,
   "id": "fedd77e1-978d-4117-95ac-58a8c9506b1d",
   "metadata": {},
   "outputs": [
    {
     "data": {
      "text/plain": [
       "98"
      ]
     },
     "execution_count": 31,
     "metadata": {},
     "output_type": "execute_result"
    }
   ],
   "source": [
    "len(managed_cluster_df.loc[managed_cluster_df['managed_count'] == 98]['managed_cluster_id'].unique())"
   ]
  },
  {
   "cell_type": "code",
   "execution_count": 11,
   "id": "125163b3-d97d-4c95-ae6f-3e99b3ac8f0d",
   "metadata": {},
   "outputs": [
    {
     "data": {
      "text/plain": [
       "(3144, 4)"
      ]
     },
     "execution_count": 11,
     "metadata": {},
     "output_type": "execute_result"
    }
   ],
   "source": [
    "managed_cluster_df.loc[managed_cluster_df['hub_cluster_id'] == managed_cluster_df['managed_cluster_id']].shape"
   ]
  },
  {
   "cell_type": "code",
   "execution_count": 119,
   "id": "19bd00dc-e817-4d8e-be53-b8640ccf410b",
   "metadata": {},
   "outputs": [],
   "source": [
    "actual_managed_clusters = managed_cluster_df.loc[(managed_cluster_df['hub_cluster_id'] != managed_cluster_df['managed_cluster_id']) & (managed_cluster_df['managed_count'] > 1)]['managed_cluster_id'].unique()"
   ]
  },
  {
   "cell_type": "code",
   "execution_count": 66,
   "id": "f2695a2c-c9f8-40c7-9af0-0e496c145a30",
   "metadata": {},
   "outputs": [],
   "source": [
    "all_ids = managed_cluster_df['_id'].unique()"
   ]
  },
  {
   "cell_type": "code",
   "execution_count": 67,
   "id": "3b2e77d3-35a1-4633-b764-c1137e548d8b",
   "metadata": {},
   "outputs": [
    {
     "data": {
      "text/plain": [
       "3180"
      ]
     },
     "execution_count": 67,
     "metadata": {},
     "output_type": "execute_result"
    }
   ],
   "source": [
    "len(all_ids)"
   ]
  },
  {
   "cell_type": "markdown",
   "id": "4787748e-d2fb-43d9-baf1-8206f8fb785f",
   "metadata": {},
   "source": [
    "Checking if there are any hub cluster's in managed cluster list"
   ]
  },
  {
   "cell_type": "code",
   "execution_count": 71,
   "id": "ec8b587e-acca-41e3-9b9f-4408dafc26bf",
   "metadata": {},
   "outputs": [],
   "source": [
    "correct_ids = []\n",
    "wrong_ids = []\n",
    "for cluster_id in actual_managed_clusters:\n",
    "    if cluster_id in all_ids:\n",
    "        wrong_ids.append(cluster_id)\n",
    "    else:\n",
    "        correct_ids.append(cluster_id)"
   ]
  },
  {
   "cell_type": "code",
   "execution_count": 73,
   "id": "0df8f7c0-8e3a-4e9e-a26f-4fff943fc089",
   "metadata": {},
   "outputs": [
    {
     "data": {
      "text/plain": [
       "(3860,\n",
       " 39,\n",
       " ['1e0735c2-93ed-49fe-88be-c6680e1a5f4f',\n",
       "  'e2f209a5-c8bf-4217-bce3-a41852d793c9',\n",
       "  'd47ff408-3698-4c3f-ac6a-8832b846e67c',\n",
       "  '64049534-9100-4f3c-a7a2-e747e7e10067',\n",
       "  '17a68f83-34ca-43fc-9c28-8574b008cda8'])"
      ]
     },
     "execution_count": 73,
     "metadata": {},
     "output_type": "execute_result"
    }
   ],
   "source": [
    "len(correct_ids), len(wrong_ids), wrong_ids[:5]"
   ]
  },
  {
   "cell_type": "code",
   "execution_count": 101,
   "id": "a0f2dbb0-d831-48b2-8df4-678f5fcf9674",
   "metadata": {},
   "outputs": [],
   "source": [
    "subset_df = managed_cluster_df[managed_cluster_df['_id'].isin(all_ids)][['_id','vendor']]"
   ]
  },
  {
   "cell_type": "code",
   "execution_count": 102,
   "id": "e9fdd583-a421-4a51-96a5-49e68c28b93f",
   "metadata": {},
   "outputs": [],
   "source": [
    "subset_df = subset_df.drop_duplicates(['_id'],keep= 'last')"
   ]
  },
  {
   "cell_type": "code",
   "execution_count": 106,
   "id": "48f6db6b-5bf2-48a1-a955-b1b6a2c0ba04",
   "metadata": {},
   "outputs": [],
   "source": [
    "subset_df = subset_df.reset_index(drop=True)"
   ]
  },
  {
   "cell_type": "code",
   "execution_count": 110,
   "id": "97723ea8-eb05-4929-87db-6dfc99202b40",
   "metadata": {},
   "outputs": [],
   "source": [
    "subset_df['is_managed'] = 0"
   ]
  },
  {
   "cell_type": "code",
   "execution_count": 111,
   "id": "bf8b8750-4649-4d25-a10e-3991f50bd813",
   "metadata": {},
   "outputs": [
    {
     "data": {
      "text/html": [
       "<div>\n",
       "<style scoped>\n",
       "    .dataframe tbody tr th:only-of-type {\n",
       "        vertical-align: middle;\n",
       "    }\n",
       "\n",
       "    .dataframe tbody tr th {\n",
       "        vertical-align: top;\n",
       "    }\n",
       "\n",
       "    .dataframe thead th {\n",
       "        text-align: right;\n",
       "    }\n",
       "</style>\n",
       "<table border=\"1\" class=\"dataframe\">\n",
       "  <thead>\n",
       "    <tr style=\"text-align: right;\">\n",
       "      <th></th>\n",
       "      <th>_id</th>\n",
       "      <th>vendor</th>\n",
       "      <th>is_managed</th>\n",
       "    </tr>\n",
       "  </thead>\n",
       "  <tbody>\n",
       "    <tr>\n",
       "      <th>0</th>\n",
       "      <td>09b2a0d2-0a08-49b0-9754-76f08b527cdc</td>\n",
       "      <td>OpenShift</td>\n",
       "      <td>0</td>\n",
       "    </tr>\n",
       "    <tr>\n",
       "      <th>1</th>\n",
       "      <td>0aadd727-53e2-48a4-b141-6c1f36ed7125</td>\n",
       "      <td>OpenShift</td>\n",
       "      <td>0</td>\n",
       "    </tr>\n",
       "    <tr>\n",
       "      <th>2</th>\n",
       "      <td>1ebb492f-971d-4241-b5bb-09c999145293</td>\n",
       "      <td>OpenShift</td>\n",
       "      <td>0</td>\n",
       "    </tr>\n",
       "    <tr>\n",
       "      <th>3</th>\n",
       "      <td>3f34fb27-98d8-4264-b4e1-f5303ace1554</td>\n",
       "      <td>OpenShift</td>\n",
       "      <td>0</td>\n",
       "    </tr>\n",
       "    <tr>\n",
       "      <th>4</th>\n",
       "      <td>41336a57-f033-4a77-b255-8efac77eafb0</td>\n",
       "      <td>OpenShift</td>\n",
       "      <td>0</td>\n",
       "    </tr>\n",
       "  </tbody>\n",
       "</table>\n",
       "</div>"
      ],
      "text/plain": [
       "                                    _id     vendor  is_managed\n",
       "0  09b2a0d2-0a08-49b0-9754-76f08b527cdc  OpenShift           0\n",
       "1  0aadd727-53e2-48a4-b141-6c1f36ed7125  OpenShift           0\n",
       "2  1ebb492f-971d-4241-b5bb-09c999145293  OpenShift           0\n",
       "3  3f34fb27-98d8-4264-b4e1-f5303ace1554  OpenShift           0\n",
       "4  41336a57-f033-4a77-b255-8efac77eafb0  OpenShift           0"
      ]
     },
     "execution_count": 111,
     "metadata": {},
     "output_type": "execute_result"
    }
   ],
   "source": [
    "subset_df.head()"
   ]
  },
  {
   "cell_type": "code",
   "execution_count": 112,
   "id": "1220803a-616c-4d79-a571-d4710242be4b",
   "metadata": {},
   "outputs": [],
   "source": [
    "subset_df.to_csv('hub_cluster.csv',index=False)"
   ]
  },
  {
   "cell_type": "code",
   "execution_count": 113,
   "id": "00cacb29-8897-46d9-9e42-e7a4f5442a1b",
   "metadata": {},
   "outputs": [],
   "source": [
    "subset_managed_df = pd.DataFrame(correct_ids,columns=['_id'])"
   ]
  },
  {
   "cell_type": "code",
   "execution_count": 114,
   "id": "080cce61-0362-483f-8d0e-685a35c164de",
   "metadata": {},
   "outputs": [],
   "source": [
    "subset_managed_df['is_managed'] = 1"
   ]
  },
  {
   "cell_type": "code",
   "execution_count": 120,
   "id": "2e844abc-0a6b-4850-bde7-3cc992ee7079",
   "metadata": {},
   "outputs": [
    {
     "data": {
      "text/html": [
       "<div>\n",
       "<style scoped>\n",
       "    .dataframe tbody tr th:only-of-type {\n",
       "        vertical-align: middle;\n",
       "    }\n",
       "\n",
       "    .dataframe tbody tr th {\n",
       "        vertical-align: top;\n",
       "    }\n",
       "\n",
       "    .dataframe thead th {\n",
       "        text-align: right;\n",
       "    }\n",
       "</style>\n",
       "<table border=\"1\" class=\"dataframe\">\n",
       "  <thead>\n",
       "    <tr style=\"text-align: right;\">\n",
       "      <th></th>\n",
       "      <th>_id</th>\n",
       "      <th>is_managed</th>\n",
       "    </tr>\n",
       "  </thead>\n",
       "  <tbody>\n",
       "    <tr>\n",
       "      <th>0</th>\n",
       "      <td>2bc75860-484d-4d42-ae6f-51c24ef8d8c1</td>\n",
       "      <td>1</td>\n",
       "    </tr>\n",
       "    <tr>\n",
       "      <th>1</th>\n",
       "      <td>610f1232-d893-4d57-963c-231f770ac263</td>\n",
       "      <td>1</td>\n",
       "    </tr>\n",
       "    <tr>\n",
       "      <th>2</th>\n",
       "      <td>16df9f06-c73b-4056-a8af-520c706b8da5</td>\n",
       "      <td>1</td>\n",
       "    </tr>\n",
       "    <tr>\n",
       "      <th>3</th>\n",
       "      <td>fe357075-7bfe-46cc-b2d6-23cb6529bd6e</td>\n",
       "      <td>1</td>\n",
       "    </tr>\n",
       "    <tr>\n",
       "      <th>4</th>\n",
       "      <td>f6e140ed-ace2-42f4-9f51-ec83ddb59478</td>\n",
       "      <td>1</td>\n",
       "    </tr>\n",
       "  </tbody>\n",
       "</table>\n",
       "</div>"
      ],
      "text/plain": [
       "                                    _id  is_managed\n",
       "0  2bc75860-484d-4d42-ae6f-51c24ef8d8c1           1\n",
       "1  610f1232-d893-4d57-963c-231f770ac263           1\n",
       "2  16df9f06-c73b-4056-a8af-520c706b8da5           1\n",
       "3  fe357075-7bfe-46cc-b2d6-23cb6529bd6e           1\n",
       "4  f6e140ed-ace2-42f4-9f51-ec83ddb59478           1"
      ]
     },
     "execution_count": 120,
     "metadata": {},
     "output_type": "execute_result"
    }
   ],
   "source": [
    "subset_managed_df.head()"
   ]
  },
  {
   "cell_type": "code",
   "execution_count": 116,
   "id": "94ed86f9-f358-4701-a32e-06b068219f0b",
   "metadata": {},
   "outputs": [],
   "source": [
    "subset_managed_df.to_csv(\"managed_clusters.csv\",index=False)"
   ]
  }
 ],
 "metadata": {
  "kernelspec": {
   "display_name": "Python 3 (ipykernel)",
   "language": "python",
   "name": "python3"
  },
  "language_info": {
   "codemirror_mode": {
    "name": "ipython",
    "version": 3
   },
   "file_extension": ".py",
   "mimetype": "text/x-python",
   "name": "python",
   "nbconvert_exporter": "python",
   "pygments_lexer": "ipython3",
   "version": "3.10.4"
  }
 },
 "nbformat": 4,
 "nbformat_minor": 5
}
